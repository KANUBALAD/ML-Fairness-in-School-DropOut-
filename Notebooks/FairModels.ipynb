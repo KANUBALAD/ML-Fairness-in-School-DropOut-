{
 "cells": [
  {
   "cell_type": "code",
   "execution_count": 1,
   "id": "ad70876d-28b9-4707-b346-e68090450b21",
   "metadata": {},
   "outputs": [],
   "source": [
    "%load_ext autoreload\n",
    "%autoreload 2"
   ]
  },
  {
   "cell_type": "code",
   "execution_count": 3,
   "id": "27b4ae38-a49d-408c-aa43-62c52e39ad5b",
   "metadata": {},
   "outputs": [],
   "source": [
    "import os\n",
    "import sys\n",
    "sys.path.append(\"../scripts/\")\n",
    "import warnings\n",
    "import numpy as np\n",
    "import aif360\n",
    "import eval_metrics as evaluation\n",
    "import load_data as data_load\n",
    "import pandas as pd\n",
    "import matplotlib.pyplot as plt\n",
    "from sklearn.linear_model import LogisticRegression\n",
    "from sklearn.ensemble import RandomForestClassifier\n",
    "from aif360.metrics import BinaryLabelDatasetMetric\n",
    "from aif360.algorithms.preprocessing import DisparateImpactRemover\n",
    "warnings.filterwarnings(\"ignore\")\n"
   ]
  },
  {
   "cell_type": "code",
   "execution_count": 4,
   "id": "2b021053-50a3-4768-b2c9-be5f876d9a98",
   "metadata": {},
   "outputs": [],
   "source": [
    "path_to_csv = '../dataset/dataset.csv'\n",
    "test_size = 0.3\n",
    "random_seed = 1"
   ]
  },
  {
   "cell_type": "code",
   "execution_count": 5,
   "id": "d00f7595-61c8-48fa-8c2e-cf60603def5c",
   "metadata": {},
   "outputs": [],
   "source": [
    "# X_train, X_test, y_train, y_test, sens_train, sens_test= data_load.load_preprocessing_split(path_to_csv, split_data = True, unawareness= True,\n",
    "#                                                                                          test_size=test_size, random_state=random_seed)\n",
    "\n",
    "df, X, y, sensitive_attribute = data_load.load_preprocessing_split(path_to_csv, split_data = False, unawareness= False,\n",
    "                                                                                         test_size=test_size, random_state=random_seed)"
   ]
  },
  {
   "cell_type": "code",
   "execution_count": 9,
   "id": "2b4cd033-2eaa-4aa2-bf80-4fe613e57e91",
   "metadata": {},
   "outputs": [],
   "source": [
    "\n",
    "binaryLabelDataset = aif360.datasets.BinaryLabelDataset(\n",
    "    favorable_label=1,\n",
    "    unfavorable_label=0,\n",
    "    df=df,\n",
    "    label_names=['Target'],\n",
    "    protected_attribute_names=['Gender'])"
   ]
  },
  {
   "cell_type": "markdown",
   "id": "4a6a3e04-d294-4771-abdf-0ebaf3f9c3f7",
   "metadata": {},
   "source": [
    "## Test for Fairness on original datasets before"
   ]
  },
  {
   "cell_type": "code",
   "execution_count": 10,
   "id": "e4f8bbd3-c5ff-4d57-a595-bed38d5b42d7",
   "metadata": {},
   "outputs": [
    {
     "name": "stdout",
     "output_type": "stream",
     "text": [
      "Disparate Impact:  0.5572433881066498\n",
      "Statistical Parity Difference:  -0.1994681137128782\n"
     ]
    }
   ],
   "source": [
    "metric = BinaryLabelDatasetMetric(binaryLabelDataset, \n",
    "                                  unprivileged_groups=[{'Gender': 0}], \n",
    "                                  privileged_groups=[{'Gender': 1}])\n",
    "print(\"Disparate Impact: \", metric.disparate_impact())\n",
    "print(\"Statistical Parity Difference: \", metric.statistical_parity_difference())"
   ]
  },
  {
   "cell_type": "code",
   "execution_count": 20,
   "id": "6c257fda-97ec-4c46-87d3-0c4ba6062ca0",
   "metadata": {},
   "outputs": [
    {
     "name": "stdout",
     "output_type": "stream",
     "text": [
      "Number of females that drop out are 720 and no drop out 2148, hence disparate is 0.7489539748953975\n",
      "Number of males that drop out are 701 and no drop out 855, hence disparate impact is 0.5494858611825193\n"
     ]
    }
   ],
   "source": [
    "df_female = df[df['Gender'] == 0]# females\n",
    "\n",
    "df_male = df[df['Gender'] == 1]# males\n",
    "\n",
    "female_nodrop = df_female['Target'].value_counts()[0]\n",
    "female_drop = df_female['Target'].value_counts()[1]\n",
    "\n",
    "male_nodrop = df_male['Target'].value_counts()[0]\n",
    "male_drop = df_male['Target'].value_counts()[1]\n",
    "\n",
    "print(f'Number of females that drop out are {female_drop} and no drop out {female_nodrop}, hence disparate is {female_nodrop/len(df_female)}')\n",
    "print(f'Number of males that drop out are {male_drop} and no drop out {male_nodrop}, hence disparate impact is {male_nodrop/len(df_male)}')"
   ]
  },
  {
   "cell_type": "markdown",
   "id": "63219e29-fc15-4411-bfb2-de70c27c41d5",
   "metadata": {},
   "source": [
    "### Reweighting (Pre Processing Method)"
   ]
  },
  {
   "cell_type": "code",
   "execution_count": 21,
   "id": "94d74502-1112-4520-b954-1a53aa220b15",
   "metadata": {},
   "outputs": [],
   "source": [
    "'''\n",
    "Gender \n",
    "\n",
    "1: Male\n",
    "0: Female\n",
    "'''\n",
    "\n",
    "from aif360.algorithms.preprocessing import Reweighing\n",
    "RW = Reweighing(unprivileged_groups=[{'Gender': 0}], \n",
    "                privileged_groups=[{'Gender': 1}])\n",
    "dataset_transf = RW.fit_transform(binaryLabelDataset)"
   ]
  },
  {
   "cell_type": "markdown",
   "id": "daec8f11-2490-48df-a4ba-0191a84330dd",
   "metadata": {},
   "source": [
    "### Test for Fairness on original datasets after accounting for fairness"
   ]
  },
  {
   "cell_type": "code",
   "execution_count": 22,
   "id": "5f6b3e5c-58f8-4f04-a366-187304c3bebf",
   "metadata": {},
   "outputs": [
    {
     "name": "stdout",
     "output_type": "stream",
     "text": [
      "Disparate Impact:  1.0\n",
      "Statistical Parity Difference:  0.0\n"
     ]
    }
   ],
   "source": [
    "\n",
    "metric = BinaryLabelDatasetMetric(dataset_transf, \n",
    "                                  unprivileged_groups=[{'Gender': 0}], \n",
    "                                  privileged_groups=[{'Gender': 1}])\n",
    "print(\"Disparate Impact: \", metric.disparate_impact())\n",
    "print(\"Statistical Parity Difference: \", metric.statistical_parity_difference())"
   ]
  },
  {
   "cell_type": "code",
   "execution_count": 42,
   "id": "1d33e099-fdf0-4ac3-879d-5f9850bc104e",
   "metadata": {},
   "outputs": [],
   "source": [
    "# transformed_df = dataset_transf.convert_to_dataframe()\n",
    "# convert_to_dataframe(dataset_transf=False)"
   ]
  },
  {
   "cell_type": "code",
   "execution_count": null,
   "id": "fee30903-de81-4fb5-88c9-187b2f7fc1bf",
   "metadata": {},
   "outputs": [],
   "source": []
  },
  {
   "cell_type": "code",
   "execution_count": null,
   "id": "ca9c7aff-6edd-4b18-a6a0-e8507ac38b43",
   "metadata": {},
   "outputs": [],
   "source": []
  }
 ],
 "metadata": {
  "kernelspec": {
   "display_name": "beyondgerman",
   "language": "python",
   "name": "beyondgerman"
  },
  "language_info": {
   "codemirror_mode": {
    "name": "ipython",
    "version": 3
   },
   "file_extension": ".py",
   "mimetype": "text/x-python",
   "name": "python",
   "nbconvert_exporter": "python",
   "pygments_lexer": "ipython3",
   "version": "3.9.12"
  }
 },
 "nbformat": 4,
 "nbformat_minor": 5
}
