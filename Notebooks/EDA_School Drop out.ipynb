{
 "cells": [
  {
   "cell_type": "markdown",
   "id": "429fcaf9-ea69-4dac-af29-3930e0cb9f08",
   "metadata": {},
   "source": [
    "## Exploratory Data Analysis of the Data"
   ]
  },
  {
   "cell_type": "code",
   "execution_count": 1,
   "id": "51fe12a0-0f68-4ef8-b896-9b9d754c9c03",
   "metadata": {},
   "outputs": [],
   "source": [
    "import pandas as pd"
   ]
  },
  {
   "cell_type": "code",
   "execution_count": null,
   "id": "fcb8c31b-edd2-4e2f-a119-0c4e2b112976",
   "metadata": {},
   "outputs": [],
   "source": [
    "df_school = pd.read_csv('dataset.csv')"
   ]
  }
 ],
 "metadata": {
  "kernelspec": {
   "display_name": "Python 3 (ipykernel)",
   "language": "python",
   "name": "python3"
  },
  "language_info": {
   "codemirror_mode": {
    "name": "ipython",
    "version": 3
   },
   "file_extension": ".py",
   "mimetype": "text/x-python",
   "name": "python",
   "nbconvert_exporter": "python",
   "pygments_lexer": "ipython3",
   "version": "3.9.12"
  }
 },
 "nbformat": 4,
 "nbformat_minor": 5
}
