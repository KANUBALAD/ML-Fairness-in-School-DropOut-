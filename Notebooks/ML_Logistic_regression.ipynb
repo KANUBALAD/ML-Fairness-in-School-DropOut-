{
 "cells": [
  {
   "cell_type": "code",
   "execution_count": 1,
   "metadata": {},
   "outputs": [],
   "source": [
    "\n",
    "# Data handling\n",
    "import pandas as pd\n",
    "import numpy as np\n",
    "# import fairmetrics\n",
    "\n",
    "# Vizualisation (Matplotlib, Plotly, Seaborn, etc. )\n",
    "import seaborn as sns\n",
    "import matplotlib.pyplot as plt\n",
    "\n",
    "# EDA (pandas-profiling, etc. )\n",
    "...\n",
    "\n",
    "# Feature Processing (Scikit-learn processing, etc. )\n",
    "from sklearn.model_selection import train_test_split\n",
    "from sklearn.impute import SimpleImputer, KNNImputer\n",
    "from sklearn.preprocessing import StandardScaler, RobustScaler, OneHotEncoder\n",
    "\n",
    "# Machine Learning (Scikit-learn Estimators, Catboost, LightGBM, etc. )\n",
    "from sklearn.linear_model import LinearRegression\n",
    "from sklearn.neighbors import KNeighborsClassifier\n",
    "from sklearn.ensemble import RandomForestClassifier, GradientBoostingClassifier, AdaBoostClassifier\n",
    "\n",
    "\n",
    "from sklearn.metrics import classification_report#, accuracy\n",
    "\n",
    "# Hyperparameters Fine-tuning (Scikit-learn hp search, cross-validation, etc. )\n",
    "...\n",
    "\n",
    "# Other packages\n",
    "import os\n",
    "\n",
    "import warnings\n",
    "warnings.filterwarnings('ignore')"
   ]
  },
  {
   "cell_type": "code",
   "execution_count": 2,
   "metadata": {},
   "outputs": [],
   "source": [
    "df_school = pd.read_csv('../dataset/dataset.csv')"
   ]
  },
  {
   "cell_type": "code",
   "execution_count": 3,
   "metadata": {},
   "outputs": [
    {
     "data": {
      "text/plain": [
       "array(['Dropout', 'Graduate', 'Enrolled'], dtype=object)"
      ]
     },
     "execution_count": 3,
     "metadata": {},
     "output_type": "execute_result"
    }
   ],
   "source": [
    "df_school['Target'].unique()"
   ]
  },
  {
   "cell_type": "code",
   "execution_count": 4,
   "metadata": {},
   "outputs": [],
   "source": [
    "df_school['Target'] = np.where(df_school['Target'] == 'Dropout', 'YES', 'NO')\n",
    "# Convert 'Dropout_Flag' to numeric values: 1 for 'YES', 0 for 'NO'\n",
    "df_school['Target'] = df_school['Target'].apply(lambda x: 1 if x == 'YES' else 0)"
   ]
  },
  {
   "cell_type": "code",
   "execution_count": 5,
   "metadata": {},
   "outputs": [
    {
     "data": {
      "image/png": "[encoded data removed]",
      "text/plain": [
       "<Figure size 576x432 with 1 Axes>"
      ]
     },
     "metadata": {
      "needs_background": "light"
     },
     "output_type": "display_data"
    }
   ],
   "source": [
    "target_counts = df_school['Target'].value_counts()\n",
    "\n",
    "# Create a bar plot for visualization\n",
    "plt.figure(figsize=(8, 6))\n",
    "sns.barplot(x=target_counts.index, y=target_counts.values)\n",
    "plt.title('Distribution of Target Variable')\n",
    "plt.xlabel('Target')\n",
    "plt.ylabel('Count')\n",
    "plt.xticks(ticks=[0, 1], labels=['NO', 'YES'])  # Ensure that x-ticks correspond to 'NO' and 'YES'\n",
    "plt.show()"
   ]
  },
  {
   "cell_type": "code",
   "execution_count": 6,
   "metadata": {},
   "outputs": [
    {
     "data": {
      "text/plain": [
       "dtype('int64')"
      ]
     },
     "execution_count": 6,
     "metadata": {},
     "output_type": "execute_result"
    }
   ],
   "source": [
    "df_school['Target'].dtype"
   ]
  },
  {
   "cell_type": "code",
   "execution_count": 7,
   "metadata": {},
   "outputs": [
    {
     "name": "stdout",
     "output_type": "stream",
     "text": [
      "There are 35 numeric columns: ['Unemployment rate', \"Father's qualification\", 'Curricular units 1st sem (evaluations)', 'Curricular units 2nd sem (without evaluations)', 'Target', \"Father's occupation\", \"Mother's occupation\", \"Mother's qualification\", 'Daytime/evening attendance', 'Application mode', 'Application order', 'Gender', 'Curricular units 1st sem (without evaluations)', 'Inflation rate', 'Displaced', 'International', 'Marital status', 'Scholarship holder', 'Debtor', 'Age at enrollment', 'Curricular units 2nd sem (credited)', 'GDP', 'Curricular units 2nd sem (grade)', 'Course', 'Curricular units 2nd sem (approved)', 'Curricular units 1st sem (approved)', 'Previous qualification', 'Curricular units 1st sem (credited)', 'Curricular units 2nd sem (evaluations)', 'Educational special needs', 'Nacionality', 'Curricular units 1st sem (enrolled)', 'Tuition fees up to date', 'Curricular units 2nd sem (enrolled)', 'Curricular units 1st sem (grade)']\n",
      "There are 0 categorical columns: []\n"
     ]
    }
   ],
   "source": [
    "# Identify the numeric columns common to both 'test' and 'df_school' DataFrames\n",
    "numeric_columns = list(set(df_school.select_dtypes(include='number').columns))\n",
    "\n",
    "# Identify the categorical columns common to both 'test' and 'df_school' DataFrames\n",
    "categorical_columns = list(set(df_school.select_dtypes(exclude='number').columns))\n",
    "\n",
    "# Display the count and the list of numeric and categorical columns\n",
    "print(f\"There are {len(numeric_columns)} numeric columns: {numeric_columns}\")\n",
    "print(f\"There are {len(categorical_columns)} categorical columns: {categorical_columns}\")\n"
   ]
  },
  {
   "cell_type": "markdown",
   "metadata": {},
   "source": [
    "# Model 1: Fairness through awareness"
   ]
  },
  {
   "cell_type": "code",
   "execution_count": 8,
   "metadata": {},
   "outputs": [],
   "source": [
    "y=df_school['Target']\n",
    "X=df_school.iloc[:,:-1]"
   ]
  },
  {
   "cell_type": "code",
   "execution_count": 9,
   "metadata": {},
   "outputs": [
    {
     "name": "stdout",
     "output_type": "stream",
     "text": [
      "<class 'pandas.core.frame.DataFrame'>\n",
      "RangeIndex: 4424 entries, 0 to 4423\n",
      "Data columns (total 34 columns):\n",
      " #   Column                                          Non-Null Count  Dtype  \n",
      "---  ------                                          --------------  -----  \n",
      " 0   Marital status                                  4424 non-null   int64  \n",
      " 1   Application mode                                4424 non-null   int64  \n",
      " 2   Application order                               4424 non-null   int64  \n",
      " 3   Course                                          4424 non-null   int64  \n",
      " 4   Daytime/evening attendance                      4424 non-null   int64  \n",
      " 5   Previous qualification                          4424 non-null   int64  \n",
      " 6   Nacionality                                     4424 non-null   int64  \n",
      " 7   Mother's qualification                          4424 non-null   int64  \n",
      " 8   Father's qualification                          4424 non-null   int64  \n",
      " 9   Mother's occupation                             4424 non-null   int64  \n",
      " 10  Father's occupation                             4424 non-null   int64  \n",
      " 11  Displaced                                       4424 non-null   int64  \n",
      " 12  Educational special needs                       4424 non-null   int64  \n",
      " 13  Debtor                                          4424 non-null   int64  \n",
      " 14  Tuition fees up to date                         4424 non-null   int64  \n",
      " 15  Gender                                          4424 non-null   int64  \n",
      " 16  Scholarship holder                              4424 non-null   int64  \n",
      " 17  Age at enrollment                               4424 non-null   int64  \n",
      " 18  International                                   4424 non-null   int64  \n",
      " 19  Curricular units 1st sem (credited)             4424 non-null   int64  \n",
      " 20  Curricular units 1st sem (enrolled)             4424 non-null   int64  \n",
      " 21  Curricular units 1st sem (evaluations)          4424 non-null   int64  \n",
      " 22  Curricular units 1st sem (approved)             4424 non-null   int64  \n",
      " 23  Curricular units 1st sem (grade)                4424 non-null   float64\n",
      " 24  Curricular units 1st sem (without evaluations)  4424 non-null   int64  \n",
      " 25  Curricular units 2nd sem (credited)             4424 non-null   int64  \n",
      " 26  Curricular units 2nd sem (enrolled)             4424 non-null   int64  \n",
      " 27  Curricular units 2nd sem (evaluations)          4424 non-null   int64  \n",
      " 28  Curricular units 2nd sem (approved)             4424 non-null   int64  \n",
      " 29  Curricular units 2nd sem (grade)                4424 non-null   float64\n",
      " 30  Curricular units 2nd sem (without evaluations)  4424 non-null   int64  \n",
      " 31  Unemployment rate                               4424 non-null   float64\n",
      " 32  Inflation rate                                  4424 non-null   float64\n",
      " 33  GDP                                             4424 non-null   float64\n",
      "dtypes: float64(5), int64(29)\n",
      "memory usage: 1.1 MB\n"
     ]
    }
   ],
   "source": [
    "X.info()"
   ]
  },
  {
   "cell_type": "markdown",
   "metadata": {},
   "source": [
    "#### Training the Model with Logistic Regression"
   ]
  },
  {
   "cell_type": "code",
   "execution_count": 10,
   "metadata": {},
   "outputs": [],
   "source": [
    "from sklearn.linear_model import LogisticRegression\n",
    "from sklearn.metrics import classification_report\n",
    "from sklearn.metrics import log_loss\n",
    "from sklearn.metrics import confusion_matrix\n",
    "from sklearn.metrics import accuracy_score\n",
    "from sklearn.metrics import precision_score, recall_score, f1_score\n"
   ]
  },
  {
   "cell_type": "code",
   "execution_count": 11,
   "metadata": {},
   "outputs": [
    {
     "name": "stdout",
     "output_type": "stream",
     "text": [
      "Cross-Entropy Loss: 4.253959111138861\n"
     ]
    }
   ],
   "source": [
    "# spliting the data into training and test\n",
    "X_train, X_test, y_train, y_test = train_test_split(X, y, test_size=0.2, random_state=1)\n",
    "\n",
    "import warnings\n",
    "from sklearn.exceptions import ConvergenceWarning\n",
    "\n",
    "# create the model\n",
    "log_reg = LogisticRegression()\n",
    "\n",
    "# fit the model on the training data\n",
    "with warnings.catch_warnings():\n",
    "    warnings.simplefilter(\"ignore\", category=ConvergenceWarning)\n",
    "    log_reg.fit(X=X_train, y=y_train)\n",
    "\n",
    "# make predictions on the testing data\n",
    "y_pred = log_reg.predict(X_test)\n",
    "\n",
    "# calculate cross-entropy loss\n",
    "cel = log_loss(y_test, y_pred)\n",
    "\n",
    "print(\"Cross-Entropy Loss:\", cel)\n"
   ]
  },
  {
   "cell_type": "code",
   "execution_count": 12,
   "metadata": {},
   "outputs": [
    {
     "name": "stdout",
     "output_type": "stream",
     "text": [
      "Accuracy Score:  0.8768361581920904\n",
      "Precision Score:  0.8540772532188842\n",
      "Recall Score:  0.7262773722627737\n",
      "F1 Score:  0.7850098619329388\n"
     ]
    }
   ],
   "source": [
    "print(\"Accuracy Score: \",accuracy_score(y_test,y_pred))\n",
    "print(\"Precision Score: \", precision_score(y_test, y_pred))\n",
    "print(\"Recall Score: \", recall_score(y_test, y_pred))\n",
    "print(\"F1 Score: \", f1_score(y_test, y_pred))\n"
   ]
  },
  {
   "cell_type": "code",
   "execution_count": 13,
   "metadata": {},
   "outputs": [],
   "source": [
    "def plot_confusions(ytest, ypred):\n",
    "    cm = confusion_matrix(y_test, y_pred)\n",
    "    plt.figure(figsize=(8, 6))\n",
    "    sns.heatmap(cm, annot=True, fmt='d', cmap='Blues', xticklabels=['Predicted 0', 'Predicted 1'], yticklabels=['Actual 0', 'Actual 1'])\n",
    "    plt.ylabel('Actual')\n",
    "    plt.xlabel('Predicted')\n",
    "    plt.show()"
   ]
  },
  {
   "cell_type": "code",
   "execution_count": 14,
   "metadata": {},
   "outputs": [
    {
     "data": {
      "image/png": "[encoded data removed]",
      "text/plain": [
       "<Figure size 576x432 with 2 Axes>"
      ]
     },
     "metadata": {
      "needs_background": "light"
     },
     "output_type": "display_data"
    }
   ],
   "source": [
    "plot_confusions(y_test,y_pred)"
   ]
  },
  {
   "cell_type": "markdown",
   "metadata": {},
   "source": [
    "## PERFORMANCE ACROSS GROUPS FOR FAIRNESS"
   ]
  },
  {
   "cell_type": "code",
   "execution_count": 15,
   "metadata": {},
   "outputs": [],
   "source": [
    "fairX = X_test.copy()\n",
    "fairX['ytest'] = y_test\n",
    "fairX['predictions'] = y_pred"
   ]
  },
  {
   "cell_type": "code",
   "execution_count": 16,
   "metadata": {},
   "outputs": [],
   "source": [
    "female_df= fairX[fairX.Gender==0]\n",
    "male_df= fairX[fairX.Gender==1]"
   ]
  },
  {
   "cell_type": "code",
   "execution_count": 17,
   "metadata": {},
   "outputs": [
    {
     "name": "stdout",
     "output_type": "stream",
     "text": [
      "Accuracy Score for females:  0.9\n",
      "Precision Score for females:  0.8620689655172413\n",
      "Recall Score for females:  0.6944444444444444\n",
      "F1 Score for females:  0.7692307692307692\n"
     ]
    }
   ],
   "source": [
    "print(\"Accuracy Score for females: \",accuracy_score(female_df.ytest, female_df.predictions))\n",
    "print(\"Precision Score for females: \", precision_score(female_df.ytest, female_df.predictions))\n",
    "print(\"Recall Score for females: \", recall_score(female_df.ytest, female_df.predictions))\n",
    "print(\"F1 Score for females: \", f1_score(female_df.ytest, female_df.predictions))"
   ]
  },
  {
   "cell_type": "code",
   "execution_count": 18,
   "metadata": {},
   "outputs": [
    {
     "data": {
      "image/png": "[encoded data removed]",
      "text/plain": [
       "<Figure size 576x432 with 2 Axes>"
      ]
     },
     "metadata": {
      "needs_background": "light"
     },
     "output_type": "display_data"
    }
   ],
   "source": [
    "plot_confusions(female_df.ytest, female_df.predictions)"
   ]
  },
  {
   "cell_type": "code",
   "execution_count": 19,
   "metadata": {},
   "outputs": [
    {
     "name": "stdout",
     "output_type": "stream",
     "text": [
      "Accuracy Score for males:  0.8280701754385965\n",
      "Precision Score for males:  0.8461538461538461\n",
      "Recall Score for males:  0.7615384615384615\n",
      "F1 Score for males:  0.8016194331983805\n"
     ]
    }
   ],
   "source": [
    "print(\"Accuracy Score for males: \",accuracy_score(male_df.ytest, male_df.predictions))\n",
    "print(\"Precision Score for males: \", precision_score(male_df.ytest, male_df.predictions))\n",
    "print(\"Recall Score for males: \", recall_score(male_df.ytest, male_df.predictions))\n",
    "print(\"F1 Score for males: \", f1_score(male_df.ytest, male_df.predictions))"
   ]
  },
  {
   "cell_type": "code",
   "execution_count": 20,
   "metadata": {},
   "outputs": [
    {
     "data": {
      "image/png": "[encoded data removed]",
      "text/plain": [
       "<Figure size 576x432 with 2 Axes>"
      ]
     },
     "metadata": {
      "needs_background": "light"
     },
     "output_type": "display_data"
    }
   ],
   "source": [
    "plot_confusions(male_df.ytest, male_df.predictions)\n"
   ]
  },
  {
   "cell_type": "code",
   "execution_count": 21,
   "metadata": {},
   "outputs": [],
   "source": [
    "# mask = X_test.Gender\n",
    "# fairmetrics.get_statistics(log_reg, X_test, y_test.values, y_pred, mask.values, confusion=True)"
   ]
  },
  {
   "cell_type": "code",
   "execution_count": 22,
   "metadata": {},
   "outputs": [],
   "source": [
    "# Model 2: Fairness"
   ]
  },
  {
   "cell_type": "code",
   "execution_count": 23,
   "metadata": {},
   "outputs": [
    {
     "name": "stdout",
     "output_type": "stream",
     "text": [
      "                                           Feature  Importance\n",
      "14                         Tuition fees up to date           1\n",
      "16                              Scholarship holder           2\n",
      "18                                   International           3\n",
      "28             Curricular units 2nd sem (approved)           4\n",
      "26             Curricular units 2nd sem (enrolled)           5\n",
      "13                                          Debtor           6\n",
      "25             Curricular units 2nd sem (credited)           7\n",
      "15                                          Gender           8\n",
      "22             Curricular units 1st sem (approved)           9\n",
      "24  Curricular units 1st sem (without evaluations)          10\n",
      "0                                   Marital status          11\n",
      "11                                       Displaced          12\n",
      "3                                           Course          13\n",
      "31                               Unemployment rate          14\n",
      "30  Curricular units 2nd sem (without evaluations)          15\n",
      "2                                Application order          16\n",
      "29                Curricular units 2nd sem (grade)          17\n",
      "9                              Mother's occupation          18\n",
      "17                               Age at enrollment          19\n",
      "12                       Educational special needs          20\n",
      "32                                  Inflation rate          21\n",
      "19             Curricular units 1st sem (credited)          22\n",
      "23                Curricular units 1st sem (grade)          23\n",
      "10                             Father's occupation          24\n",
      "20             Curricular units 1st sem (enrolled)          25\n",
      "21          Curricular units 1st sem (evaluations)          26\n",
      "4                       Daytime/evening attendance          27\n",
      "33                                             GDP          28\n",
      "27          Curricular units 2nd sem (evaluations)          29\n",
      "7                           Mother's qualification          30\n",
      "6                                      Nacionality          31\n",
      "5                           Previous qualification          32\n",
      "1                                 Application mode          33\n",
      "8                           Father's qualification          34\n"
     ]
    },
    {
     "data": {
      "image/png": "[encoded data removed]",
      "text/plain": [
       "<Figure size 720x432 with 1 Axes>"
      ]
     },
     "metadata": {
      "needs_background": "light"
     },
     "output_type": "display_data"
    }
   ],
   "source": [
    "from sklearn.feature_selection import RFE\n",
    "\n",
    "# Create the RFE object and rank each feature\n",
    "rfe = RFE(estimator=log_reg, n_features_to_select=1)\n",
    "rfe = rfe.fit(X_train, y_train)\n",
    "\n",
    "# Rank features by importance\n",
    "ranking = rfe.ranking_\n",
    "ranked_features = pd.DataFrame({'Feature': X.columns, 'Importance': ranking})\n",
    "print(ranked_features.sort_values('Importance'))\n",
    "\n",
    "# Sort the DataFrame by importance\n",
    "ranked_features_sorted = ranked_features.sort_values('Importance')\n",
    "\n",
    "\n",
    "plt.figure(figsize=(10, 6))\n",
    "plt.barh(ranked_features_sorted['Feature'], ranked_features_sorted['Importance'])\n",
    "plt.xlabel('Feature Importance Rank')\n",
    "plt.title('Feature Importance Ranking by Recursive Feature Elimination')\n",
    "plt.gca().invert_yaxis()  # Highest importance at the top\n",
    "plt.show()"
   ]
  },
  {
   "cell_type": "code",
   "execution_count": null,
   "metadata": {},
   "outputs": [],
   "source": []
  }
 ],
 "metadata": {
  "kernelspec": {
   "display_name": "Python 3 (ipykernel)",
   "language": "python",
   "name": "python3"
  },
  "language_info": {
   "codemirror_mode": {
    "name": "ipython",
    "version": 3
   },
   "file_extension": ".py",
   "mimetype": "text/x-python",
   "name": "python",
   "nbconvert_exporter": "python",
   "pygments_lexer": "ipython3",
   "version": "3.9.12"
  }
 },
 "nbformat": 4,
 "nbformat_minor": 4
}
