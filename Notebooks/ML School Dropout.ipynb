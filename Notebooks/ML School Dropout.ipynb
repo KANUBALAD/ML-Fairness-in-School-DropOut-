{
 "cells": [
  {
   "cell_type": "code",
   "execution_count": 1,
   "metadata": {},
   "outputs": [
    {
     "name": "stderr",
     "output_type": "stream",
     "text": [
      "/opt/anaconda3/lib/python3.9/site-packages/pandas/core/computation/expressions.py:21: UserWarning: Pandas requires version '2.8.4' or newer of 'numexpr' (version '2.8.1' currently installed).\n",
      "  from pandas.core.computation.check import NUMEXPR_INSTALLED\n",
      "/opt/anaconda3/lib/python3.9/site-packages/pandas/core/arrays/masked.py:60: UserWarning: Pandas requires version '1.3.6' or newer of 'bottleneck' (version '1.3.4' currently installed).\n",
      "  from pandas.core import (\n"
     ]
    }
   ],
   "source": [
    "\n",
    "# Data handling\n",
    "import pandas as pd\n",
    "import numpy as np\n",
    "\n",
    "\n",
    "# Vizualisation (Matplotlib, Plotly, Seaborn, etc. )\n",
    "import seaborn as sns\n",
    "import matplotlib.pyplot as plt\n",
    "\n",
    "# EDA (pandas-profiling, etc. )\n",
    "...\n",
    "\n",
    "# Feature Processing (Scikit-learn processing, etc. )\n",
    "from sklearn.model_selection import train_test_split\n",
    "from sklearn.impute import SimpleImputer, KNNImputer\n",
    "from sklearn.preprocessing import StandardScaler, RobustScaler, OneHotEncoder\n",
    "\n",
    "# Machine Learning (Scikit-learn Estimators, Catboost, LightGBM, etc. )\n",
    "from sklearn.linear_model import LinearRegression\n",
    "from sklearn.neighbors import KNeighborsClassifier\n",
    "from sklearn.ensemble import RandomForestClassifier, GradientBoostingClassifier, AdaBoostClassifier\n",
    "\n",
    "\n",
    "from sklearn.metrics import classification_report#, accuracy\n",
    "\n",
    "# Hyperparameters Fine-tuning (Scikit-learn hp search, cross-validation, etc. )\n",
    "...\n",
    "\n",
    "# Other packages\n",
    "import os\n",
    "\n",
    "import warnings\n",
    "warnings.filterwarnings('ignore')"
   ]
  },
  {
   "cell_type": "code",
   "execution_count": 2,
   "metadata": {},
   "outputs": [],
   "source": [
    "df_school = pd.read_csv('../dataset/dataset.csv')"
   ]
  },
  {
   "cell_type": "code",
   "execution_count": 3,
   "metadata": {},
   "outputs": [
    {
     "data": {
      "text/plain": [
       "4424"
      ]
     },
     "execution_count": 3,
     "metadata": {},
     "output_type": "execute_result"
    }
   ],
   "source": [
    "len(df_school)"
   ]
  },
  {
   "cell_type": "code",
   "execution_count": 4,
   "metadata": {},
   "outputs": [
    {
     "data": {
      "text/plain": [
       "array(['Dropout', 'Graduate', 'Enrolled'], dtype=object)"
      ]
     },
     "execution_count": 4,
     "metadata": {},
     "output_type": "execute_result"
    }
   ],
   "source": [
    "df_school['Target'].unique()"
   ]
  },
  {
   "cell_type": "code",
   "execution_count": 5,
   "metadata": {},
   "outputs": [],
   "source": [
    "df_school['Target'] = np.where(df_school['Target'] == 'Dropout', 'YES', 'NO')\n",
    "# Convert 'Dropout_Flag' to numeric values: 1 for 'YES', 0 for 'NO'\n",
    "df_school['Target'] = df_school['Target'].apply(lambda x: 1 if x == 'YES' else 0)"
   ]
  },
  {
   "cell_type": "code",
   "execution_count": 6,
   "metadata": {},
   "outputs": [
    {
     "data": {
      "text/plain": [
       "array([1, 0])"
      ]
     },
     "execution_count": 6,
     "metadata": {},
     "output_type": "execute_result"
    }
   ],
   "source": [
    "df_school['Target'].unique()"
   ]
  },
  {
   "cell_type": "code",
   "execution_count": 7,
   "metadata": {},
   "outputs": [
    {
     "data": {
      "image/png": "[encoded data removed]",
      "text/plain": [
       "<Figure size 576x432 with 1 Axes>"
      ]
     },
     "metadata": {
      "needs_background": "light"
     },
     "output_type": "display_data"
    }
   ],
   "source": [
    "target_counts = df_school['Target'].value_counts()\n",
    "\n",
    "# Create a bar plot for visualization\n",
    "plt.figure(figsize=(8, 6))\n",
    "sns.barplot(x=target_counts.index, y=target_counts.values)\n",
    "plt.title('Distribution of Target Variable')\n",
    "plt.xlabel('Target')\n",
    "plt.ylabel('Count')\n",
    "plt.xticks(ticks=[0, 1], labels=['NO', 'YES'])  # Ensure that x-ticks correspond to 'NO' and 'YES'\n",
    "plt.show()"
   ]
  },
  {
   "cell_type": "code",
   "execution_count": 8,
   "metadata": {},
   "outputs": [],
   "source": [
    "\n",
    "\n",
    "column_mapping = {\n",
    "    'Marital status': 'MaritalStat',\n",
    "    'Application mode': 'AppMode',\n",
    "    'Application order': 'AppOrder',\n",
    "    'Course': 'Course',\n",
    "    'Daytime/evening attendance': 'DayEveningAtt',\n",
    "    'Previous qualification': 'PrevQual',\n",
    "    'Nacionality': 'Nationality',  \n",
    "    \"Mother's qualification\": 'MotherQual',\n",
    "    \"Father's qualification\": 'FatherQual',\n",
    "    \"Mother's occupation\": 'MotherOcc',\n",
    "    \"Father's occupation\": 'FatherOcc',\n",
    "    'Displaced': 'Displaced',\n",
    "    'Educational special needs': 'EduNeeds',\n",
    "    'Debtor': 'Debtor',\n",
    "    'Tuition fees up to date': 'FeesUpdated',\n",
    "    'Gender': 'Gender',\n",
    "    'Scholarship holder': 'Scholarship',\n",
    "    'Age at enrollment': 'AgeEnroll',\n",
    "    'International': 'International',\n",
    "    'Curricular units 1st sem (credited)': 'CU1Credited',\n",
    "    'Curricular units 1st sem (enrolled)': 'CU1Enrolled',\n",
    "    'Curricular units 1st sem (evaluations)': 'CU1Evaluations',\n",
    "    'Curricular units 1st sem (approved)': 'CU1Approved',\n",
    "    'Curricular units 1st sem (grade)': 'CU1Grade',\n",
    "    'Curricular units 1st sem (without evaluations)': 'CU1NoEvals',\n",
    "    'Curricular units 2nd sem (credited)': 'CU2Credited',\n",
    "    'Curricular units 2nd sem (enrolled)': 'CU2Enrolled',\n",
    "    'Curricular units 2nd sem (evaluations)': 'CU2Evaluations',\n",
    "    'Curricular units 2nd sem (approved)': 'CU2Approved',\n",
    "    'Curricular units 2nd sem (grade)': 'CU2Grade',\n",
    "    'Curricular units 2nd sem (without evaluations)': 'CU2NoEvals',\n",
    "    'Unemployment rate': 'UnempRate',\n",
    "    'Inflation rate': 'InflationRate',\n",
    "    'GDP': 'GDP',\n",
    "    'Target': 'Target'\n",
    "}\n",
    "\n",
    "\n",
    "\n",
    "df_school.rename(columns=column_mapping, inplace=True)\n"
   ]
  },
  {
   "cell_type": "code",
   "execution_count": 9,
   "metadata": {},
   "outputs": [
    {
     "name": "stdout",
     "output_type": "stream",
     "text": [
      "<class 'pandas.core.frame.DataFrame'>\n",
      "RangeIndex: 4424 entries, 0 to 4423\n",
      "Data columns (total 35 columns):\n",
      " #   Column          Non-Null Count  Dtype  \n",
      "---  ------          --------------  -----  \n",
      " 0   MaritalStat     4424 non-null   int64  \n",
      " 1   AppMode         4424 non-null   int64  \n",
      " 2   AppOrder        4424 non-null   int64  \n",
      " 3   Course          4424 non-null   int64  \n",
      " 4   DayEveningAtt   4424 non-null   int64  \n",
      " 5   PrevQual        4424 non-null   int64  \n",
      " 6   Nationality     4424 non-null   int64  \n",
      " 7   MotherQual      4424 non-null   int64  \n",
      " 8   FatherQual      4424 non-null   int64  \n",
      " 9   MotherOcc       4424 non-null   int64  \n",
      " 10  FatherOcc       4424 non-null   int64  \n",
      " 11  Displaced       4424 non-null   int64  \n",
      " 12  EduNeeds        4424 non-null   int64  \n",
      " 13  Debtor          4424 non-null   int64  \n",
      " 14  FeesUpdated     4424 non-null   int64  \n",
      " 15  Gender          4424 non-null   int64  \n",
      " 16  Scholarship     4424 non-null   int64  \n",
      " 17  AgeEnroll       4424 non-null   int64  \n",
      " 18  International   4424 non-null   int64  \n",
      " 19  CU1Credited     4424 non-null   int64  \n",
      " 20  CU1Enrolled     4424 non-null   int64  \n",
      " 21  CU1Evaluations  4424 non-null   int64  \n",
      " 22  CU1Approved     4424 non-null   int64  \n",
      " 23  CU1Grade        4424 non-null   float64\n",
      " 24  CU1NoEvals      4424 non-null   int64  \n",
      " 25  CU2Credited     4424 non-null   int64  \n",
      " 26  CU2Enrolled     4424 non-null   int64  \n",
      " 27  CU2Evaluations  4424 non-null   int64  \n",
      " 28  CU2Approved     4424 non-null   int64  \n",
      " 29  CU2Grade        4424 non-null   float64\n",
      " 30  CU2NoEvals      4424 non-null   int64  \n",
      " 31  UnempRate       4424 non-null   float64\n",
      " 32  InflationRate   4424 non-null   float64\n",
      " 33  GDP             4424 non-null   float64\n",
      " 34  Target          4424 non-null   int64  \n",
      "dtypes: float64(5), int64(30)\n",
      "memory usage: 1.2 MB\n"
     ]
    }
   ],
   "source": [
    "df_school.info()"
   ]
  },
  {
   "cell_type": "code",
   "execution_count": 10,
   "metadata": {},
   "outputs": [],
   "source": [
    "# Gender replacement\n",
    "gender_replace = {\n",
    "    1: 'male',\n",
    "    0: 'female'\n",
    "}\n",
    "df_school['Gender'] = df_school['Gender'].replace(gender_replace)\n",
    "\n",
    "# Nationality replacement\n",
    "nationality_replace = {\n",
    "    1: 'Portuguese', 2: 'German', 3: 'Spanish', 4: 'Italian', 5: 'Dutch', 6: 'English',\n",
    "    7: 'Lithuanian', 8: 'Angolan', 9: 'Cape Verdean', 10: 'Guinean', 11: 'Mozambican',\n",
    "    12: 'Santomean', 13: 'Turkish', 14: 'Brazilian', 15: 'Romanian', 16: 'Moldova (Republic of)',\n",
    "    17: 'Mexican', 18: 'Ukrainian', 19: 'Russian', 20: 'Cuban', 21: 'Colombian'\n",
    "}\n",
    "df_school['Nationality'] = df_school['Nationality'].replace(nationality_replace)"
   ]
  },
  {
   "cell_type": "code",
   "execution_count": 11,
   "metadata": {},
   "outputs": [],
   "source": [
    "# Replace the values in 'Marital status'\n",
    "marital_mapping = {\n",
    "    1: 'Single',\n",
    "    2: 'Married',\n",
    "    3: 'Widower',\n",
    "    4: 'Divorced',\n",
    "    5: 'Facto union',\n",
    "    6: 'Legally separated'\n",
    "}\n",
    "\n",
    "df_school['MaritalStat'] = df_school['MaritalStat'].replace(marital_mapping)\n"
   ]
  },
  {
   "cell_type": "code",
   "execution_count": 12,
   "metadata": {},
   "outputs": [],
   "source": [
    "qualification_mapping = {\n",
    "    1: 'Secondary Education',\n",
    "    2: 'Higher Education - Undergraduate',\n",
    "    3: 'Higher Education - Undergraduate',\n",
    "    4: 'Higher Education - Graduate',\n",
    "    5: 'Higher Education - Graduate',\n",
    "    6: 'Higher Education - Undergraduate',\n",
    "    7: 'Primary Education',\n",
    "    8: 'Primary Education',\n",
    "    9: 'Primary Education',\n",
    "    10: 'Secondary Education',\n",
    "    11: 'Secondary Education',\n",
    "    12: 'Secondary Education',\n",
    "    13: 'Secondary Education',\n",
    "    14: 'Secondary Education',\n",
    "    15: 'Secondary Education',\n",
    "    16: 'Vocational/Technical',\n",
    "    17: 'Secondary Education',\n",
    "    18: 'Primary Education',\n",
    "    19: 'Secondary Education',\n",
    "    20: 'Primary Education',\n",
    "    21: 'Primary Education',\n",
    "    22: 'Secondary Education',\n",
    "    23: 'Secondary Education',\n",
    "    24: 'Unknown',\n",
    "    25: 'Primary Education',\n",
    "    26: 'Primary Education',\n",
    "    27: 'Primary Education',\n",
    "    28: 'Primary Education',\n",
    "    29: 'Vocational/Technical',\n",
    "    30: 'Higher Education - Undergraduate',\n",
    "    31: 'Higher Education - Undergraduate',\n",
    "    32: 'Higher Education - Undergraduate',\n",
    "    33: 'Higher Education - Graduate',\n",
    "    34: 'Higher Education - Graduate'\n",
    "}\n",
    "\n",
    "# Grouping the qualification categories\n",
    "grouped_qualifications = {\n",
    "    'Primary Education': 'Primary Education',\n",
    "    'Secondary Education': 'Secondary Education',\n",
    "    'Higher Education - Undergraduate': 'Higher Education',\n",
    "    'Higher Education - Graduate': 'Higher Education',\n",
    "    'Vocational/Technical': 'Vocational/Technical',\n",
    "    'Unknown': 'Unknown'\n",
    "}\n",
    "\n",
    "\n",
    "df_school[\"FatherQual\"] = df_school[\"FatherQual\"].map(qualification_mapping)\n",
    "df_school[\"FatherQual\"] = df_school[\"FatherQual\"].replace(grouped_qualifications)\n",
    "\n",
    "df_school[\"MotherQual\"] = df_school[\"MotherQual\"].map(qualification_mapping)\n",
    "df_school[\"MotherQual\"] = df_school[\"MotherQual\"].replace(grouped_qualifications)\n"
   ]
  },
  {
   "cell_type": "code",
   "execution_count": 13,
   "metadata": {},
   "outputs": [],
   "source": [
    "# Mapping courses\n",
    "course_mapping = {\n",
    "    1: 'Biofuel Production Technologies',\n",
    "    2: 'Animation and Multimedia Design',\n",
    "    3: 'Social Service (evening attendance)',\n",
    "    4: 'Agronomy',\n",
    "    5: 'Communication Design',\n",
    "    6: 'Veterinary Nursing',\n",
    "    7: 'Informatics Engineering',\n",
    "    8: 'Equiniculture',\n",
    "    9: 'Management',\n",
    "    10: 'Social Service',\n",
    "    11: 'Tourism',\n",
    "    12: 'Nursing',\n",
    "    13: 'Oral Hygiene',\n",
    "    14: 'Advertising and Marketing Management',\n",
    "    15: 'Journalism and Communication',\n",
    "    16: 'Basic Education',\n",
    "    17: 'Management (evening attendance)'\n",
    "}\n",
    "\n",
    "# Define a new mapping from course names to broader categories\n",
    "new_course_mapping = {\n",
    "    'Biofuel Production Technologies': 'Science and Technology',\n",
    "    'Animation and Multimedia Design': 'Arts, Design, and Social Sciences',\n",
    "    'Social Service (evening attendance)': 'Arts, Design, and Social Sciences',\n",
    "    'Agronomy': 'Science and Technology',\n",
    "    'Communication Design': 'Arts, Design, and Social Sciences',\n",
    "    'Veterinary Nursing': 'Health, Business, and Management',\n",
    "    'Informatics Engineering': 'Science and Technology',\n",
    "    'Equiniculture': 'Arts, Design, and Social Sciences',\n",
    "    'Management': 'Health, Business, and Management',\n",
    "    'Social Service': 'Arts, Design, and Social Sciences',\n",
    "    'Tourism': 'Arts, Design, and Social Sciences',\n",
    "    'Nursing': 'Health, Business, and Management',\n",
    "    'Oral Hygiene': 'Health, Business, and Management',\n",
    "    'Advertising and Marketing Management': 'Health, Business, and Management',\n",
    "    'Journalism and Communication': 'Arts, Design, and Social Sciences',\n",
    "    'Basic Education': 'Arts, Design, and Social Sciences',\n",
    "    'Management (evening attendance)': 'Health, Business, and Management'\n",
    "}\n",
    "\n",
    "# First map the course IDs to names, then map names to broader categories\n",
    "df_school['Course'] = df_school['Course'].map(course_mapping)\n",
    "df_school['Course'] = df_school['Course'].map(new_course_mapping)\n"
   ]
  },
  {
   "cell_type": "code",
   "execution_count": 14,
   "metadata": {},
   "outputs": [],
   "source": [
    "# Mapping 'Daytime/evening attendance' column\n",
    "df_school['DayEveningAtt'] = df_school['DayEveningAtt'].replace({1: 'daytime', 0: 'evening'})\n"
   ]
  },
  {
   "cell_type": "code",
   "execution_count": 15,
   "metadata": {},
   "outputs": [
    {
     "data": {
      "text/plain": [
       "array([ 1, 12, 16, 14,  8,  3, 15,  2,  4,  9, 17, 11,  6,  7, 13,  5, 10])"
      ]
     },
     "execution_count": 15,
     "metadata": {},
     "output_type": "execute_result"
    }
   ],
   "source": [
    "df_school['PrevQual'].unique()"
   ]
  },
  {
   "cell_type": "code",
   "execution_count": 16,
   "metadata": {},
   "outputs": [],
   "source": [
    "prev_qual_mapping = {\n",
    "    1: 'Secondary Education',\n",
    "    12: 'Basic Education',\n",
    "    16: 'Higher Education (Undergraduate)',\n",
    "    14: 'Other or Vocational Training',\n",
    "    8: 'Incomplete Secondary Education',\n",
    "    3: 'Higher Education (Undergraduate)',\n",
    "    15: 'Higher Education (Undergraduate)',\n",
    "    2: 'Higher Education (Undergraduate)',\n",
    "    4: 'Higher Education (Postgraduate)',\n",
    "    9: 'Other or Vocational Training',\n",
    "    17: 'Higher Education (Postgraduate)',\n",
    "    11: 'Basic Education',\n",
    "    6: 'Other or Vocational Training',\n",
    "    7: 'Incomplete Secondary Education',\n",
    "    13: 'Basic Education',\n",
    "    5: 'Higher Education (Postgraduate)',\n",
    "    10: 'Basic Education'\n",
    "}\n",
    "\n",
    "df_school['PrevQual'] = df_school['PrevQual'].map(prev_qual_mapping)\n"
   ]
  },
  {
   "cell_type": "code",
   "execution_count": 17,
   "metadata": {},
   "outputs": [
    {
     "data": {
      "text/plain": [
       "array([0, 1])"
      ]
     },
     "execution_count": 17,
     "metadata": {},
     "output_type": "execute_result"
    }
   ],
   "source": [
    "df_school['Scholarship'].unique()"
   ]
  },
  {
   "cell_type": "code",
   "execution_count": 18,
   "metadata": {},
   "outputs": [],
   "source": [
    "# Map 0 to 'No' and 1 to 'Yes'\n",
    "scholarship_mapping = {0: 'No', 1: 'Yes'}\n",
    "\n",
    "# Apply the mapping to the 'Scholarship' column\n",
    "df_school['Scholarship'] = df_school['Scholarship'].map(scholarship_mapping)\n"
   ]
  },
  {
   "cell_type": "code",
   "execution_count": 19,
   "metadata": {},
   "outputs": [
    {
     "data": {
      "text/plain": [
       "array([ 8,  6,  1, 12,  9, 17, 15, 16, 14,  4, 13,  7,  3,  2,  5, 18, 10,\n",
       "       11])"
      ]
     },
     "execution_count": 19,
     "metadata": {},
     "output_type": "execute_result"
    }
   ],
   "source": [
    "df_school['AppMode'].unique()"
   ]
  },
  {
   "cell_type": "code",
   "execution_count": 20,
   "metadata": {},
   "outputs": [],
   "source": [
    "app_mode_mapping = {\n",
    "    1: 'General Admission', 8: 'General Admission', 9: 'General Admission', 12: 'General Admission',\n",
    "    2: 'Special Contingents or Conditions', 3: 'Special Contingents or Conditions', 4: 'Special Contingents or Conditions', \n",
    "    5: 'Special Contingents or Conditions', 6: 'Special Contingents or Conditions', 7: 'Special Contingents or Conditions', \n",
    "    10: 'Special Contingents or Conditions', 11: 'Special Contingents or Conditions',\n",
    "    13: 'Course/Institution Changes', 14: 'Course/Institution Changes', 15: 'Course/Institution Changes', \n",
    "    16: 'Course/Institution Changes', 17: 'Course/Institution Changes', 18: 'Course/Institution Changes'\n",
    "}\n",
    "\n",
    "df_school['AppMode'] = df_school['AppMode'].map(app_mode_mapping)\n"
   ]
  },
  {
   "cell_type": "code",
   "execution_count": 21,
   "metadata": {},
   "outputs": [
    {
     "data": {
      "text/plain": [
       "array([5, 1, 2, 4, 3, 6, 9, 0])"
      ]
     },
     "execution_count": 21,
     "metadata": {},
     "output_type": "execute_result"
    }
   ],
   "source": [
    "df_school['AppOrder'].unique()"
   ]
  },
  {
   "cell_type": "code",
   "execution_count": 22,
   "metadata": {},
   "outputs": [
    {
     "data": {
      "text/plain": [
       "array([ 6,  4, 10,  8,  5,  2, 16,  1,  7,  3, 12,  9, 20, 28, 13, 29, 23,\n",
       "       32, 30, 18, 24, 19, 11, 21, 15, 27, 31, 14, 22, 17, 26, 25])"
      ]
     },
     "execution_count": 22,
     "metadata": {},
     "output_type": "execute_result"
    }
   ],
   "source": [
    "df_school['MotherOcc'].unique()"
   ]
  },
  {
   "cell_type": "code",
   "execution_count": 23,
   "metadata": {},
   "outputs": [],
   "source": [
    "occ_mapping = {\n",
    "    # Mapping for Highly Skilled or Professional Occupations\n",
    "    1: 'Highly Skilled/Professional', 2: 'Highly Skilled/Professional', 3: 'Highly Skilled/Professional', \n",
    "    4: 'Highly Skilled/Professional', 5: 'Highly Skilled/Professional', 16: 'Highly Skilled/Professional', \n",
    "    20: 'Highly Skilled/Professional', 21: 'Highly Skilled/Professional', 19: 'Highly Skilled/Professional', \n",
    "    23: 'Highly Skilled/Professional', 24: 'Highly Skilled/Professional', 25: 'Highly Skilled/Professional', \n",
    "    26: 'Highly Skilled/Professional', 22: 'Highly Skilled/Professional', 17: 'Highly Skilled/Professional', \n",
    "    18: 'Highly Skilled/Professional', 29: 'Highly Skilled/Professional', 28: 'Highly Skilled/Professional', \n",
    "    27: 'Highly Skilled/Professional',\n",
    "\n",
    "    # Mapping for Skilled or Semi-Skilled Occupations\n",
    "    6: 'Skilled/Semi-Skilled', 7: 'Skilled/Semi-Skilled', 8: 'Skilled/Semi-Skilled', \n",
    "    9: 'Skilled/Semi-Skilled', 30: 'Skilled/Semi-Skilled', 31: 'Skilled/Semi-Skilled', \n",
    "    32: 'Skilled/Semi-Skilled', 33: 'Skilled/Semi-Skilled', 34: 'Skilled/Semi-Skilled', \n",
    "    36: 'Skilled/Semi-Skilled', 37: 'Skilled/Semi-Skilled', 38: 'Skilled/Semi-Skilled', \n",
    "    39: 'Skilled/Semi-Skilled', 40: 'Skilled/Semi-Skilled', 41: 'Skilled/Semi-Skilled', \n",
    "    42: 'Skilled/Semi-Skilled',\n",
    "\n",
    "    # Mapping for Unskilled Occupations\n",
    "    10: 'Unskilled', 12: 'Unskilled', 43: 'Unskilled', \n",
    "    44: 'Unskilled', 45: 'Unskilled', 46: 'Unskilled'\n",
    "}\n",
    "\n",
    "df_school['MotherOcc'] = df_school['MotherOcc'].map(occ_mapping)\n",
    "# Example of mapping\n",
    "df_school['FatherOcc'] = df_school['FatherOcc'].map(occ_mapping)\n"
   ]
  },
  {
   "cell_type": "code",
   "execution_count": 24,
   "metadata": {},
   "outputs": [
    {
     "data": {
      "text/plain": [
       "array([1, 0])"
      ]
     },
     "execution_count": 24,
     "metadata": {},
     "output_type": "execute_result"
    }
   ],
   "source": [
    "df_school['Displaced'].unique()"
   ]
  },
  {
   "cell_type": "code",
   "execution_count": 25,
   "metadata": {},
   "outputs": [],
   "source": [
    "# Map 0 to 'No' and 1 to 'Yes'\n",
    "Displaced_mapping = {0: 'No', 1: 'Yes'}\n",
    "\n",
    "# Apply the mapping to the 'Scholarship' column\n",
    "df_school['Displaced'] = df_school['Displaced'].map(Displaced_mapping)\n"
   ]
  },
  {
   "cell_type": "code",
   "execution_count": 26,
   "metadata": {},
   "outputs": [
    {
     "data": {
      "text/plain": [
       "array([0, 1])"
      ]
     },
     "execution_count": 26,
     "metadata": {},
     "output_type": "execute_result"
    }
   ],
   "source": [
    "df_school['EduNeeds'].unique() "
   ]
  },
  {
   "cell_type": "code",
   "execution_count": 27,
   "metadata": {},
   "outputs": [],
   "source": [
    "# Map 0 to 'No' and 1 to 'Yes'\n",
    "EduNeeds_mapping = {0: 'No', 1: 'Yes'}\n",
    "\n",
    "# Apply the mapping to the 'Scholarship' column\n",
    "df_school['EduNeeds'] = df_school['EduNeeds'].map(EduNeeds_mapping)\n"
   ]
  },
  {
   "cell_type": "code",
   "execution_count": 28,
   "metadata": {},
   "outputs": [
    {
     "data": {
      "text/plain": [
       "array([0, 1])"
      ]
     },
     "execution_count": 28,
     "metadata": {},
     "output_type": "execute_result"
    }
   ],
   "source": [
    "df_school['Debtor'].unique() "
   ]
  },
  {
   "cell_type": "code",
   "execution_count": 29,
   "metadata": {},
   "outputs": [],
   "source": [
    "# Map 0 to 'No' and 1 to 'Yes'\n",
    "Debtor_mapping = {0: 'No', 1: 'Yes'}\n",
    "\n",
    "# Apply the mapping to the 'Scholarship' column\n",
    "df_school['Debtor'] = df_school['Debtor'].map(Debtor_mapping)\n"
   ]
  },
  {
   "cell_type": "code",
   "execution_count": 30,
   "metadata": {},
   "outputs": [
    {
     "data": {
      "text/plain": [
       "array([1, 0])"
      ]
     },
     "execution_count": 30,
     "metadata": {},
     "output_type": "execute_result"
    }
   ],
   "source": [
    "df_school['FeesUpdated'].unique() "
   ]
  },
  {
   "cell_type": "code",
   "execution_count": 31,
   "metadata": {},
   "outputs": [],
   "source": [
    "# Map 0 to 'No' and 1 to 'Yes'\n",
    "FeesUpdated_mapping = {0: 'No', 1: 'Yes'}\n",
    "\n",
    "# Apply the mapping to the 'Scholarship' column\n",
    "df_school['FeesUpdated'] = df_school['FeesUpdated'].map(FeesUpdated_mapping)\n"
   ]
  },
  {
   "cell_type": "code",
   "execution_count": 32,
   "metadata": {},
   "outputs": [
    {
     "data": {
      "text/plain": [
       "array([0, 1])"
      ]
     },
     "execution_count": 32,
     "metadata": {},
     "output_type": "execute_result"
    }
   ],
   "source": [
    "df_school['International'].unique() "
   ]
  },
  {
   "cell_type": "code",
   "execution_count": 33,
   "metadata": {},
   "outputs": [],
   "source": [
    "# Map 0 to 'No' and 1 to 'Yes'\n",
    "International_mapping = {0: 'No', 1: 'Yes'}\n",
    "\n",
    "# Apply the mapping to the 'Scholarship' column\n",
    "df_school['International'] = df_school['International'].map(International_mapping)\n"
   ]
  },
  {
   "cell_type": "code",
   "execution_count": 34,
   "metadata": {},
   "outputs": [
    {
     "name": "stdout",
     "output_type": "stream",
     "text": [
      "<class 'pandas.core.frame.DataFrame'>\n",
      "RangeIndex: 4424 entries, 0 to 4423\n",
      "Data columns (total 35 columns):\n",
      " #   Column          Non-Null Count  Dtype  \n",
      "---  ------          --------------  -----  \n",
      " 0   MaritalStat     4424 non-null   object \n",
      " 1   AppMode         4424 non-null   object \n",
      " 2   AppOrder        4424 non-null   int64  \n",
      " 3   Course          4424 non-null   object \n",
      " 4   DayEveningAtt   4424 non-null   object \n",
      " 5   PrevQual        4424 non-null   object \n",
      " 6   Nationality     4424 non-null   object \n",
      " 7   MotherQual      4424 non-null   object \n",
      " 8   FatherQual      4424 non-null   object \n",
      " 9   MotherOcc       4394 non-null   object \n",
      " 10  FatherOcc       4131 non-null   object \n",
      " 11  Displaced       4424 non-null   object \n",
      " 12  EduNeeds        4424 non-null   object \n",
      " 13  Debtor          4424 non-null   object \n",
      " 14  FeesUpdated     4424 non-null   object \n",
      " 15  Gender          4424 non-null   object \n",
      " 16  Scholarship     4424 non-null   object \n",
      " 17  AgeEnroll       4424 non-null   int64  \n",
      " 18  International   4424 non-null   object \n",
      " 19  CU1Credited     4424 non-null   int64  \n",
      " 20  CU1Enrolled     4424 non-null   int64  \n",
      " 21  CU1Evaluations  4424 non-null   int64  \n",
      " 22  CU1Approved     4424 non-null   int64  \n",
      " 23  CU1Grade        4424 non-null   float64\n",
      " 24  CU1NoEvals      4424 non-null   int64  \n",
      " 25  CU2Credited     4424 non-null   int64  \n",
      " 26  CU2Enrolled     4424 non-null   int64  \n",
      " 27  CU2Evaluations  4424 non-null   int64  \n",
      " 28  CU2Approved     4424 non-null   int64  \n",
      " 29  CU2Grade        4424 non-null   float64\n",
      " 30  CU2NoEvals      4424 non-null   int64  \n",
      " 31  UnempRate       4424 non-null   float64\n",
      " 32  InflationRate   4424 non-null   float64\n",
      " 33  GDP             4424 non-null   float64\n",
      " 34  Target          4424 non-null   int64  \n",
      "dtypes: float64(5), int64(13), object(17)\n",
      "memory usage: 1.2+ MB\n"
     ]
    }
   ],
   "source": [
    "df_school.info()"
   ]
  },
  {
   "cell_type": "code",
   "execution_count": 35,
   "metadata": {},
   "outputs": [
    {
     "data": {
      "text/html": [
       "<div>\n",
       "<style scoped>\n",
       "    .dataframe tbody tr th:only-of-type {\n",
       "        vertical-align: middle;\n",
       "    }\n",
       "\n",
       "    .dataframe tbody tr th {\n",
       "        vertical-align: top;\n",
       "    }\n",
       "\n",
       "    .dataframe thead th {\n",
       "        text-align: right;\n",
       "    }\n",
       "</style>\n",
       "<table border=\"1\" class=\"dataframe\">\n",
       "  <thead>\n",
       "    <tr style=\"text-align: right;\">\n",
       "      <th></th>\n",
       "      <th>MaritalStat</th>\n",
       "      <th>AppMode</th>\n",
       "      <th>AppOrder</th>\n",
       "      <th>Course</th>\n",
       "      <th>DayEveningAtt</th>\n",
       "      <th>PrevQual</th>\n",
       "      <th>Nationality</th>\n",
       "      <th>MotherQual</th>\n",
       "      <th>FatherQual</th>\n",
       "      <th>MotherOcc</th>\n",
       "      <th>...</th>\n",
       "      <th>CU2Credited</th>\n",
       "      <th>CU2Enrolled</th>\n",
       "      <th>CU2Evaluations</th>\n",
       "      <th>CU2Approved</th>\n",
       "      <th>CU2Grade</th>\n",
       "      <th>CU2NoEvals</th>\n",
       "      <th>UnempRate</th>\n",
       "      <th>InflationRate</th>\n",
       "      <th>GDP</th>\n",
       "      <th>Target</th>\n",
       "    </tr>\n",
       "  </thead>\n",
       "  <tbody>\n",
       "    <tr>\n",
       "      <th>0</th>\n",
       "      <td>Single</td>\n",
       "      <td>General Admission</td>\n",
       "      <td>5</td>\n",
       "      <td>Arts, Design, and Social Sciences</td>\n",
       "      <td>daytime</td>\n",
       "      <td>Secondary Education</td>\n",
       "      <td>Portuguese</td>\n",
       "      <td>Secondary Education</td>\n",
       "      <td>Secondary Education</td>\n",
       "      <td>Skilled/Semi-Skilled</td>\n",
       "      <td>...</td>\n",
       "      <td>0</td>\n",
       "      <td>0</td>\n",
       "      <td>0</td>\n",
       "      <td>0</td>\n",
       "      <td>0.000000</td>\n",
       "      <td>0</td>\n",
       "      <td>10.8</td>\n",
       "      <td>1.4</td>\n",
       "      <td>1.74</td>\n",
       "      <td>1</td>\n",
       "    </tr>\n",
       "    <tr>\n",
       "      <th>1</th>\n",
       "      <td>Single</td>\n",
       "      <td>Special Contingents or Conditions</td>\n",
       "      <td>1</td>\n",
       "      <td>Arts, Design, and Social Sciences</td>\n",
       "      <td>daytime</td>\n",
       "      <td>Secondary Education</td>\n",
       "      <td>Portuguese</td>\n",
       "      <td>Secondary Education</td>\n",
       "      <td>Higher Education</td>\n",
       "      <td>Highly Skilled/Professional</td>\n",
       "      <td>...</td>\n",
       "      <td>0</td>\n",
       "      <td>6</td>\n",
       "      <td>6</td>\n",
       "      <td>6</td>\n",
       "      <td>13.666667</td>\n",
       "      <td>0</td>\n",
       "      <td>13.9</td>\n",
       "      <td>-0.3</td>\n",
       "      <td>0.79</td>\n",
       "      <td>0</td>\n",
       "    </tr>\n",
       "    <tr>\n",
       "      <th>2</th>\n",
       "      <td>Single</td>\n",
       "      <td>General Admission</td>\n",
       "      <td>5</td>\n",
       "      <td>Arts, Design, and Social Sciences</td>\n",
       "      <td>daytime</td>\n",
       "      <td>Secondary Education</td>\n",
       "      <td>Portuguese</td>\n",
       "      <td>Secondary Education</td>\n",
       "      <td>Primary Education</td>\n",
       "      <td>Unskilled</td>\n",
       "      <td>...</td>\n",
       "      <td>0</td>\n",
       "      <td>6</td>\n",
       "      <td>0</td>\n",
       "      <td>0</td>\n",
       "      <td>0.000000</td>\n",
       "      <td>0</td>\n",
       "      <td>10.8</td>\n",
       "      <td>1.4</td>\n",
       "      <td>1.74</td>\n",
       "      <td>1</td>\n",
       "    </tr>\n",
       "    <tr>\n",
       "      <th>3</th>\n",
       "      <td>Single</td>\n",
       "      <td>General Admission</td>\n",
       "      <td>2</td>\n",
       "      <td>Arts, Design, and Social Sciences</td>\n",
       "      <td>daytime</td>\n",
       "      <td>Secondary Education</td>\n",
       "      <td>Portuguese</td>\n",
       "      <td>Secondary Education</td>\n",
       "      <td>Primary Education</td>\n",
       "      <td>Skilled/Semi-Skilled</td>\n",
       "      <td>...</td>\n",
       "      <td>0</td>\n",
       "      <td>6</td>\n",
       "      <td>10</td>\n",
       "      <td>5</td>\n",
       "      <td>12.400000</td>\n",
       "      <td>0</td>\n",
       "      <td>9.4</td>\n",
       "      <td>-0.8</td>\n",
       "      <td>-3.12</td>\n",
       "      <td>0</td>\n",
       "    </tr>\n",
       "    <tr>\n",
       "      <th>4</th>\n",
       "      <td>Married</td>\n",
       "      <td>General Admission</td>\n",
       "      <td>1</td>\n",
       "      <td>Arts, Design, and Social Sciences</td>\n",
       "      <td>evening</td>\n",
       "      <td>Secondary Education</td>\n",
       "      <td>Portuguese</td>\n",
       "      <td>Secondary Education</td>\n",
       "      <td>Primary Education</td>\n",
       "      <td>Unskilled</td>\n",
       "      <td>...</td>\n",
       "      <td>0</td>\n",
       "      <td>6</td>\n",
       "      <td>6</td>\n",
       "      <td>6</td>\n",
       "      <td>13.000000</td>\n",
       "      <td>0</td>\n",
       "      <td>13.9</td>\n",
       "      <td>-0.3</td>\n",
       "      <td>0.79</td>\n",
       "      <td>0</td>\n",
       "    </tr>\n",
       "  </tbody>\n",
       "</table>\n",
       "<p>5 rows × 35 columns</p>\n",
       "</div>"
      ],
      "text/plain": [
       "  MaritalStat                            AppMode  AppOrder  \\\n",
       "0      Single                  General Admission         5   \n",
       "1      Single  Special Contingents or Conditions         1   \n",
       "2      Single                  General Admission         5   \n",
       "3      Single                  General Admission         2   \n",
       "4     Married                  General Admission         1   \n",
       "\n",
       "                              Course DayEveningAtt             PrevQual  \\\n",
       "0  Arts, Design, and Social Sciences       daytime  Secondary Education   \n",
       "1  Arts, Design, and Social Sciences       daytime  Secondary Education   \n",
       "2  Arts, Design, and Social Sciences       daytime  Secondary Education   \n",
       "3  Arts, Design, and Social Sciences       daytime  Secondary Education   \n",
       "4  Arts, Design, and Social Sciences       evening  Secondary Education   \n",
       "\n",
       "  Nationality           MotherQual           FatherQual  \\\n",
       "0  Portuguese  Secondary Education  Secondary Education   \n",
       "1  Portuguese  Secondary Education     Higher Education   \n",
       "2  Portuguese  Secondary Education    Primary Education   \n",
       "3  Portuguese  Secondary Education    Primary Education   \n",
       "4  Portuguese  Secondary Education    Primary Education   \n",
       "\n",
       "                     MotherOcc  ... CU2Credited CU2Enrolled CU2Evaluations  \\\n",
       "0         Skilled/Semi-Skilled  ...           0           0              0   \n",
       "1  Highly Skilled/Professional  ...           0           6              6   \n",
       "2                    Unskilled  ...           0           6              0   \n",
       "3         Skilled/Semi-Skilled  ...           0           6             10   \n",
       "4                    Unskilled  ...           0           6              6   \n",
       "\n",
       "  CU2Approved   CU2Grade CU2NoEvals UnempRate  InflationRate   GDP  Target  \n",
       "0           0   0.000000          0      10.8            1.4  1.74       1  \n",
       "1           6  13.666667          0      13.9           -0.3  0.79       0  \n",
       "2           0   0.000000          0      10.8            1.4  1.74       1  \n",
       "3           5  12.400000          0       9.4           -0.8 -3.12       0  \n",
       "4           6  13.000000          0      13.9           -0.3  0.79       0  \n",
       "\n",
       "[5 rows x 35 columns]"
      ]
     },
     "execution_count": 35,
     "metadata": {},
     "output_type": "execute_result"
    }
   ],
   "source": [
    "df_school.head()"
   ]
  },
  {
   "cell_type": "code",
   "execution_count": 36,
   "metadata": {},
   "outputs": [],
   "source": [
    "### Ceck for Duplicates"
   ]
  },
  {
   "cell_type": "code",
   "execution_count": 37,
   "metadata": {},
   "outputs": [
    {
     "name": "stdout",
     "output_type": "stream",
     "text": [
      "4 duplicated rows were removed from the dataset.\n"
     ]
    }
   ],
   "source": [
    "# Get the initial number of rows\n",
    "initial_row_count = df_school.shape[0]\n",
    "\n",
    "# Remove duplicate rows from the DataFrame in place\n",
    "df_school.drop_duplicates(inplace=True)\n",
    "\n",
    "# Calculate the number of duplicated rows removed\n",
    "duplicates_removed = initial_row_count - df_school.shape[0]\n",
    "\n",
    "# Print the appropriate message based on the number of duplicates removed\n",
    "if duplicates_removed == 0:\n",
    "    print(\"There are no duplicated rows in the dataset.\")\n",
    "else:\n",
    "    print(f\"{duplicates_removed} duplicated rows were removed from the dataset.\")\n"
   ]
  },
  {
   "cell_type": "code",
   "execution_count": null,
   "metadata": {},
   "outputs": [],
   "source": []
  },
  {
   "cell_type": "code",
   "execution_count": 38,
   "metadata": {},
   "outputs": [
    {
     "name": "stdout",
     "output_type": "stream",
     "text": [
      "There are 18 numeric columns: ['UnempRate', 'CU2Credited', 'GDP', 'CU2Evaluations', 'Target', 'CU1Credited', 'CU2NoEvals', 'AgeEnroll', 'CU1Evaluations', 'CU1Approved', 'CU1Enrolled', 'AppOrder', 'CU1Grade', 'CU2Approved', 'CU2Enrolled', 'CU2Grade', 'CU1NoEvals', 'InflationRate']\n",
      "There are 17 categorical columns: ['EduNeeds', 'MaritalStat', 'Debtor', 'FeesUpdated', 'Nationality', 'FatherOcc', 'Gender', 'Course', 'Scholarship', 'MotherQual', 'FatherQual', 'Displaced', 'MotherOcc', 'International', 'AppMode', 'DayEveningAtt', 'PrevQual']\n"
     ]
    }
   ],
   "source": [
    "# Identify the numeric columns common to both 'test' and 'df_school' DataFrames\n",
    "numeric_columns = list(set(df_school.select_dtypes(include='number').columns))\n",
    "\n",
    "# Identify the categorical columns common to both 'test' and 'df_school' DataFrames\n",
    "categorical_columns = list(set(df_school.select_dtypes(exclude='number').columns))\n",
    "\n",
    "# Display the count and the list of numeric and categorical columns\n",
    "print(f\"There are {len(numeric_columns)} numeric columns: {numeric_columns}\")\n",
    "print(f\"There are {len(categorical_columns)} categorical columns: {categorical_columns}\")\n"
   ]
  },
  {
   "cell_type": "code",
   "execution_count": 39,
   "metadata": {},
   "outputs": [],
   "source": [
    "X = df_school[numeric_columns+categorical_columns]\n",
    "y = df_school['Target'] "
   ]
  },
  {
   "cell_type": "code",
   "execution_count": 40,
   "metadata": {},
   "outputs": [
    {
     "data": {
      "text/plain": [
       "((3536, 35), (3536,), (884, 35), (884,))"
      ]
     },
     "execution_count": 40,
     "metadata": {},
     "output_type": "execute_result"
    }
   ],
   "source": [
    "# Use train_test_split with a random_state, and add stratify for Classification\n",
    "X_train, X_eval, y_train, y_eval = train_test_split(X, y, test_size = 0.2, random_state = 1, stratify = y )\n",
    "\n",
    "X_train.shape, y_train.shape, X_eval.shape, y_eval.shape"
   ]
  },
  {
   "cell_type": "markdown",
   "metadata": {},
   "source": [
    "### Impute Missing Values"
   ]
  },
  {
   "cell_type": "code",
   "execution_count": 41,
   "metadata": {},
   "outputs": [],
   "source": [
    "num_imputer = SimpleImputer(strategy=\"mean\").fit(X_train[numeric_columns])\n",
    "cat_imputer = SimpleImputer(strategy=\"most_frequent\").fit(X_train[categorical_columns])\n",
    "num_imputer.transform(X_train[numeric_columns])\n",
    "X_train_num_imputed = pd.DataFrame(num_imputer.transform(X_train[numeric_columns]), columns=numeric_columns)\n",
    "X_eval_num_imputed = pd.DataFrame(num_imputer.transform(X_eval[numeric_columns]), columns=numeric_columns)\n",
    "\n",
    "X_train_cat_imputed = pd.DataFrame(cat_imputer.transform(X_train[categorical_columns]), columns=categorical_columns)\n",
    "X_eval_cat_imputed = pd.DataFrame(cat_imputer.transform(X_eval[categorical_columns]), columns=categorical_columns)\n",
    "\n",
    "X_train_imputed = pd.concat([X_train_num_imputed, X_train_cat_imputed], axis=1)\n",
    "X_eval_imputed = pd.concat([X_eval_num_imputed, X_eval_cat_imputed], axis=1)\n"
   ]
  },
  {
   "cell_type": "markdown",
   "metadata": {},
   "source": [
    "### Features Encoding"
   ]
  },
  {
   "cell_type": "code",
   "execution_count": 42,
   "metadata": {},
   "outputs": [
    {
     "ename": "TypeError",
     "evalue": "__init__() got an unexpected keyword argument 'sparse'",
     "output_type": "error",
     "traceback": [
      "\u001b[0;31m---------------------------------------------------------------------------\u001b[0m",
      "\u001b[0;31mTypeError\u001b[0m                                 Traceback (most recent call last)",
      "Input \u001b[0;32mIn [42]\u001b[0m, in \u001b[0;36m<cell line: 2>\u001b[0;34m()\u001b[0m\n\u001b[1;32m      1\u001b[0m \u001b[38;5;66;03m# Create the encoder instance with the specified parameters\u001b[39;00m\n\u001b[0;32m----> 2\u001b[0m encoder \u001b[38;5;241m=\u001b[39m \u001b[43mOneHotEncoder\u001b[49m\u001b[43m(\u001b[49m\u001b[43msparse\u001b[49m\u001b[38;5;241;43m=\u001b[39;49m\u001b[38;5;28;43;01mFalse\u001b[39;49;00m\u001b[43m,\u001b[49m\u001b[43m \u001b[49m\u001b[43mdrop\u001b[49m\u001b[38;5;241;43m=\u001b[39;49m\u001b[38;5;124;43m\"\u001b[39;49m\u001b[38;5;124;43mfirst\u001b[39;49m\u001b[38;5;124;43m\"\u001b[39;49m\u001b[43m)\u001b[49m\n\u001b[1;32m      4\u001b[0m \u001b[38;5;66;03m# Fit the encoder on the training and evaluation categorical data combined\u001b[39;00m\n\u001b[1;32m      5\u001b[0m encoder\u001b[38;5;241m.\u001b[39mfit(pd\u001b[38;5;241m.\u001b[39mconcat([X_train_cat_imputed, X_eval_cat_imputed]))\n",
      "\u001b[0;31mTypeError\u001b[0m: __init__() got an unexpected keyword argument 'sparse'"
     ]
    }
   ],
   "source": [
    "\n",
    "# Create the encoder instance with the specified parameters\n",
    "encoder = OneHotEncoder(sparse=False, drop=\"first\")\n",
    "\n",
    "# Fit the encoder on the training and evaluation categorical data combined\n",
    "encoder.fit(pd.concat([X_train_cat_imputed, X_eval_cat_imputed]))\n",
    "\n",
    "# Get the new column names after one-hot encoding\n",
    "cat_encoded_cols = encoder.get_feature_names_out().tolist()\n",
    "\n",
    "# Function to apply the encoder transformation and return a DataFrame\n",
    "def encode_categorical_data(encoder, data, columns):\n",
    "    return pd.DataFrame(encoder.transform(data), columns=columns, index=data.index)\n",
    "\n",
    "# Transform and encode categorical columns for training and evaluation sets\n",
    "X_train_cat_encoded = encode_categorical_data(encoder, X_train_cat_imputed, cat_encoded_cols)\n",
    "X_eval_cat_encoded = encode_categorical_data(encoder, X_eval_cat_imputed, cat_encoded_cols)\n"
   ]
  },
  {
   "cell_type": "markdown",
   "metadata": {},
   "source": [
    "### Features Scaling\n"
   ]
  },
  {
   "cell_type": "code",
   "execution_count": null,
   "metadata": {},
   "outputs": [],
   "source": [
    "scaler = RobustScaler().fit(X_train_num_imputed)\n",
    "\n",
    "X_train_num_scaled = pd.DataFrame(scaler.transform(X_train_num_imputed), columns=numeric_columns)\n",
    "X_eval_num_scaled = pd.DataFrame(scaler.transform(X_eval_num_imputed), columns=numeric_columns)\n",
    "\n",
    "X_train_ready = pd.concat([X_train_num_scaled, X_train_cat_encoded], axis=1)\n",
    "X_eval_ready = pd.concat([X_eval_num_scaled, X_eval_cat_encoded], axis=1)\n"
   ]
  },
  {
   "cell_type": "code",
   "execution_count": null,
   "metadata": {},
   "outputs": [],
   "source": [
    "X_train_ready.head()"
   ]
  },
  {
   "cell_type": "code",
   "execution_count": null,
   "metadata": {},
   "outputs": [],
   "source": [
    "X_eval_ready.head()"
   ]
  },
  {
   "cell_type": "code",
   "execution_count": null,
   "metadata": {},
   "outputs": [],
   "source": [
    "## Machine Learning Modeling "
   ]
  },
  {
   "cell_type": "code",
   "execution_count": null,
   "metadata": {},
   "outputs": [],
   "source": [
    "from sklearn.linear_model import LogisticRegression\n",
    "from sklearn.metrics import classification_report\n",
    "\n",
    "# Initialize the Logistic Regression classifier\n",
    "log_reg = LogisticRegression()\n",
    "\n",
    "# Train the Logistic Regression model using the training data\n",
    "log_reg.fit(X_train_ready, y_train)\n",
    "\n",
    "# Predict the target values for the evaluation set\n",
    "y_eval_pred = log_reg.predict(X_eval_ready)\n",
    "\n",
    "# Generate and print the classification report\n",
    "print(classification_report(y_true=y_eval, y_pred=y_eval_pred))\n"
   ]
  }
 ],
 "metadata": {
  "kernelspec": {
   "display_name": "Python 3 (ipykernel)",
   "language": "python",
   "name": "python3"
  },
  "language_info": {
   "codemirror_mode": {
    "name": "ipython",
    "version": 3
   },
   "file_extension": ".py",
   "mimetype": "text/x-python",
   "name": "python",
   "nbconvert_exporter": "python",
   "pygments_lexer": "ipython3",
   "version": "3.9.12"
  }
 },
 "nbformat": 4,
 "nbformat_minor": 4
}
