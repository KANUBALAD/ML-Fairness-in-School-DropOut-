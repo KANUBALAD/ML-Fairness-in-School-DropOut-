{
 "cells": [
  {
   "cell_type": "code",
   "execution_count": 23,
   "metadata": {},
   "outputs": [],
   "source": [
    "import pandas as pd\n",
    "import numpy as np\n",
    "import seaborn as sns\n",
    "import matplotlib.pyplot as plt"
   ]
  },
  {
   "cell_type": "code",
   "execution_count": 24,
   "metadata": {},
   "outputs": [],
   "source": [
    "df_school = pd.read_csv('../dataset/dataset.csv')"
   ]
  },
  {
   "cell_type": "code",
   "execution_count": 25,
   "metadata": {},
   "outputs": [
    {
     "data": {
      "text/plain": [
       "array(['Dropout', 'Graduate', 'Enrolled'], dtype=object)"
      ]
     },
     "execution_count": 25,
     "metadata": {},
     "output_type": "execute_result"
    }
   ],
   "source": [
    "df_school['Target'].unique()"
   ]
  },
  {
   "cell_type": "code",
   "execution_count": 26,
   "metadata": {},
   "outputs": [],
   "source": [
    "df_school['Target'] = np.where(df_school['Target'] == 'Dropout', 'YES', 'NO')\n",
    "# Convert 'Dropout_Flag' to numeric values: 1 for 'YES', 0 for 'NO'\n",
    "df_school['Target'] = df_school['Target'].apply(lambda x: 1 if x == 'YES' else 0)\n",
    "\n"
   ]
  },
  {
   "cell_type": "code",
   "execution_count": 27,
   "metadata": {},
   "outputs": [
    {
     "data": {
      "text/plain": [
       "array([1, 0], dtype=int64)"
      ]
     },
     "execution_count": 27,
     "metadata": {},
     "output_type": "execute_result"
    }
   ],
   "source": [
    "df_school['Target'].unique()"
   ]
  },
  {
   "cell_type": "code",
   "execution_count": 28,
   "metadata": {},
   "outputs": [],
   "source": [
    "\n",
    "\n",
    "column_mapping = {\n",
    "    'Marital status': 'MaritalStat',\n",
    "    'Application mode': 'AppMode',\n",
    "    'Application order': 'AppOrder',\n",
    "    'Course': 'Course',\n",
    "    'Daytime/evening attendance': 'DayEveningAtt',\n",
    "    'Previous qualification': 'PrevQual',\n",
    "    'Nacionality': 'Nationality',  \n",
    "    \"Mother's qualification\": 'MotherQual',\n",
    "    \"Father's qualification\": 'FatherQual',\n",
    "    \"Mother's occupation\": 'MotherOcc',\n",
    "    \"Father's occupation\": 'FatherOcc',\n",
    "    'Displaced': 'Displaced',\n",
    "    'Educational special needs': 'EduNeeds',\n",
    "    'Debtor': 'Debtor',\n",
    "    'Tuition fees up to date': 'FeesUpdated',\n",
    "    'Gender': 'Gender',\n",
    "    'Scholarship holder': 'Scholarship',\n",
    "    'Age at enrollment': 'AgeEnroll',\n",
    "    'International': 'International',\n",
    "    'Curricular units 1st sem (credited)': 'CU1Credited',\n",
    "    'Curricular units 1st sem (enrolled)': 'CU1Enrolled',\n",
    "    'Curricular units 1st sem (evaluations)': 'CU1Evaluations',\n",
    "    'Curricular units 1st sem (approved)': 'CU1Approved',\n",
    "    'Curricular units 1st sem (grade)': 'CU1Grade',\n",
    "    'Curricular units 1st sem (without evaluations)': 'CU1NoEvals',\n",
    "    'Curricular units 2nd sem (credited)': 'CU2Credited',\n",
    "    'Curricular units 2nd sem (enrolled)': 'CU2Enrolled',\n",
    "    'Curricular units 2nd sem (evaluations)': 'CU2Evaluations',\n",
    "    'Curricular units 2nd sem (approved)': 'CU2Approved',\n",
    "    'Curricular units 2nd sem (grade)': 'CU2Grade',\n",
    "    'Curricular units 2nd sem (without evaluations)': 'CU2NoEvals',\n",
    "    'Unemployment rate': 'UnempRate',\n",
    "    'Inflation rate': 'InflationRate',\n",
    "    'GDP': 'GDP',\n",
    "    'Target': 'Target'\n",
    "}\n",
    "\n",
    "\n",
    "\n",
    "df_school.rename(columns=column_mapping, inplace=True)\n"
   ]
  },
  {
   "cell_type": "code",
   "execution_count": 29,
   "metadata": {},
   "outputs": [
    {
     "name": "stdout",
     "output_type": "stream",
     "text": [
      "<class 'pandas.core.frame.DataFrame'>\n",
      "RangeIndex: 4424 entries, 0 to 4423\n",
      "Data columns (total 35 columns):\n",
      " #   Column          Non-Null Count  Dtype  \n",
      "---  ------          --------------  -----  \n",
      " 0   MaritalStat     4424 non-null   int64  \n",
      " 1   AppMode         4424 non-null   int64  \n",
      " 2   AppOrder        4424 non-null   int64  \n",
      " 3   Course          4424 non-null   int64  \n",
      " 4   DayEveningAtt   4424 non-null   int64  \n",
      " 5   PrevQual        4424 non-null   int64  \n",
      " 6   Nationality     4424 non-null   int64  \n",
      " 7   MotherQual      4424 non-null   int64  \n",
      " 8   FatherQual      4424 non-null   int64  \n",
      " 9   MotherOcc       4424 non-null   int64  \n",
      " 10  FatherOcc       4424 non-null   int64  \n",
      " 11  Displaced       4424 non-null   int64  \n",
      " 12  EduNeeds        4424 non-null   int64  \n",
      " 13  Debtor          4424 non-null   int64  \n",
      " 14  FeesUpdated     4424 non-null   int64  \n",
      " 15  Gender          4424 non-null   int64  \n",
      " 16  Scholarship     4424 non-null   int64  \n",
      " 17  AgeEnroll       4424 non-null   int64  \n",
      " 18  International   4424 non-null   int64  \n",
      " 19  CU1Credited     4424 non-null   int64  \n",
      " 20  CU1Enrolled     4424 non-null   int64  \n",
      " 21  CU1Evaluations  4424 non-null   int64  \n",
      " 22  CU1Approved     4424 non-null   int64  \n",
      " 23  CU1Grade        4424 non-null   float64\n",
      " 24  CU1NoEvals      4424 non-null   int64  \n",
      " 25  CU2Credited     4424 non-null   int64  \n",
      " 26  CU2Enrolled     4424 non-null   int64  \n",
      " 27  CU2Evaluations  4424 non-null   int64  \n",
      " 28  CU2Approved     4424 non-null   int64  \n",
      " 29  CU2Grade        4424 non-null   float64\n",
      " 30  CU2NoEvals      4424 non-null   int64  \n",
      " 31  UnempRate       4424 non-null   float64\n",
      " 32  InflationRate   4424 non-null   float64\n",
      " 33  GDP             4424 non-null   float64\n",
      " 34  Target          4424 non-null   int64  \n",
      "dtypes: float64(5), int64(30)\n",
      "memory usage: 1.2 MB\n"
     ]
    }
   ],
   "source": [
    "df_school.info()"
   ]
  },
  {
   "cell_type": "code",
   "execution_count": 30,
   "metadata": {},
   "outputs": [],
   "source": [
    "# Gender replacement\n",
    "gender_replace = {\n",
    "    1: 'male',\n",
    "    0: 'female'\n",
    "}\n",
    "df_school['Gender'] = df_school['Gender'].replace(gender_replace)\n",
    "\n",
    "# Nationality replacement\n",
    "nationality_replace = {\n",
    "    1: 'Portuguese', 2: 'German', 3: 'Spanish', 4: 'Italian', 5: 'Dutch', 6: 'English',\n",
    "    7: 'Lithuanian', 8: 'Angolan', 9: 'Cape Verdean', 10: 'Guinean', 11: 'Mozambican',\n",
    "    12: 'Santomean', 13: 'Turkish', 14: 'Brazilian', 15: 'Romanian', 16: 'Moldova (Republic of)',\n",
    "    17: 'Mexican', 18: 'Ukrainian', 19: 'Russian', 20: 'Cuban', 21: 'Colombian'\n",
    "}\n",
    "df_school['Nationality'] = df_school['Nationality'].replace(nationality_replace)"
   ]
  },
  {
   "cell_type": "code",
   "execution_count": 31,
   "metadata": {},
   "outputs": [],
   "source": [
    "# Replace the values in 'Marital status'\n",
    "marital_mapping = {\n",
    "    1: 'Single',\n",
    "    2: 'Married',\n",
    "    3: 'Widower',\n",
    "    4: 'Divorced',\n",
    "    5: 'Facto union',\n",
    "    6: 'Legally separated'\n",
    "}\n",
    "\n",
    "df_school['MaritalStat'] = df_school['MaritalStat'].replace(marital_mapping)\n"
   ]
  },
  {
   "cell_type": "code",
   "execution_count": 32,
   "metadata": {},
   "outputs": [],
   "source": [
    "qualification_mapping = {\n",
    "    1: 'Secondary Education',\n",
    "    2: 'Higher Education - Undergraduate',\n",
    "    3: 'Higher Education - Undergraduate',\n",
    "    4: 'Higher Education - Graduate',\n",
    "    5: 'Higher Education - Graduate',\n",
    "    6: 'Higher Education - Undergraduate',\n",
    "    7: 'Primary Education',\n",
    "    8: 'Primary Education',\n",
    "    9: 'Primary Education',\n",
    "    10: 'Secondary Education',\n",
    "    11: 'Secondary Education',\n",
    "    12: 'Secondary Education',\n",
    "    13: 'Secondary Education',\n",
    "    14: 'Secondary Education',\n",
    "    15: 'Secondary Education',\n",
    "    16: 'Vocational/Technical',\n",
    "    17: 'Secondary Education',\n",
    "    18: 'Primary Education',\n",
    "    19: 'Secondary Education',\n",
    "    20: 'Primary Education',\n",
    "    21: 'Primary Education',\n",
    "    22: 'Secondary Education',\n",
    "    23: 'Secondary Education',\n",
    "    24: 'Unknown',\n",
    "    25: 'Primary Education',\n",
    "    26: 'Primary Education',\n",
    "    27: 'Primary Education',\n",
    "    28: 'Primary Education',\n",
    "    29: 'Vocational/Technical',\n",
    "    30: 'Higher Education - Undergraduate',\n",
    "    31: 'Higher Education - Undergraduate',\n",
    "    32: 'Higher Education - Undergraduate',\n",
    "    33: 'Higher Education - Graduate',\n",
    "    34: 'Higher Education - Graduate'\n",
    "}\n",
    "\n",
    "# Grouping the qualification categories\n",
    "grouped_qualifications = {\n",
    "    'Primary Education': 'Primary Education',\n",
    "    'Secondary Education': 'Secondary Education',\n",
    "    'Higher Education - Undergraduate': 'Higher Education',\n",
    "    'Higher Education - Graduate': 'Higher Education',\n",
    "    'Vocational/Technical': 'Vocational/Technical',\n",
    "    'Unknown': 'Unknown'\n",
    "}\n",
    "\n",
    "\n",
    "df_school[\"FatherQual\"] = df_school[\"FatherQual\"].map(qualification_mapping)\n",
    "df_school[\"FatherQual\"] = df_school[\"FatherQual\"].replace(grouped_qualifications)\n",
    "\n",
    "df_school[\"MotherQual_Cate\"] = df_school[\"MotherQual\"].map(qualification_mapping)\n",
    "df_school[\"MotherQual_Cate\"] = df_school[\"MotherQual_Cate\"].replace(grouped_qualifications)\n"
   ]
  },
  {
   "cell_type": "code",
   "execution_count": 39,
   "metadata": {},
   "outputs": [],
   "source": [
    "# Mapping courses\n",
    "course_mapping = {\n",
    "    1: 'Biofuel Production Technologies',\n",
    "    2: 'Animation and Multimedia Design',\n",
    "    3: 'Social Service (evening attendance)',\n",
    "    4: 'Agronomy',\n",
    "    5: 'Communication Design',\n",
    "    6: 'Veterinary Nursing',\n",
    "    7: 'Informatics Engineering',\n",
    "    8: 'Equiniculture',\n",
    "    9: 'Management',\n",
    "    10: 'Social Service',\n",
    "    11: 'Tourism',\n",
    "    12: 'Nursing',\n",
    "    13: 'Oral Hygiene',\n",
    "    14: 'Advertising and Marketing Management',\n",
    "    15: 'Journalism and Communication',\n",
    "    16: 'Basic Education',\n",
    "    17: 'Management (evening attendance)'\n",
    "}\n",
    "\n",
    "# Define a new mapping from course names to broader categories\n",
    "new_course_mapping = {\n",
    "    'Biofuel Production Technologies': 'Science and Technology',\n",
    "    'Animation and Multimedia Design': 'Arts, Design, and Social Sciences',\n",
    "    'Social Service (evening attendance)': 'Arts, Design, and Social Sciences',\n",
    "    'Agronomy': 'Science and Technology',\n",
    "    'Communication Design': 'Arts, Design, and Social Sciences',\n",
    "    'Veterinary Nursing': 'Health, Business, and Management',\n",
    "    'Informatics Engineering': 'Science and Technology',\n",
    "    'Equiniculture': 'Arts, Design, and Social Sciences',\n",
    "    'Management': 'Health, Business, and Management',\n",
    "    'Social Service': 'Arts, Design, and Social Sciences',\n",
    "    'Tourism': 'Arts, Design, and Social Sciences',\n",
    "    'Nursing': 'Health, Business, and Management',\n",
    "    'Oral Hygiene': 'Health, Business, and Management',\n",
    "    'Advertising and Marketing Management': 'Health, Business, and Management',\n",
    "    'Journalism and Communication': 'Arts, Design, and Social Sciences',\n",
    "    'Basic Education': 'Arts, Design, and Social Sciences',\n",
    "    'Management (evening attendance)': 'Health, Business, and Management'\n",
    "}\n",
    "\n",
    "# First map the course IDs to names, then map names to broader categories\n",
    "df_school['Course'] = df_school['Course'].map(course_mapping)\n",
    "df_school['Course'] = df_school['Course'].map(new_course_mapping)\n"
   ]
  },
  {
   "cell_type": "code",
   "execution_count": 40,
   "metadata": {},
   "outputs": [],
   "source": [
    "# Mapping 'Daytime/evening attendance' column\n",
    "df_school['DayEveningAtt'] = df_school['DayEveningAtt'].replace({1: 'daytime', 0: 'evening'})\n"
   ]
  },
  {
   "cell_type": "code",
   "execution_count": 35,
   "metadata": {},
   "outputs": [
    {
     "data": {
      "text/plain": [
       "array([ 1, 12, 16, 14,  8,  3, 15,  2,  4,  9, 17, 11,  6,  7, 13,  5, 10],\n",
       "      dtype=int64)"
      ]
     },
     "execution_count": 35,
     "metadata": {},
     "output_type": "execute_result"
    }
   ],
   "source": [
    "df_school['PrevQual'].unique()"
   ]
  },
  {
   "cell_type": "code",
   "execution_count": 37,
   "metadata": {},
   "outputs": [],
   "source": [
    "prev_qual_mapping = {\n",
    "    1: 'Secondary Education',\n",
    "    12: 'Basic Education',\n",
    "    16: 'Higher Education (Undergraduate)',\n",
    "    14: 'Other or Vocational Training',\n",
    "    8: 'Incomplete Secondary Education',\n",
    "    3: 'Higher Education (Undergraduate)',\n",
    "    15: 'Higher Education (Undergraduate)',\n",
    "    2: 'Higher Education (Undergraduate)',\n",
    "    4: 'Higher Education (Postgraduate)',\n",
    "    9: 'Other or Vocational Training',\n",
    "    17: 'Higher Education (Postgraduate)',\n",
    "    11: 'Basic Education',\n",
    "    6: 'Other or Vocational Training',\n",
    "    7: 'Incomplete Secondary Education',\n",
    "    13: 'Basic Education',\n",
    "    5: 'Higher Education (Postgraduate)',\n",
    "    10: 'Basic Education'\n",
    "}\n",
    "\n",
    "df_school['PrevQual'] = df_school['PrevQual'].map(prev_qual_mapping)\n"
   ]
  },
  {
   "cell_type": "code",
   "execution_count": 41,
   "metadata": {},
   "outputs": [
    {
     "data": {
      "text/plain": [
       "array([0, 1], dtype=int64)"
      ]
     },
     "execution_count": 41,
     "metadata": {},
     "output_type": "execute_result"
    }
   ],
   "source": [
    "df_school['Scholarship'].unique()"
   ]
  },
  {
   "cell_type": "code",
   "execution_count": null,
   "metadata": {},
   "outputs": [],
   "source": [
    "# Map 0 to 'No' and 1 to 'Yes'\n",
    "scholarship_mapping = {0: 'No', 1: 'Yes'}\n",
    "\n",
    "# Apply the mapping to the 'Scholarship' column\n",
    "df_school['Scholarship'] = df_school['Scholarship'].map(scholarship_mapping)\n"
   ]
  },
  {
   "cell_type": "code",
   "execution_count": 43,
   "metadata": {},
   "outputs": [
    {
     "data": {
      "text/plain": [
       "array([ 8,  6,  1, 12,  9, 17, 15, 16, 14,  4, 13,  7,  3,  2,  5, 18, 10,\n",
       "       11], dtype=int64)"
      ]
     },
     "execution_count": 43,
     "metadata": {},
     "output_type": "execute_result"
    }
   ],
   "source": [
    "df_school['AppMode'].unique()"
   ]
  },
  {
   "cell_type": "code",
   "execution_count": null,
   "metadata": {},
   "outputs": [],
   "source": [
    "app_mode_mapping = {\n",
    "    1: 'General Admission', 8: 'General Admission', 9: 'General Admission', 12: 'General Admission',\n",
    "    2: 'Special Contingents or Conditions', 3: 'Special Contingents or Conditions', 4: 'Special Contingents or Conditions', \n",
    "    5: 'Special Contingents or Conditions', 6: 'Special Contingents or Conditions', 7: 'Special Contingents or Conditions', \n",
    "    10: 'Special Contingents or Conditions', 11: 'Special Contingents or Conditions',\n",
    "    13: 'Course/Institution Changes', 14: 'Course/Institution Changes', 15: 'Course/Institution Changes', \n",
    "    16: 'Course/Institution Changes', 17: 'Course/Institution Changes', 18: 'Course/Institution Changes'\n",
    "}\n",
    "\n",
    "df_school['AppMode'] = df_school['AppMode'].map(app_mode_mapping)\n"
   ]
  },
  {
   "cell_type": "code",
   "execution_count": 44,
   "metadata": {},
   "outputs": [
    {
     "data": {
      "text/plain": [
       "array([5, 1, 2, 4, 3, 6, 9, 0], dtype=int64)"
      ]
     },
     "execution_count": 44,
     "metadata": {},
     "output_type": "execute_result"
    }
   ],
   "source": [
    "df_school['AppOrder'].unique()"
   ]
  },
  {
   "cell_type": "code",
   "execution_count": 45,
   "metadata": {},
   "outputs": [
    {
     "data": {
      "text/plain": [
       "array([ 6,  4, 10,  8,  5,  2, 16,  1,  7,  3, 12,  9, 20, 28, 13, 29, 23,\n",
       "       32, 30, 18, 24, 19, 11, 21, 15, 27, 31, 14, 22, 17, 26, 25],\n",
       "      dtype=int64)"
      ]
     },
     "execution_count": 45,
     "metadata": {},
     "output_type": "execute_result"
    }
   ],
   "source": [
    "df_school['MotherOcc'].unique()"
   ]
  },
  {
   "cell_type": "code",
   "execution_count": null,
   "metadata": {},
   "outputs": [],
   "source": [
    "occ_mapping = {\n",
    "    # Mapping for Highly Skilled or Professional Occupations\n",
    "    1: 'Highly Skilled/Professional', 2: 'Highly Skilled/Professional', 3: 'Highly Skilled/Professional', \n",
    "    4: 'Highly Skilled/Professional', 5: 'Highly Skilled/Professional', 16: 'Highly Skilled/Professional', \n",
    "    20: 'Highly Skilled/Professional', 21: 'Highly Skilled/Professional', 19: 'Highly Skilled/Professional', \n",
    "    23: 'Highly Skilled/Professional', 24: 'Highly Skilled/Professional', 25: 'Highly Skilled/Professional', \n",
    "    26: 'Highly Skilled/Professional', 22: 'Highly Skilled/Professional', 17: 'Highly Skilled/Professional', \n",
    "    18: 'Highly Skilled/Professional', 29: 'Highly Skilled/Professional', 28: 'Highly Skilled/Professional', \n",
    "    27: 'Highly Skilled/Professional',\n",
    "\n",
    "    # Mapping for Skilled or Semi-Skilled Occupations\n",
    "    6: 'Skilled/Semi-Skilled', 7: 'Skilled/Semi-Skilled', 8: 'Skilled/Semi-Skilled', \n",
    "    9: 'Skilled/Semi-Skilled', 30: 'Skilled/Semi-Skilled', 31: 'Skilled/Semi-Skilled', \n",
    "    32: 'Skilled/Semi-Skilled', 33: 'Skilled/Semi-Skilled', 34: 'Skilled/Semi-Skilled', \n",
    "    36: 'Skilled/Semi-Skilled', 37: 'Skilled/Semi-Skilled', 38: 'Skilled/Semi-Skilled', \n",
    "    39: 'Skilled/Semi-Skilled', 40: 'Skilled/Semi-Skilled', 41: 'Skilled/Semi-Skilled', \n",
    "    42: 'Skilled/Semi-Skilled',\n",
    "\n",
    "    # Mapping for Unskilled Occupations\n",
    "    10: 'Unskilled', 12: 'Unskilled', 43: 'Unskilled', \n",
    "    44: 'Unskilled', 45: 'Unskilled', 46: 'Unskilled'\n",
    "}\n",
    "\n",
    "df_school['MotherOcc'] = df_school['MotherOcc'].map(occ_mapping)\n",
    "# Example of mapping\n",
    "df_school['FatherOcc'] = df_school['FatherOcc'].map(occ_mapping)\n"
   ]
  },
  {
   "cell_type": "code",
   "execution_count": 47,
   "metadata": {},
   "outputs": [
    {
     "data": {
      "text/plain": [
       "array([1, 0], dtype=int64)"
      ]
     },
     "execution_count": 47,
     "metadata": {},
     "output_type": "execute_result"
    }
   ],
   "source": [
    "df_school['Displaced'].unique()"
   ]
  },
  {
   "cell_type": "code",
   "execution_count": null,
   "metadata": {},
   "outputs": [],
   "source": [
    "# Map 0 to 'No' and 1 to 'Yes'\n",
    "Displaced_mapping = {0: 'No', 1: 'Yes'}\n",
    "\n",
    "# Apply the mapping to the 'Scholarship' column\n",
    "df_school['Displaced'] = df_school['Displaced'].map(Displaced_mapping)\n"
   ]
  },
  {
   "cell_type": "code",
   "execution_count": 48,
   "metadata": {},
   "outputs": [
    {
     "data": {
      "text/plain": [
       "array([0, 1], dtype=int64)"
      ]
     },
     "execution_count": 48,
     "metadata": {},
     "output_type": "execute_result"
    }
   ],
   "source": [
    "df_school['EduNeeds'].unique() "
   ]
  },
  {
   "cell_type": "code",
   "execution_count": null,
   "metadata": {},
   "outputs": [],
   "source": [
    "# Map 0 to 'No' and 1 to 'Yes'\n",
    "EduNeeds_mapping = {0: 'No', 1: 'Yes'}\n",
    "\n",
    "# Apply the mapping to the 'Scholarship' column\n",
    "df_school['EduNeeds'] = df_school['EduNeeds'].map(EduNeeds_mapping)\n"
   ]
  },
  {
   "cell_type": "code",
   "execution_count": 49,
   "metadata": {},
   "outputs": [
    {
     "data": {
      "text/plain": [
       "array([0, 1], dtype=int64)"
      ]
     },
     "execution_count": 49,
     "metadata": {},
     "output_type": "execute_result"
    }
   ],
   "source": [
    "df_school['Debtor'].unique() "
   ]
  },
  {
   "cell_type": "code",
   "execution_count": null,
   "metadata": {},
   "outputs": [],
   "source": [
    "# Map 0 to 'No' and 1 to 'Yes'\n",
    "Debtor_mapping = {0: 'No', 1: 'Yes'}\n",
    "\n",
    "# Apply the mapping to the 'Scholarship' column\n",
    "df_school['Debtor'] = df_school['Debtor'].map(Debtor_mapping)\n"
   ]
  },
  {
   "cell_type": "code",
   "execution_count": 50,
   "metadata": {},
   "outputs": [
    {
     "data": {
      "text/plain": [
       "array([1, 0], dtype=int64)"
      ]
     },
     "execution_count": 50,
     "metadata": {},
     "output_type": "execute_result"
    }
   ],
   "source": [
    "df_school['FeesUpdated'].unique() "
   ]
  },
  {
   "cell_type": "code",
   "execution_count": null,
   "metadata": {},
   "outputs": [],
   "source": [
    "# Map 0 to 'No' and 1 to 'Yes'\n",
    "FeesUpdated_mapping = {0: 'No', 1: 'Yes'}\n",
    "\n",
    "# Apply the mapping to the 'Scholarship' column\n",
    "df_school['FeesUpdated'] = df_school['FeesUpdated'].map(FeesUpdated_mapping)\n"
   ]
  },
  {
   "cell_type": "code",
   "execution_count": 51,
   "metadata": {},
   "outputs": [
    {
     "data": {
      "text/plain": [
       "array([0, 1], dtype=int64)"
      ]
     },
     "execution_count": 51,
     "metadata": {},
     "output_type": "execute_result"
    }
   ],
   "source": [
    "df_school['International'].unique() "
   ]
  },
  {
   "cell_type": "code",
   "execution_count": null,
   "metadata": {},
   "outputs": [],
   "source": [
    "# Map 0 to 'No' and 1 to 'Yes'\n",
    "International_mapping = {0: 'No', 1: 'Yes'}\n",
    "\n",
    "# Apply the mapping to the 'Scholarship' column\n",
    "df_school['International'] = df_school['International'].map(International_mapping)\n"
   ]
  },
  {
   "cell_type": "code",
   "execution_count": 38,
   "metadata": {},
   "outputs": [
    {
     "data": {
      "text/html": [
       "<div>\n",
       "<style scoped>\n",
       "    .dataframe tbody tr th:only-of-type {\n",
       "        vertical-align: middle;\n",
       "    }\n",
       "\n",
       "    .dataframe tbody tr th {\n",
       "        vertical-align: top;\n",
       "    }\n",
       "\n",
       "    .dataframe thead th {\n",
       "        text-align: right;\n",
       "    }\n",
       "</style>\n",
       "<table border=\"1\" class=\"dataframe\">\n",
       "  <thead>\n",
       "    <tr style=\"text-align: right;\">\n",
       "      <th></th>\n",
       "      <th>MaritalStat</th>\n",
       "      <th>AppMode</th>\n",
       "      <th>AppOrder</th>\n",
       "      <th>Course</th>\n",
       "      <th>DayEveningAtt</th>\n",
       "      <th>PrevQual</th>\n",
       "      <th>Nationality</th>\n",
       "      <th>MotherQual</th>\n",
       "      <th>FatherQual</th>\n",
       "      <th>MotherOcc</th>\n",
       "      <th>...</th>\n",
       "      <th>CU2Evaluations</th>\n",
       "      <th>CU2Approved</th>\n",
       "      <th>CU2Grade</th>\n",
       "      <th>CU2NoEvals</th>\n",
       "      <th>UnempRate</th>\n",
       "      <th>InflationRate</th>\n",
       "      <th>GDP</th>\n",
       "      <th>Target</th>\n",
       "      <th>MotherQual_Cate</th>\n",
       "      <th>PrevQual_Category</th>\n",
       "    </tr>\n",
       "  </thead>\n",
       "  <tbody>\n",
       "    <tr>\n",
       "      <th>0</th>\n",
       "      <td>Single</td>\n",
       "      <td>8</td>\n",
       "      <td>5</td>\n",
       "      <td>Arts and Design</td>\n",
       "      <td>daytime</td>\n",
       "      <td>1</td>\n",
       "      <td>Portuguese</td>\n",
       "      <td>13</td>\n",
       "      <td>Secondary Education</td>\n",
       "      <td>6</td>\n",
       "      <td>...</td>\n",
       "      <td>0</td>\n",
       "      <td>0</td>\n",
       "      <td>0.000000</td>\n",
       "      <td>0</td>\n",
       "      <td>10.8</td>\n",
       "      <td>1.4</td>\n",
       "      <td>1.74</td>\n",
       "      <td>1</td>\n",
       "      <td>Secondary Education</td>\n",
       "      <td>Secondary Education</td>\n",
       "    </tr>\n",
       "    <tr>\n",
       "      <th>1</th>\n",
       "      <td>Single</td>\n",
       "      <td>6</td>\n",
       "      <td>1</td>\n",
       "      <td>Social Sciences and Services</td>\n",
       "      <td>daytime</td>\n",
       "      <td>1</td>\n",
       "      <td>Portuguese</td>\n",
       "      <td>1</td>\n",
       "      <td>Higher Education</td>\n",
       "      <td>4</td>\n",
       "      <td>...</td>\n",
       "      <td>6</td>\n",
       "      <td>6</td>\n",
       "      <td>13.666667</td>\n",
       "      <td>0</td>\n",
       "      <td>13.9</td>\n",
       "      <td>-0.3</td>\n",
       "      <td>0.79</td>\n",
       "      <td>0</td>\n",
       "      <td>Secondary Education</td>\n",
       "      <td>Secondary Education</td>\n",
       "    </tr>\n",
       "    <tr>\n",
       "      <th>2</th>\n",
       "      <td>Single</td>\n",
       "      <td>1</td>\n",
       "      <td>5</td>\n",
       "      <td>Arts and Design</td>\n",
       "      <td>daytime</td>\n",
       "      <td>1</td>\n",
       "      <td>Portuguese</td>\n",
       "      <td>22</td>\n",
       "      <td>Primary Education</td>\n",
       "      <td>10</td>\n",
       "      <td>...</td>\n",
       "      <td>0</td>\n",
       "      <td>0</td>\n",
       "      <td>0.000000</td>\n",
       "      <td>0</td>\n",
       "      <td>10.8</td>\n",
       "      <td>1.4</td>\n",
       "      <td>1.74</td>\n",
       "      <td>1</td>\n",
       "      <td>Secondary Education</td>\n",
       "      <td>Secondary Education</td>\n",
       "    </tr>\n",
       "    <tr>\n",
       "      <th>3</th>\n",
       "      <td>Single</td>\n",
       "      <td>8</td>\n",
       "      <td>2</td>\n",
       "      <td>Communication and Media Studies</td>\n",
       "      <td>daytime</td>\n",
       "      <td>1</td>\n",
       "      <td>Portuguese</td>\n",
       "      <td>23</td>\n",
       "      <td>Primary Education</td>\n",
       "      <td>6</td>\n",
       "      <td>...</td>\n",
       "      <td>10</td>\n",
       "      <td>5</td>\n",
       "      <td>12.400000</td>\n",
       "      <td>0</td>\n",
       "      <td>9.4</td>\n",
       "      <td>-0.8</td>\n",
       "      <td>-3.12</td>\n",
       "      <td>0</td>\n",
       "      <td>Secondary Education</td>\n",
       "      <td>Secondary Education</td>\n",
       "    </tr>\n",
       "    <tr>\n",
       "      <th>4</th>\n",
       "      <td>Married</td>\n",
       "      <td>12</td>\n",
       "      <td>1</td>\n",
       "      <td>Social Sciences and Services</td>\n",
       "      <td>evening</td>\n",
       "      <td>1</td>\n",
       "      <td>Portuguese</td>\n",
       "      <td>22</td>\n",
       "      <td>Primary Education</td>\n",
       "      <td>10</td>\n",
       "      <td>...</td>\n",
       "      <td>6</td>\n",
       "      <td>6</td>\n",
       "      <td>13.000000</td>\n",
       "      <td>0</td>\n",
       "      <td>13.9</td>\n",
       "      <td>-0.3</td>\n",
       "      <td>0.79</td>\n",
       "      <td>0</td>\n",
       "      <td>Secondary Education</td>\n",
       "      <td>Secondary Education</td>\n",
       "    </tr>\n",
       "  </tbody>\n",
       "</table>\n",
       "<p>5 rows × 37 columns</p>\n",
       "</div>"
      ],
      "text/plain": [
       "  MaritalStat  AppMode  AppOrder                           Course  \\\n",
       "0      Single        8         5                  Arts and Design   \n",
       "1      Single        6         1     Social Sciences and Services   \n",
       "2      Single        1         5                  Arts and Design   \n",
       "3      Single        8         2  Communication and Media Studies   \n",
       "4     Married       12         1     Social Sciences and Services   \n",
       "\n",
       "  DayEveningAtt  PrevQual Nationality  MotherQual           FatherQual  \\\n",
       "0       daytime         1  Portuguese          13  Secondary Education   \n",
       "1       daytime         1  Portuguese           1     Higher Education   \n",
       "2       daytime         1  Portuguese          22    Primary Education   \n",
       "3       daytime         1  Portuguese          23    Primary Education   \n",
       "4       evening         1  Portuguese          22    Primary Education   \n",
       "\n",
       "   MotherOcc  ...  CU2Evaluations  CU2Approved   CU2Grade  CU2NoEvals  \\\n",
       "0          6  ...               0            0   0.000000           0   \n",
       "1          4  ...               6            6  13.666667           0   \n",
       "2         10  ...               0            0   0.000000           0   \n",
       "3          6  ...              10            5  12.400000           0   \n",
       "4         10  ...               6            6  13.000000           0   \n",
       "\n",
       "   UnempRate InflationRate   GDP  Target      MotherQual_Cate  \\\n",
       "0       10.8           1.4  1.74       1  Secondary Education   \n",
       "1       13.9          -0.3  0.79       0  Secondary Education   \n",
       "2       10.8           1.4  1.74       1  Secondary Education   \n",
       "3        9.4          -0.8 -3.12       0  Secondary Education   \n",
       "4       13.9          -0.3  0.79       0  Secondary Education   \n",
       "\n",
       "     PrevQual_Category  \n",
       "0  Secondary Education  \n",
       "1  Secondary Education  \n",
       "2  Secondary Education  \n",
       "3  Secondary Education  \n",
       "4  Secondary Education  \n",
       "\n",
       "[5 rows x 37 columns]"
      ]
     },
     "execution_count": 38,
     "metadata": {},
     "output_type": "execute_result"
    }
   ],
   "source": [
    "df_school.head()"
   ]
  }
 ],
 "metadata": {
  "kernelspec": {
   "display_name": "Python 3",
   "language": "python",
   "name": "python3"
  },
  "language_info": {
   "codemirror_mode": {
    "name": "ipython",
    "version": 3
   },
   "file_extension": ".py",
   "mimetype": "text/x-python",
   "name": "python",
   "nbconvert_exporter": "python",
   "pygments_lexer": "ipython3",
   "version": "3.9.13"
  }
 },
 "nbformat": 4,
 "nbformat_minor": 2
}
