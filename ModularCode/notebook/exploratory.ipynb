{
 "cells": [
  {
   "cell_type": "markdown",
   "id": "429fcaf9-ea69-4dac-af29-3930e0cb9f08",
   "metadata": {},
   "source": [
    "## Exploratory Data Analysis of the Data"
   ]
  },
  {
   "cell_type": "code",
   "execution_count": 2,
   "id": "51fe12a0-0f68-4ef8-b896-9b9d754c9c03",
   "metadata": {},
   "outputs": [
    {
     "name": "stderr",
     "output_type": "stream",
     "text": [
      "/opt/anaconda3/lib/python3.9/site-packages/pandas/core/computation/expressions.py:21: UserWarning: Pandas requires version '2.8.4' or newer of 'numexpr' (version '2.8.1' currently installed).\n",
      "  from pandas.core.computation.check import NUMEXPR_INSTALLED\n",
      "/opt/anaconda3/lib/python3.9/site-packages/pandas/core/arrays/masked.py:60: UserWarning: Pandas requires version '1.3.6' or newer of 'bottleneck' (version '1.3.4' currently installed).\n",
      "  from pandas.core import (\n"
     ]
    }
   ],
   "source": [
    "import pandas as pd\n",
    "import seaborn as sns\n",
    "import matplotlib.pyplot as plt"
   ]
  },
  {
   "cell_type": "markdown",
   "id": "729f91e2-a3fa-4a23-affc-a5dd37f3353a",
   "metadata": {},
   "source": [
    "testing out"
   ]
  },
  {
   "cell_type": "code",
   "execution_count": 3,
   "id": "fcb8c31b-edd2-4e2f-a119-0c4e2b112976",
   "metadata": {},
   "outputs": [],
   "source": [
    "df_school = pd.read_csv('../dataset/dataset.csv')"
   ]
  },
  {
   "cell_type": "code",
   "execution_count": 4,
   "id": "35b6c552-2910-462e-8dce-8f42d64ee02d",
   "metadata": {},
   "outputs": [
    {
     "data": {
      "text/html": [
       "<div>\n",
       "<style scoped>\n",
       "    .dataframe tbody tr th:only-of-type {\n",
       "        vertical-align: middle;\n",
       "    }\n",
       "\n",
       "    .dataframe tbody tr th {\n",
       "        vertical-align: top;\n",
       "    }\n",
       "\n",
       "    .dataframe thead th {\n",
       "        text-align: right;\n",
       "    }\n",
       "</style>\n",
       "<table border=\"1\" class=\"dataframe\">\n",
       "  <thead>\n",
       "    <tr style=\"text-align: right;\">\n",
       "      <th></th>\n",
       "      <th>Marital status</th>\n",
       "      <th>Application mode</th>\n",
       "      <th>Application order</th>\n",
       "      <th>Course</th>\n",
       "      <th>Daytime/evening attendance</th>\n",
       "      <th>Previous qualification</th>\n",
       "      <th>Nacionality</th>\n",
       "      <th>Mother's qualification</th>\n",
       "      <th>Father's qualification</th>\n",
       "      <th>Mother's occupation</th>\n",
       "      <th>...</th>\n",
       "      <th>Curricular units 2nd sem (credited)</th>\n",
       "      <th>Curricular units 2nd sem (enrolled)</th>\n",
       "      <th>Curricular units 2nd sem (evaluations)</th>\n",
       "      <th>Curricular units 2nd sem (approved)</th>\n",
       "      <th>Curricular units 2nd sem (grade)</th>\n",
       "      <th>Curricular units 2nd sem (without evaluations)</th>\n",
       "      <th>Unemployment rate</th>\n",
       "      <th>Inflation rate</th>\n",
       "      <th>GDP</th>\n",
       "      <th>Target</th>\n",
       "    </tr>\n",
       "  </thead>\n",
       "  <tbody>\n",
       "    <tr>\n",
       "      <th>0</th>\n",
       "      <td>1</td>\n",
       "      <td>8</td>\n",
       "      <td>5</td>\n",
       "      <td>2</td>\n",
       "      <td>1</td>\n",
       "      <td>1</td>\n",
       "      <td>1</td>\n",
       "      <td>13</td>\n",
       "      <td>10</td>\n",
       "      <td>6</td>\n",
       "      <td>...</td>\n",
       "      <td>0</td>\n",
       "      <td>0</td>\n",
       "      <td>0</td>\n",
       "      <td>0</td>\n",
       "      <td>0.000000</td>\n",
       "      <td>0</td>\n",
       "      <td>10.8</td>\n",
       "      <td>1.4</td>\n",
       "      <td>1.74</td>\n",
       "      <td>Dropout</td>\n",
       "    </tr>\n",
       "    <tr>\n",
       "      <th>1</th>\n",
       "      <td>1</td>\n",
       "      <td>6</td>\n",
       "      <td>1</td>\n",
       "      <td>11</td>\n",
       "      <td>1</td>\n",
       "      <td>1</td>\n",
       "      <td>1</td>\n",
       "      <td>1</td>\n",
       "      <td>3</td>\n",
       "      <td>4</td>\n",
       "      <td>...</td>\n",
       "      <td>0</td>\n",
       "      <td>6</td>\n",
       "      <td>6</td>\n",
       "      <td>6</td>\n",
       "      <td>13.666667</td>\n",
       "      <td>0</td>\n",
       "      <td>13.9</td>\n",
       "      <td>-0.3</td>\n",
       "      <td>0.79</td>\n",
       "      <td>Graduate</td>\n",
       "    </tr>\n",
       "    <tr>\n",
       "      <th>2</th>\n",
       "      <td>1</td>\n",
       "      <td>1</td>\n",
       "      <td>5</td>\n",
       "      <td>5</td>\n",
       "      <td>1</td>\n",
       "      <td>1</td>\n",
       "      <td>1</td>\n",
       "      <td>22</td>\n",
       "      <td>27</td>\n",
       "      <td>10</td>\n",
       "      <td>...</td>\n",
       "      <td>0</td>\n",
       "      <td>6</td>\n",
       "      <td>0</td>\n",
       "      <td>0</td>\n",
       "      <td>0.000000</td>\n",
       "      <td>0</td>\n",
       "      <td>10.8</td>\n",
       "      <td>1.4</td>\n",
       "      <td>1.74</td>\n",
       "      <td>Dropout</td>\n",
       "    </tr>\n",
       "    <tr>\n",
       "      <th>3</th>\n",
       "      <td>1</td>\n",
       "      <td>8</td>\n",
       "      <td>2</td>\n",
       "      <td>15</td>\n",
       "      <td>1</td>\n",
       "      <td>1</td>\n",
       "      <td>1</td>\n",
       "      <td>23</td>\n",
       "      <td>27</td>\n",
       "      <td>6</td>\n",
       "      <td>...</td>\n",
       "      <td>0</td>\n",
       "      <td>6</td>\n",
       "      <td>10</td>\n",
       "      <td>5</td>\n",
       "      <td>12.400000</td>\n",
       "      <td>0</td>\n",
       "      <td>9.4</td>\n",
       "      <td>-0.8</td>\n",
       "      <td>-3.12</td>\n",
       "      <td>Graduate</td>\n",
       "    </tr>\n",
       "    <tr>\n",
       "      <th>4</th>\n",
       "      <td>2</td>\n",
       "      <td>12</td>\n",
       "      <td>1</td>\n",
       "      <td>3</td>\n",
       "      <td>0</td>\n",
       "      <td>1</td>\n",
       "      <td>1</td>\n",
       "      <td>22</td>\n",
       "      <td>28</td>\n",
       "      <td>10</td>\n",
       "      <td>...</td>\n",
       "      <td>0</td>\n",
       "      <td>6</td>\n",
       "      <td>6</td>\n",
       "      <td>6</td>\n",
       "      <td>13.000000</td>\n",
       "      <td>0</td>\n",
       "      <td>13.9</td>\n",
       "      <td>-0.3</td>\n",
       "      <td>0.79</td>\n",
       "      <td>Graduate</td>\n",
       "    </tr>\n",
       "  </tbody>\n",
       "</table>\n",
       "<p>5 rows × 35 columns</p>\n",
       "</div>"
      ],
      "text/plain": [
       "   Marital status  Application mode  Application order  Course  \\\n",
       "0               1                 8                  5       2   \n",
       "1               1                 6                  1      11   \n",
       "2               1                 1                  5       5   \n",
       "3               1                 8                  2      15   \n",
       "4               2                12                  1       3   \n",
       "\n",
       "   Daytime/evening attendance  Previous qualification  Nacionality  \\\n",
       "0                           1                       1            1   \n",
       "1                           1                       1            1   \n",
       "2                           1                       1            1   \n",
       "3                           1                       1            1   \n",
       "4                           0                       1            1   \n",
       "\n",
       "   Mother's qualification  Father's qualification  Mother's occupation  ...  \\\n",
       "0                      13                      10                    6  ...   \n",
       "1                       1                       3                    4  ...   \n",
       "2                      22                      27                   10  ...   \n",
       "3                      23                      27                    6  ...   \n",
       "4                      22                      28                   10  ...   \n",
       "\n",
       "   Curricular units 2nd sem (credited)  Curricular units 2nd sem (enrolled)  \\\n",
       "0                                    0                                    0   \n",
       "1                                    0                                    6   \n",
       "2                                    0                                    6   \n",
       "3                                    0                                    6   \n",
       "4                                    0                                    6   \n",
       "\n",
       "   Curricular units 2nd sem (evaluations)  \\\n",
       "0                                       0   \n",
       "1                                       6   \n",
       "2                                       0   \n",
       "3                                      10   \n",
       "4                                       6   \n",
       "\n",
       "   Curricular units 2nd sem (approved)  Curricular units 2nd sem (grade)  \\\n",
       "0                                    0                          0.000000   \n",
       "1                                    6                         13.666667   \n",
       "2                                    0                          0.000000   \n",
       "3                                    5                         12.400000   \n",
       "4                                    6                         13.000000   \n",
       "\n",
       "   Curricular units 2nd sem (without evaluations)  Unemployment rate  \\\n",
       "0                                               0               10.8   \n",
       "1                                               0               13.9   \n",
       "2                                               0               10.8   \n",
       "3                                               0                9.4   \n",
       "4                                               0               13.9   \n",
       "\n",
       "   Inflation rate   GDP    Target  \n",
       "0             1.4  1.74   Dropout  \n",
       "1            -0.3  0.79  Graduate  \n",
       "2             1.4  1.74   Dropout  \n",
       "3            -0.8 -3.12  Graduate  \n",
       "4            -0.3  0.79  Graduate  \n",
       "\n",
       "[5 rows x 35 columns]"
      ]
     },
     "execution_count": 4,
     "metadata": {},
     "output_type": "execute_result"
    }
   ],
   "source": [
    "df_school.head()"
   ]
  },
  {
   "cell_type": "code",
   "execution_count": 5,
   "id": "cdede247-6656-454f-8df8-f522550c4ed1",
   "metadata": {},
   "outputs": [],
   "source": [
    "\n",
    "\n",
    "column_mapping = {\n",
    "    'Marital status': 'MaritalStat',\n",
    "    'Application mode': 'AppMode',\n",
    "    'Application order': 'AppOrder',\n",
    "    'Course': 'Course',\n",
    "    'Daytime/evening attendance': 'DayEveningAtt',\n",
    "    'Previous qualification': 'PrevQual',\n",
    "    'Nacionality': 'Nationality',  \n",
    "    \"Mother's qualification\": 'MotherQual',\n",
    "    \"Father's qualification\": 'FatherQual',\n",
    "    \"Mother's occupation\": 'MotherOcc',\n",
    "    \"Father's occupation\": 'FatherOcc',\n",
    "    'Displaced': 'Displaced',\n",
    "    'Educational special needs': 'EduNeeds',\n",
    "    'Debtor': 'Debtor',\n",
    "    'Tuition fees up to date': 'FeesUpdated',\n",
    "    'Gender': 'Gender',\n",
    "    'Scholarship holder': 'Scholarship',\n",
    "    'Age at enrollment': 'AgeEnroll',\n",
    "    'International': 'International',\n",
    "    'Curricular units 1st sem (credited)': 'CU1Credited',\n",
    "    'Curricular units 1st sem (enrolled)': 'CU1Enrolled',\n",
    "    'Curricular units 1st sem (evaluations)': 'CU1Evaluations',\n",
    "    'Curricular units 1st sem (approved)': 'CU1Approved',\n",
    "    'Curricular units 1st sem (grade)': 'CU1Grade',\n",
    "    'Curricular units 1st sem (without evaluations)': 'CU1NoEvals',\n",
    "    'Curricular units 2nd sem (credited)': 'CU2Credited',\n",
    "    'Curricular units 2nd sem (enrolled)': 'CU2Enrolled',\n",
    "    'Curricular units 2nd sem (evaluations)': 'CU2Evaluations',\n",
    "    'Curricular units 2nd sem (approved)': 'CU2Approved',\n",
    "    'Curricular units 2nd sem (grade)': 'CU2Grade',\n",
    "    'Curricular units 2nd sem (without evaluations)': 'CU2NoEvals',\n",
    "    'Unemployment rate': 'UnempRate',\n",
    "    'Inflation rate': 'InflationRate',\n",
    "    'GDP': 'GDP',\n",
    "    'Target': 'Target'\n",
    "}\n",
    "\n",
    "\n",
    "\n",
    "df_school.rename(columns=column_mapping, inplace=True)\n"
   ]
  },
  {
   "cell_type": "code",
   "execution_count": 6,
   "id": "d079e7cc",
   "metadata": {},
   "outputs": [],
   "source": [
    "# Gender replacement\n",
    "gender_replace = {\n",
    "    1: 'male',\n",
    "    0: 'female'\n",
    "}\n",
    "df_school['Gender'] = df_school['Gender'].replace(gender_replace)\n",
    "\n",
    "# Nationality replacement\n",
    "nationality_replace = {\n",
    "    1: 'Portuguese', 2: 'German', 3: 'Spanish', 4: 'Italian', 5: 'Dutch', 6: 'English',\n",
    "    7: 'Lithuanian', 8: 'Angolan', 9: 'Cape Verdean', 10: 'Guinean', 11: 'Mozambican',\n",
    "    12: 'Santomean', 13: 'Turkish', 14: 'Brazilian', 15: 'Romanian', 16: 'Moldova (Republic of)',\n",
    "    17: 'Mexican', 18: 'Ukrainian', 19: 'Russian', 20: 'Cuban', 21: 'Colombian'\n",
    "}\n",
    "df_school['Nationality'] = df_school['Nationality'].replace(nationality_replace)"
   ]
  },
  {
   "cell_type": "markdown",
   "id": "5df2f5af-efc3-484a-8a8d-d9efd3376666",
   "metadata": {},
   "source": [
    "### Count of Target"
   ]
  },
  {
   "cell_type": "code",
   "execution_count": 7,
   "id": "df0d94ce-2deb-4c17-9e06-96aaba1e2830",
   "metadata": {},
   "outputs": [
    {
     "ename": "KeyError",
     "evalue": "'index'",
     "output_type": "error",
     "traceback": [
      "\u001b[0;31m---------------------------------------------------------------------------\u001b[0m",
      "\u001b[0;31mKeyError\u001b[0m                                  Traceback (most recent call last)",
      "File \u001b[0;32m/opt/anaconda3/lib/python3.9/site-packages/pandas/core/indexes/base.py:3805\u001b[0m, in \u001b[0;36mIndex.get_loc\u001b[0;34m(self, key)\u001b[0m\n\u001b[1;32m   3804\u001b[0m \u001b[38;5;28;01mtry\u001b[39;00m:\n\u001b[0;32m-> 3805\u001b[0m     \u001b[38;5;28;01mreturn\u001b[39;00m \u001b[38;5;28;43mself\u001b[39;49m\u001b[38;5;241;43m.\u001b[39;49m\u001b[43m_engine\u001b[49m\u001b[38;5;241;43m.\u001b[39;49m\u001b[43mget_loc\u001b[49m\u001b[43m(\u001b[49m\u001b[43mcasted_key\u001b[49m\u001b[43m)\u001b[49m\n\u001b[1;32m   3806\u001b[0m \u001b[38;5;28;01mexcept\u001b[39;00m \u001b[38;5;167;01mKeyError\u001b[39;00m \u001b[38;5;28;01mas\u001b[39;00m err:\n",
      "File \u001b[0;32mindex.pyx:167\u001b[0m, in \u001b[0;36mpandas._libs.index.IndexEngine.get_loc\u001b[0;34m()\u001b[0m\n",
      "File \u001b[0;32mindex.pyx:196\u001b[0m, in \u001b[0;36mpandas._libs.index.IndexEngine.get_loc\u001b[0;34m()\u001b[0m\n",
      "File \u001b[0;32mpandas/_libs/hashtable_class_helper.pxi:7081\u001b[0m, in \u001b[0;36mpandas._libs.hashtable.PyObjectHashTable.get_item\u001b[0;34m()\u001b[0m\n",
      "File \u001b[0;32mpandas/_libs/hashtable_class_helper.pxi:7089\u001b[0m, in \u001b[0;36mpandas._libs.hashtable.PyObjectHashTable.get_item\u001b[0;34m()\u001b[0m\n",
      "\u001b[0;31mKeyError\u001b[0m: 'index'",
      "\nThe above exception was the direct cause of the following exception:\n",
      "\u001b[0;31mKeyError\u001b[0m                                  Traceback (most recent call last)",
      "Input \u001b[0;32mIn [7]\u001b[0m, in \u001b[0;36m<cell line: 5>\u001b[0;34m()\u001b[0m\n\u001b[1;32m      3\u001b[0m class_counts\u001b[38;5;241m.\u001b[39mreset_index(inplace\u001b[38;5;241m=\u001b[39m\u001b[38;5;28;01mTrue\u001b[39;00m)\n\u001b[1;32m      4\u001b[0m class_counts\n\u001b[0;32m----> 5\u001b[0m plt\u001b[38;5;241m.\u001b[39mbar(\u001b[43mclass_counts\u001b[49m\u001b[43m[\u001b[49m\u001b[38;5;124;43m'\u001b[39;49m\u001b[38;5;124;43mindex\u001b[39;49m\u001b[38;5;124;43m'\u001b[39;49m\u001b[43m]\u001b[49m, class_counts[\u001b[38;5;124m'\u001b[39m\u001b[38;5;124mTarget\u001b[39m\u001b[38;5;124m'\u001b[39m], width \u001b[38;5;241m=\u001b[39m \u001b[38;5;241m0.50\u001b[39m)\n\u001b[1;32m      6\u001b[0m plt\u001b[38;5;241m.\u001b[39mtitle(\u001b[38;5;124m\"\u001b[39m\u001b[38;5;124mTarget Count\u001b[39m\u001b[38;5;124m\"\u001b[39m)\n\u001b[1;32m      7\u001b[0m plt\u001b[38;5;241m.\u001b[39mtight_layout()\n",
      "File \u001b[0;32m/opt/anaconda3/lib/python3.9/site-packages/pandas/core/frame.py:4090\u001b[0m, in \u001b[0;36mDataFrame.__getitem__\u001b[0;34m(self, key)\u001b[0m\n\u001b[1;32m   4088\u001b[0m \u001b[38;5;28;01mif\u001b[39;00m \u001b[38;5;28mself\u001b[39m\u001b[38;5;241m.\u001b[39mcolumns\u001b[38;5;241m.\u001b[39mnlevels \u001b[38;5;241m>\u001b[39m \u001b[38;5;241m1\u001b[39m:\n\u001b[1;32m   4089\u001b[0m     \u001b[38;5;28;01mreturn\u001b[39;00m \u001b[38;5;28mself\u001b[39m\u001b[38;5;241m.\u001b[39m_getitem_multilevel(key)\n\u001b[0;32m-> 4090\u001b[0m indexer \u001b[38;5;241m=\u001b[39m \u001b[38;5;28;43mself\u001b[39;49m\u001b[38;5;241;43m.\u001b[39;49m\u001b[43mcolumns\u001b[49m\u001b[38;5;241;43m.\u001b[39;49m\u001b[43mget_loc\u001b[49m\u001b[43m(\u001b[49m\u001b[43mkey\u001b[49m\u001b[43m)\u001b[49m\n\u001b[1;32m   4091\u001b[0m \u001b[38;5;28;01mif\u001b[39;00m is_integer(indexer):\n\u001b[1;32m   4092\u001b[0m     indexer \u001b[38;5;241m=\u001b[39m [indexer]\n",
      "File \u001b[0;32m/opt/anaconda3/lib/python3.9/site-packages/pandas/core/indexes/base.py:3812\u001b[0m, in \u001b[0;36mIndex.get_loc\u001b[0;34m(self, key)\u001b[0m\n\u001b[1;32m   3807\u001b[0m     \u001b[38;5;28;01mif\u001b[39;00m \u001b[38;5;28misinstance\u001b[39m(casted_key, \u001b[38;5;28mslice\u001b[39m) \u001b[38;5;129;01mor\u001b[39;00m (\n\u001b[1;32m   3808\u001b[0m         \u001b[38;5;28misinstance\u001b[39m(casted_key, abc\u001b[38;5;241m.\u001b[39mIterable)\n\u001b[1;32m   3809\u001b[0m         \u001b[38;5;129;01mand\u001b[39;00m \u001b[38;5;28many\u001b[39m(\u001b[38;5;28misinstance\u001b[39m(x, \u001b[38;5;28mslice\u001b[39m) \u001b[38;5;28;01mfor\u001b[39;00m x \u001b[38;5;129;01min\u001b[39;00m casted_key)\n\u001b[1;32m   3810\u001b[0m     ):\n\u001b[1;32m   3811\u001b[0m         \u001b[38;5;28;01mraise\u001b[39;00m InvalidIndexError(key)\n\u001b[0;32m-> 3812\u001b[0m     \u001b[38;5;28;01mraise\u001b[39;00m \u001b[38;5;167;01mKeyError\u001b[39;00m(key) \u001b[38;5;28;01mfrom\u001b[39;00m \u001b[38;5;21;01merr\u001b[39;00m\n\u001b[1;32m   3813\u001b[0m \u001b[38;5;28;01mexcept\u001b[39;00m \u001b[38;5;167;01mTypeError\u001b[39;00m:\n\u001b[1;32m   3814\u001b[0m     \u001b[38;5;66;03m# If we have a listlike key, _check_indexing_error will raise\u001b[39;00m\n\u001b[1;32m   3815\u001b[0m     \u001b[38;5;66;03m#  InvalidIndexError. Otherwise we fall through and re-raise\u001b[39;00m\n\u001b[1;32m   3816\u001b[0m     \u001b[38;5;66;03m#  the TypeError.\u001b[39;00m\n\u001b[1;32m   3817\u001b[0m     \u001b[38;5;28mself\u001b[39m\u001b[38;5;241m.\u001b[39m_check_indexing_error(key)\n",
      "\u001b[0;31mKeyError\u001b[0m: 'index'"
     ]
    },
    {
     "data": {
      "text/plain": [
       "<Figure size 720x432 with 0 Axes>"
      ]
     },
     "metadata": {},
     "output_type": "display_data"
    }
   ],
   "source": [
    "\n",
    "plt.figure(figsize=(10, 6))\n",
    "class_counts = pd.DataFrame(df_school['Target'].value_counts())\n",
    "class_counts.reset_index(inplace=True)\n",
    "class_counts\n",
    "plt.bar(class_counts['index'], class_counts['Target'], width = 0.50)\n",
    "plt.title(\"Target Count\")\n",
    "plt.tight_layout()\n",
    "plt.show()"
   ]
  },
  {
   "cell_type": "markdown",
   "id": "9b2a413b-b731-49a7-bf57-4fe1bf131961",
   "metadata": {},
   "source": [
    "### Unemployment Rate and Target, Gender"
   ]
  },
  {
   "cell_type": "code",
   "execution_count": 8,
   "id": "dafa657d-0ef7-4e7a-ab59-ca090d683f0b",
   "metadata": {},
   "outputs": [
    {
     "data": {
      "image/png": "[encoded data removed]",
      "text/plain": [
       "<Figure size 720x432 with 1 Axes>"
      ]
     },
     "metadata": {
      "needs_background": "light"
     },
     "output_type": "display_data"
    }
   ],
   "source": [
    "plt.figure(figsize=(10, 6))\n",
    "sns.boxplot(x='Target', y='UnempRate',hue='Gender', data=df_school)\n",
    "plt.title('Unemployment Rate and Target')\n",
    "plt.show()"
   ]
  },
  {
   "cell_type": "markdown",
   "id": "969fdb7e",
   "metadata": {},
   "source": [
    "### Distribution of students by gender, nationality, and age. "
   ]
  },
  {
   "cell_type": "code",
   "execution_count": 9,
   "id": "b26657b9",
   "metadata": {},
   "outputs": [],
   "source": [
    "# Function to annotate the bars with counts\n",
    "def annotate_counts(ax):\n",
    "    for p in ax.patches:\n",
    "        height = p.get_height()\n",
    "        ax.text(p.get_x() + p.get_width() / 2., height + 0.1,\n",
    "                '{:.0f}'.format(height),\n",
    "                ha='center', va='bottom')\n",
    "\n"
   ]
  },
  {
   "cell_type": "code",
   "execution_count": 10,
   "id": "836311a6",
   "metadata": {},
   "outputs": [
    {
     "data": {
      "text/plain": [
       "array(['male', 'female'], dtype=object)"
      ]
     },
     "execution_count": 10,
     "metadata": {},
     "output_type": "execute_result"
    }
   ],
   "source": [
    "df_school['Gender'].unique()"
   ]
  },
  {
   "cell_type": "code",
   "execution_count": 11,
   "id": "f28242b4",
   "metadata": {},
   "outputs": [
    {
     "data": {
      "text/plain": [
       "array(['Portuguese', 'Romanian', 'Spanish', 'Brazilian', 'Santomean',\n",
       "       'Ukrainian', 'Dutch', 'Mozambican', 'Angolan', 'Mexican',\n",
       "       'Italian', 'Cape Verdean', 'Turkish', 'Moldova (Republic of)',\n",
       "       'Guinean', 'Colombian', 'German', 'Cuban', 'Russian', 'English',\n",
       "       'Lithuanian'], dtype=object)"
      ]
     },
     "execution_count": 11,
     "metadata": {},
     "output_type": "execute_result"
    }
   ],
   "source": [
    "df_school['Nationality'].unique()"
   ]
  },
  {
   "cell_type": "code",
   "execution_count": 12,
   "id": "e3abf2a6",
   "metadata": {},
   "outputs": [
    {
     "data": {
      "text/plain": [
       "array(['Portuguese', 'Romanian', 'Spanish', 'Brazilian', 'Santomean',\n",
       "       'Ukrainian', 'Dutch', 'Mozambican', 'Angolan', 'Mexican',\n",
       "       'Italian', 'Cape Verdean', 'Turkish', 'Moldova (Republic of)',\n",
       "       'Guinean', 'Colombian', 'German', 'Cuban', 'Russian', 'English',\n",
       "       'Lithuanian'], dtype=object)"
      ]
     },
     "execution_count": 12,
     "metadata": {},
     "output_type": "execute_result"
    }
   ],
   "source": [
    "df_school['Nationality'].unique()"
   ]
  },
  {
   "cell_type": "markdown",
   "id": "502adc93-3d4e-46f8-b394-528f8538838e",
   "metadata": {},
   "source": [
    "### Map countries to continents"
   ]
  },
  {
   "cell_type": "code",
   "execution_count": 13,
   "id": "00477588-b599-4d2d-89fd-62579f7ab7d7",
   "metadata": {},
   "outputs": [],
   "source": [
    "country_to_continent = {\n",
    "    'Portuguese': 'Europe', \n",
    "    'German': 'Europe', \n",
    "    'Spanish': 'Europe',\n",
    "    'Italian': 'Europe', \n",
    "    'Dutch': 'Europe',\n",
    "    'English': 'Europe', \n",
    "    'Lithuanian': 'Europe', \n",
    "    'Angolan': 'Africa', \n",
    "    'Cape Verdean': 'Africa',\n",
    "    'Guinean': 'Africa', \n",
    "    'Mozambican': 'Africa',\n",
    "    'Santomean': 'Africa',\n",
    "    'Turkish': 'Africa',\n",
    "    'Brazilian': 'America',\n",
    "    'Romanian': 'Europe', \n",
    "    'Moldova (Republic of)': 'Europe',\n",
    "    'Mexican': 'America',\n",
    "    'Ukrainian': 'Europe',\n",
    "    'Russian': 'Europe',\n",
    "    'Cuban': 'America',\n",
    "    'Colombian': 'America'\n",
    "}\n",
    "\n",
    "df_school['Continent'] = df_school['Nationality'].map(country_to_continent)\n"
   ]
  },
  {
   "cell_type": "code",
   "execution_count": 14,
   "id": "2e849f4e-ae76-4ef5-82b5-e43cabaa71c8",
   "metadata": {},
   "outputs": [],
   "source": [
    "# df_school['Nationality'].value_counts()"
   ]
  },
  {
   "cell_type": "code",
   "execution_count": 15,
   "id": "a12d8138",
   "metadata": {},
   "outputs": [
    {
     "data": {
      "text/plain": [
       "Continent\n",
       "Europe     4345\n",
       "America      42\n",
       "Africa       37\n",
       "Name: count, dtype: int64"
      ]
     },
     "execution_count": 15,
     "metadata": {},
     "output_type": "execute_result"
    }
   ],
   "source": [
    "df_school['Continent'].value_counts()\n"
   ]
  },
  {
   "cell_type": "code",
   "execution_count": 16,
   "id": "92e2fa40",
   "metadata": {},
   "outputs": [
    {
     "data": {
      "image/png": "[encoded data removed]",
      "text/plain": [
       "<Figure size 576x432 with 1 Axes>"
      ]
     },
     "metadata": {
      "needs_background": "light"
     },
     "output_type": "display_data"
    },
    {
     "data": {
      "image/png": "[encoded data removed]",
      "text/plain": [
       "<Figure size 576x432 with 1 Axes>"
      ]
     },
     "metadata": {
      "needs_background": "light"
     },
     "output_type": "display_data"
    },
    {
     "ename": "OptionError",
     "evalue": "\"No such keys(s): 'mode.use_inf_as_null'\"",
     "output_type": "error",
     "traceback": [
      "\u001b[0;31m---------------------------------------------------------------------------\u001b[0m",
      "\u001b[0;31mOptionError\u001b[0m                               Traceback (most recent call last)",
      "Input \u001b[0;32mIn [16]\u001b[0m, in \u001b[0;36m<cell line: 32>\u001b[0;34m()\u001b[0m\n\u001b[1;32m     29\u001b[0m plt\u001b[38;5;241m.\u001b[39mshow()\n\u001b[1;32m     31\u001b[0m \u001b[38;5;66;03m# Age at Enrollment Distribution\u001b[39;00m\n\u001b[0;32m---> 32\u001b[0m g \u001b[38;5;241m=\u001b[39m \u001b[43msns\u001b[49m\u001b[38;5;241;43m.\u001b[39;49m\u001b[43mdisplot\u001b[49m\u001b[43m(\u001b[49m\u001b[43mdf_school\u001b[49m\u001b[43m[\u001b[49m\u001b[38;5;124;43m'\u001b[39;49m\u001b[38;5;124;43mAgeEnroll\u001b[39;49m\u001b[38;5;124;43m'\u001b[39;49m\u001b[43m]\u001b[49m\u001b[43m,\u001b[49m\u001b[43m \u001b[49m\u001b[43mkde\u001b[49m\u001b[38;5;241;43m=\u001b[39;49m\u001b[38;5;28;43;01mTrue\u001b[39;49;00m\u001b[43m,\u001b[49m\u001b[43m \u001b[49m\u001b[43maspect\u001b[49m\u001b[38;5;241;43m=\u001b[39;49m\u001b[38;5;241;43m1.5\u001b[39;49m\u001b[43m)\u001b[49m\n\u001b[1;32m     33\u001b[0m g\u001b[38;5;241m.\u001b[39max\u001b[38;5;241m.\u001b[39mset_title(\u001b[38;5;124m'\u001b[39m\u001b[38;5;124mDistribution of Students by Age at Enrollment\u001b[39m\u001b[38;5;124m'\u001b[39m)\n\u001b[1;32m     34\u001b[0m \u001b[38;5;66;03m#annotate_stats(g.ax, df_school['Age at enrollment'])\u001b[39;00m\n",
      "File \u001b[0;32m/opt/anaconda3/lib/python3.9/site-packages/seaborn/distributions.py:2274\u001b[0m, in \u001b[0;36mdisplot\u001b[0;34m(data, x, y, hue, row, col, weights, kind, rug, rug_kws, log_scale, legend, palette, hue_order, hue_norm, color, col_wrap, row_order, col_order, height, aspect, facet_kws, **kwargs)\u001b[0m\n\u001b[1;32m   2271\u001b[0m \u001b[38;5;28;01mif\u001b[39;00m p\u001b[38;5;241m.\u001b[39munivariate:\n\u001b[1;32m   2273\u001b[0m     _assign_default_kwargs(hist_kws, p\u001b[38;5;241m.\u001b[39mplot_univariate_histogram, histplot)\n\u001b[0;32m-> 2274\u001b[0m     \u001b[43mp\u001b[49m\u001b[38;5;241;43m.\u001b[39;49m\u001b[43mplot_univariate_histogram\u001b[49m\u001b[43m(\u001b[49m\u001b[38;5;241;43m*\u001b[39;49m\u001b[38;5;241;43m*\u001b[39;49m\u001b[43mhist_kws\u001b[49m\u001b[43m)\u001b[49m\n\u001b[1;32m   2276\u001b[0m \u001b[38;5;28;01melse\u001b[39;00m:\n\u001b[1;32m   2278\u001b[0m     _assign_default_kwargs(hist_kws, p\u001b[38;5;241m.\u001b[39mplot_bivariate_histogram, histplot)\n",
      "File \u001b[0;32m/opt/anaconda3/lib/python3.9/site-packages/seaborn/distributions.py:418\u001b[0m, in \u001b[0;36m_DistributionPlotter.plot_univariate_histogram\u001b[0;34m(self, multiple, element, fill, common_norm, common_bins, shrink, kde, kde_kws, color, legend, line_kws, estimate_kws, **plot_kws)\u001b[0m\n\u001b[1;32m    416\u001b[0m     kde_kws[\u001b[38;5;124m\"\u001b[39m\u001b[38;5;124mcumulative\u001b[39m\u001b[38;5;124m\"\u001b[39m] \u001b[38;5;241m=\u001b[39m estimate_kws[\u001b[38;5;124m\"\u001b[39m\u001b[38;5;124mcumulative\u001b[39m\u001b[38;5;124m\"\u001b[39m]\n\u001b[1;32m    417\u001b[0m     log_scale \u001b[38;5;241m=\u001b[39m \u001b[38;5;28mself\u001b[39m\u001b[38;5;241m.\u001b[39m_log_scaled(\u001b[38;5;28mself\u001b[39m\u001b[38;5;241m.\u001b[39mdata_variable)\n\u001b[0;32m--> 418\u001b[0m     densities \u001b[38;5;241m=\u001b[39m \u001b[38;5;28;43mself\u001b[39;49m\u001b[38;5;241;43m.\u001b[39;49m\u001b[43m_compute_univariate_density\u001b[49m\u001b[43m(\u001b[49m\n\u001b[1;32m    419\u001b[0m \u001b[43m        \u001b[49m\u001b[38;5;28;43mself\u001b[39;49m\u001b[38;5;241;43m.\u001b[39;49m\u001b[43mdata_variable\u001b[49m\u001b[43m,\u001b[49m\n\u001b[1;32m    420\u001b[0m \u001b[43m        \u001b[49m\u001b[43mcommon_norm\u001b[49m\u001b[43m,\u001b[49m\n\u001b[1;32m    421\u001b[0m \u001b[43m        \u001b[49m\u001b[43mcommon_bins\u001b[49m\u001b[43m,\u001b[49m\n\u001b[1;32m    422\u001b[0m \u001b[43m        \u001b[49m\u001b[43mkde_kws\u001b[49m\u001b[43m,\u001b[49m\n\u001b[1;32m    423\u001b[0m \u001b[43m        \u001b[49m\u001b[43mlog_scale\u001b[49m\u001b[43m,\u001b[49m\n\u001b[1;32m    424\u001b[0m \u001b[43m        \u001b[49m\u001b[43mwarn_singular\u001b[49m\u001b[38;5;241;43m=\u001b[39;49m\u001b[38;5;28;43;01mFalse\u001b[39;49;00m\u001b[43m,\u001b[49m\n\u001b[1;32m    425\u001b[0m \u001b[43m    \u001b[49m\u001b[43m)\u001b[49m\n\u001b[1;32m    427\u001b[0m \u001b[38;5;66;03m# First pass through the data to compute the histograms\u001b[39;00m\n\u001b[1;32m    428\u001b[0m \u001b[38;5;28;01mfor\u001b[39;00m sub_vars, sub_data \u001b[38;5;129;01min\u001b[39;00m \u001b[38;5;28mself\u001b[39m\u001b[38;5;241m.\u001b[39miter_data(\u001b[38;5;124m\"\u001b[39m\u001b[38;5;124mhue\u001b[39m\u001b[38;5;124m\"\u001b[39m, from_comp_data\u001b[38;5;241m=\u001b[39m\u001b[38;5;28;01mTrue\u001b[39;00m):\n\u001b[1;32m    429\u001b[0m \n\u001b[1;32m    430\u001b[0m     \u001b[38;5;66;03m# Prepare the relevant data\u001b[39;00m\n",
      "File \u001b[0;32m/opt/anaconda3/lib/python3.9/site-packages/seaborn/distributions.py:303\u001b[0m, in \u001b[0;36m_DistributionPlotter._compute_univariate_density\u001b[0;34m(self, data_variable, common_norm, common_grid, estimate_kws, log_scale, warn_singular)\u001b[0m\n\u001b[1;32m    299\u001b[0m     common_norm \u001b[38;5;241m=\u001b[39m \u001b[38;5;28;01mFalse\u001b[39;00m\n\u001b[1;32m    301\u001b[0m densities \u001b[38;5;241m=\u001b[39m {}\n\u001b[0;32m--> 303\u001b[0m \u001b[38;5;28;01mfor\u001b[39;00m sub_vars, sub_data \u001b[38;5;129;01min\u001b[39;00m \u001b[38;5;28mself\u001b[39m\u001b[38;5;241m.\u001b[39miter_data(\u001b[38;5;124m\"\u001b[39m\u001b[38;5;124mhue\u001b[39m\u001b[38;5;124m\"\u001b[39m, from_comp_data\u001b[38;5;241m=\u001b[39m\u001b[38;5;28;01mTrue\u001b[39;00m):\n\u001b[1;32m    304\u001b[0m \n\u001b[1;32m    305\u001b[0m     \u001b[38;5;66;03m# Extract the data points from this sub set and remove nulls\u001b[39;00m\n\u001b[1;32m    306\u001b[0m     sub_data \u001b[38;5;241m=\u001b[39m sub_data\u001b[38;5;241m.\u001b[39mdropna()\n\u001b[1;32m    307\u001b[0m     observations \u001b[38;5;241m=\u001b[39m sub_data[data_variable]\n",
      "File \u001b[0;32m/opt/anaconda3/lib/python3.9/site-packages/seaborn/_core.py:983\u001b[0m, in \u001b[0;36mVectorPlotter.iter_data\u001b[0;34m(self, grouping_vars, reverse, from_comp_data)\u001b[0m\n\u001b[1;32m    978\u001b[0m grouping_vars \u001b[38;5;241m=\u001b[39m [\n\u001b[1;32m    979\u001b[0m     var \u001b[38;5;28;01mfor\u001b[39;00m var \u001b[38;5;129;01min\u001b[39;00m grouping_vars \u001b[38;5;28;01mif\u001b[39;00m var \u001b[38;5;129;01min\u001b[39;00m \u001b[38;5;28mself\u001b[39m\u001b[38;5;241m.\u001b[39mvariables\n\u001b[1;32m    980\u001b[0m ]\n\u001b[1;32m    982\u001b[0m \u001b[38;5;28;01mif\u001b[39;00m from_comp_data:\n\u001b[0;32m--> 983\u001b[0m     data \u001b[38;5;241m=\u001b[39m \u001b[38;5;28;43mself\u001b[39;49m\u001b[38;5;241;43m.\u001b[39;49m\u001b[43mcomp_data\u001b[49m\n\u001b[1;32m    984\u001b[0m \u001b[38;5;28;01melse\u001b[39;00m:\n\u001b[1;32m    985\u001b[0m     data \u001b[38;5;241m=\u001b[39m \u001b[38;5;28mself\u001b[39m\u001b[38;5;241m.\u001b[39mplot_data\n",
      "File \u001b[0;32m/opt/anaconda3/lib/python3.9/site-packages/seaborn/_core.py:1054\u001b[0m, in \u001b[0;36mVectorPlotter.comp_data\u001b[0;34m(self)\u001b[0m\n\u001b[1;32m   1050\u001b[0m axis \u001b[38;5;241m=\u001b[39m \u001b[38;5;28mgetattr\u001b[39m(ax, \u001b[38;5;124mf\u001b[39m\u001b[38;5;124m\"\u001b[39m\u001b[38;5;132;01m{\u001b[39;00mvar\u001b[38;5;132;01m}\u001b[39;00m\u001b[38;5;124maxis\u001b[39m\u001b[38;5;124m\"\u001b[39m)\n\u001b[1;32m   1052\u001b[0m \u001b[38;5;66;03m# Use the converter assigned to the axis to get a float representation\u001b[39;00m\n\u001b[1;32m   1053\u001b[0m \u001b[38;5;66;03m# of the data, passing np.nan or pd.NA through (pd.NA becomes np.nan)\u001b[39;00m\n\u001b[0;32m-> 1054\u001b[0m \u001b[38;5;28;01mwith\u001b[39;00m pd\u001b[38;5;241m.\u001b[39moption_context(\u001b[38;5;124m'\u001b[39m\u001b[38;5;124mmode.use_inf_as_null\u001b[39m\u001b[38;5;124m'\u001b[39m, \u001b[38;5;28;01mTrue\u001b[39;00m):\n\u001b[1;32m   1055\u001b[0m     orig \u001b[38;5;241m=\u001b[39m \u001b[38;5;28mself\u001b[39m\u001b[38;5;241m.\u001b[39mplot_data[var]\u001b[38;5;241m.\u001b[39mdropna()\n\u001b[1;32m   1056\u001b[0m comp_col \u001b[38;5;241m=\u001b[39m pd\u001b[38;5;241m.\u001b[39mSeries(index\u001b[38;5;241m=\u001b[39morig\u001b[38;5;241m.\u001b[39mindex, dtype\u001b[38;5;241m=\u001b[39m\u001b[38;5;28mfloat\u001b[39m, name\u001b[38;5;241m=\u001b[39mvar)\n",
      "File \u001b[0;32m/opt/anaconda3/lib/python3.9/site-packages/pandas/_config/config.py:480\u001b[0m, in \u001b[0;36moption_context.__enter__\u001b[0;34m(self)\u001b[0m\n\u001b[1;32m    479\u001b[0m \u001b[38;5;28;01mdef\u001b[39;00m \u001b[38;5;21m__enter__\u001b[39m(\u001b[38;5;28mself\u001b[39m) \u001b[38;5;241m-\u001b[39m\u001b[38;5;241m>\u001b[39m \u001b[38;5;28;01mNone\u001b[39;00m:\n\u001b[0;32m--> 480\u001b[0m     \u001b[38;5;28mself\u001b[39m\u001b[38;5;241m.\u001b[39mundo \u001b[38;5;241m=\u001b[39m [(pat, _get_option(pat)) \u001b[38;5;28;01mfor\u001b[39;00m pat, val \u001b[38;5;129;01min\u001b[39;00m \u001b[38;5;28mself\u001b[39m\u001b[38;5;241m.\u001b[39mops]\n\u001b[1;32m    482\u001b[0m     \u001b[38;5;28;01mfor\u001b[39;00m pat, val \u001b[38;5;129;01min\u001b[39;00m \u001b[38;5;28mself\u001b[39m\u001b[38;5;241m.\u001b[39mops:\n\u001b[1;32m    483\u001b[0m         _set_option(pat, val, silent\u001b[38;5;241m=\u001b[39m\u001b[38;5;28;01mTrue\u001b[39;00m)\n",
      "File \u001b[0;32m/opt/anaconda3/lib/python3.9/site-packages/pandas/_config/config.py:480\u001b[0m, in \u001b[0;36m<listcomp>\u001b[0;34m(.0)\u001b[0m\n\u001b[1;32m    479\u001b[0m \u001b[38;5;28;01mdef\u001b[39;00m \u001b[38;5;21m__enter__\u001b[39m(\u001b[38;5;28mself\u001b[39m) \u001b[38;5;241m-\u001b[39m\u001b[38;5;241m>\u001b[39m \u001b[38;5;28;01mNone\u001b[39;00m:\n\u001b[0;32m--> 480\u001b[0m     \u001b[38;5;28mself\u001b[39m\u001b[38;5;241m.\u001b[39mundo \u001b[38;5;241m=\u001b[39m [(pat, \u001b[43m_get_option\u001b[49m\u001b[43m(\u001b[49m\u001b[43mpat\u001b[49m\u001b[43m)\u001b[49m) \u001b[38;5;28;01mfor\u001b[39;00m pat, val \u001b[38;5;129;01min\u001b[39;00m \u001b[38;5;28mself\u001b[39m\u001b[38;5;241m.\u001b[39mops]\n\u001b[1;32m    482\u001b[0m     \u001b[38;5;28;01mfor\u001b[39;00m pat, val \u001b[38;5;129;01min\u001b[39;00m \u001b[38;5;28mself\u001b[39m\u001b[38;5;241m.\u001b[39mops:\n\u001b[1;32m    483\u001b[0m         _set_option(pat, val, silent\u001b[38;5;241m=\u001b[39m\u001b[38;5;28;01mTrue\u001b[39;00m)\n",
      "File \u001b[0;32m/opt/anaconda3/lib/python3.9/site-packages/pandas/_config/config.py:146\u001b[0m, in \u001b[0;36m_get_option\u001b[0;34m(pat, silent)\u001b[0m\n\u001b[1;32m    145\u001b[0m \u001b[38;5;28;01mdef\u001b[39;00m \u001b[38;5;21m_get_option\u001b[39m(pat: \u001b[38;5;28mstr\u001b[39m, silent: \u001b[38;5;28mbool\u001b[39m \u001b[38;5;241m=\u001b[39m \u001b[38;5;28;01mFalse\u001b[39;00m) \u001b[38;5;241m-\u001b[39m\u001b[38;5;241m>\u001b[39m Any:\n\u001b[0;32m--> 146\u001b[0m     key \u001b[38;5;241m=\u001b[39m \u001b[43m_get_single_key\u001b[49m\u001b[43m(\u001b[49m\u001b[43mpat\u001b[49m\u001b[43m,\u001b[49m\u001b[43m \u001b[49m\u001b[43msilent\u001b[49m\u001b[43m)\u001b[49m\n\u001b[1;32m    148\u001b[0m     \u001b[38;5;66;03m# walk the nested dict\u001b[39;00m\n\u001b[1;32m    149\u001b[0m     root, k \u001b[38;5;241m=\u001b[39m _get_root(key)\n",
      "File \u001b[0;32m/opt/anaconda3/lib/python3.9/site-packages/pandas/_config/config.py:132\u001b[0m, in \u001b[0;36m_get_single_key\u001b[0;34m(pat, silent)\u001b[0m\n\u001b[1;32m    130\u001b[0m     \u001b[38;5;28;01mif\u001b[39;00m \u001b[38;5;129;01mnot\u001b[39;00m silent:\n\u001b[1;32m    131\u001b[0m         _warn_if_deprecated(pat)\n\u001b[0;32m--> 132\u001b[0m     \u001b[38;5;28;01mraise\u001b[39;00m OptionError(\u001b[38;5;124mf\u001b[39m\u001b[38;5;124m\"\u001b[39m\u001b[38;5;124mNo such keys(s): \u001b[39m\u001b[38;5;132;01m{\u001b[39;00m\u001b[38;5;28mrepr\u001b[39m(pat)\u001b[38;5;132;01m}\u001b[39;00m\u001b[38;5;124m\"\u001b[39m)\n\u001b[1;32m    133\u001b[0m \u001b[38;5;28;01mif\u001b[39;00m \u001b[38;5;28mlen\u001b[39m(keys) \u001b[38;5;241m>\u001b[39m \u001b[38;5;241m1\u001b[39m:\n\u001b[1;32m    134\u001b[0m     \u001b[38;5;28;01mraise\u001b[39;00m OptionError(\u001b[38;5;124m\"\u001b[39m\u001b[38;5;124mPattern matched multiple keys\u001b[39m\u001b[38;5;124m\"\u001b[39m)\n",
      "\u001b[0;31mOptionError\u001b[0m: \"No such keys(s): 'mode.use_inf_as_null'\""
     ]
    },
    {
     "data": {
      "image/png": "[encoded data removed]",
      "text/plain": [
       "<Figure size 540x360 with 1 Axes>"
      ]
     },
     "metadata": {
      "needs_background": "light"
     },
     "output_type": "display_data"
    }
   ],
   "source": [
    "def annotate_categorical_stats(ax, data, ypos=0.7):\n",
    "    mode = data.mode().iloc[0]  # Taking the first mode in case of multiple modes\n",
    "    counts = data.value_counts().to_dict()\n",
    "    total = len(data)\n",
    "    \n",
    "    stats_str = f'Mode: {mode}\\n'\n",
    "    \n",
    "    for category, count in counts.items():\n",
    "        percentage = 100 * count / total\n",
    "        stats_str += f'{category}: {count} ({percentage:.2f}%)\\n'\n",
    "    \n",
    "    ax.text(0.75, ypos, stats_str, transform=ax.transAxes, verticalalignment='top', bbox=dict(boxstyle='round,pad=0.3', edgecolor='black', facecolor='aliceblue'))\n",
    "\n",
    "# Gender Distribution\n",
    "plt.figure(figsize=(8, 6))\n",
    "ax1 = sns.countplot(x='Gender', data=df_school)\n",
    "annotate_counts(ax1)\n",
    "annotate_categorical_stats(ax1, df_school['Gender'])\n",
    "plt.title('Distribution of Students by Gender')\n",
    "plt.show()\n",
    "\n",
    "# Nationality Distribution\n",
    "plt.figure(figsize=(8, 6))\n",
    "ax2 = sns.countplot(x='Continent', data=df_school)\n",
    "annotate_counts(ax2)\n",
    "annotate_categorical_stats(ax2, df_school['Continent'])\n",
    "plt.title('Distribution of Students by Continent')\n",
    "plt.xticks(rotation=45)\n",
    "plt.show()\n",
    "\n",
    "# Age at Enrollment Distribution\n",
    "g = sns.displot(df_school['AgeEnroll'], kde=True, aspect=1.5)\n",
    "g.ax.set_title('Distribution of Students by Age at Enrollment')\n",
    "#annotate_stats(g.ax, df_school['Age at enrollment'])\n",
    "plt.show()\n"
   ]
  },
  {
   "cell_type": "code",
   "execution_count": null,
   "id": "c1eb897d",
   "metadata": {},
   "outputs": [],
   "source": [
    "df_school['Target'].unique()"
   ]
  },
  {
   "cell_type": "code",
   "execution_count": null,
   "id": "ada13759",
   "metadata": {},
   "outputs": [],
   "source": [
    "# Filtering out students who have completed (either graduated or dropped out)\n",
    "completed_students = df_school[df_school['Target'] != 'Enrolled']\n",
    "\n",
    "# For male students\n",
    "male_students = completed_students[completed_students['Gender'] == 'male']\n",
    "male_dropouts = male_students[male_students['Target'] == 'Dropout']\n",
    "male_dropout_rate = (len(male_dropouts) / len(male_students)) * 100 if len(male_students) > 0 else 0\n",
    "\n",
    "# For female students\n",
    "female_students = completed_students[completed_students['Gender'] == 'female']\n",
    "female_dropouts = female_students[female_students['Target'] == 'Dropout']\n",
    "female_dropout_rate = (len(female_dropouts) / len(female_students)) * 100 if len(female_students) > 0 else 0\n",
    "\n",
    "print(f\"Male Dropout Rate: {male_dropout_rate:.2f}%\")\n",
    "print(f\"Female Dropout Rate: {female_dropout_rate:.2f}%\")\n"
   ]
  },
  {
   "cell_type": "markdown",
   "id": "6cb94532",
   "metadata": {},
   "source": [
    "- Differences between dropouts and graduates."
   ]
  },
  {
   "cell_type": "code",
   "execution_count": null,
   "id": "068d3f87",
   "metadata": {},
   "outputs": [],
   "source": [
    "# Gender vs Target (Dropout/Graduate)\n",
    "plt.figure(figsize=(10, 6))\n",
    "ax1 = sns.countplot(x='Gender', hue='Target', data=df_school)\n",
    "annotate_counts(ax1)\n",
    "plt.title('Gender Distribution by Dropout/Graduate Status')\n",
    "plt.show()\n",
    "\n"
   ]
  },
  {
   "cell_type": "code",
   "execution_count": null,
   "id": "bbcf46d5",
   "metadata": {},
   "outputs": [],
   "source": [
    "# Define a function to print the relevant statistics\n",
    "def print_statistics(data):\n",
    "    Q1 = data.quantile(0.25)\n",
    "    median = data.median()\n",
    "    Q3 = data.quantile(0.75)\n",
    "    IQR = Q3 - Q1\n",
    "    whisker_top = min(data.max(), Q3 + 1.5 * IQR)\n",
    "    whisker_bottom = max(data.min(), Q1 - 1.5 * IQR)\n",
    "\n",
    "    print(f\"Median: {median:.2f}\")\n",
    "    print(f\"Q1 (25th percentile): {Q1:.2f}\")\n",
    "    print(f\"Q3 (75th percentile): {Q3:.2f}\")\n",
    "    print(f\"IQR (Interquartile Range): {IQR:.2f}\")\n",
    "    print(f\"Whisker Top: {whisker_top:.2f}\")\n",
    "    print(f\"Whisker Bottom: {whisker_bottom:.2f}\")\n",
    "    print(\"-----------------------------\")\n",
    "\n",
    "# Plotting the boxplot\n",
    "plt.figure(figsize=(12, 6))\n",
    "ax3 = sns.boxplot(x='Target', y='AgeEnroll', hue='Gender', data=df_school)\n",
    "plt.title('Age at Enrollment Distribution by Dropout/Graduate Status')\n",
    "plt.show()\n",
    "\n",
    "# Calculating and printing statistics for each group\n",
    "print(\"Statistics for Dropouts:\")\n",
    "print_statistics(df_school[df_school['Target'] == 'Dropout']['AgeEnroll'])\n",
    "print(\"Statistics for Graduates:\")\n",
    "print_statistics(df_school[df_school['Target'] == 'Graduate']['AgeEnroll'])\n"
   ]
  },
  {
   "cell_type": "markdown",
   "id": "9fa9c624",
   "metadata": {},
   "source": [
    "Relationship between marital status and likelihood to drop out."
   ]
  },
  {
   "cell_type": "code",
   "execution_count": null,
   "id": "95406711",
   "metadata": {},
   "outputs": [],
   "source": [
    "# Replace the values in 'Marital status'\n",
    "marital_mapping = {\n",
    "    1: 'Single',\n",
    "    2: 'Married',\n",
    "    3: 'Widower',\n",
    "    4: 'Divorced',\n",
    "    5: 'Facto union',\n",
    "    6: 'Legally separated'\n",
    "}\n",
    "\n",
    "df_school['MaritalStat'] = df_school['MaritalStat'].replace(marital_mapping)\n",
    "\n",
    "# Plot the distribution\n",
    "plt.figure(figsize=(12, 6))\n",
    "ax = sns.countplot(x='MaritalStat', hue='Target', data=df_school, order=marital_mapping.values())\n",
    "plt.title('Distribution of Marital Status by Dropout/Graduate Status')\n",
    "annotate_counts(ax)\n",
    "plt.show()\n"
   ]
  },
  {
   "cell_type": "code",
   "execution_count": null,
   "id": "101ea4e6",
   "metadata": {},
   "outputs": [],
   "source": [
    "\n",
    "# Define the annotate_counts function\n",
    "def annotate_counts(ax, **kwargs):\n",
    "    \"\"\"Annotate the counts on the bars in the countplot.\"\"\"\n",
    "    for p in ax.patches:\n",
    "        height = p.get_height()\n",
    "        ax.annotate(f'{int(height)}', \n",
    "                    (p.get_x() + p.get_width() / 2., height), \n",
    "                    ha='center', va='baseline', \n",
    "                    fontsize=10, color='black', \n",
    "                    xytext=(0, 5), textcoords='offset points')\n",
    "\n",
    "# Plot the distribution\n",
    "plt.figure(figsize=(12, 6))\n",
    "sns.set(style=\"whitegrid\")\n",
    "ax = sns.countplot(x='MaritalStat', hue='Target', data=df_school, order=marital_mapping.values(), palette='muted')\n",
    "\n",
    "# Annotate counts on the bars\n",
    "annotate_counts(ax)\n",
    "\n",
    "# Customize the plot\n",
    "plt.title('Distribution of Marital Status by Dropout/Graduate Status', fontsize=14)\n",
    "plt.xlabel('Marital Status', fontsize=12)\n",
    "plt.ylabel('Count', fontsize=12)\n",
    "plt.legend(title='Target', title_fontsize='13', fontsize='11')\n",
    "plt.xticks(fontsize=10)\n",
    "plt.yticks(fontsize=10)\n",
    "plt.grid(axis='y', linestyle='--', alpha=0.7)\n",
    "\n",
    "# Save the plot as a high-resolution PNG file\n",
    "plt.savefig('marital_status_target_distribution.png', dpi=300, bbox_inches='tight')\n",
    "\n",
    "# Show the plot\n",
    "plt.show()"
   ]
  },
  {
   "cell_type": "code",
   "execution_count": null,
   "id": "4d37a76a",
   "metadata": {},
   "outputs": [],
   "source": [
    "# Group by 'Marital status' and 'Target'\n",
    "grouped = df_school.groupby(['MaritalStat', 'Target']).size().unstack()\n",
    "\n",
    "# Calculate dropout rate\n",
    "grouped['Total'] = grouped['Dropout'] + grouped['Graduate'] + grouped['Enrolled']\n",
    "grouped['Dropout Rate (%)'] = (grouped['Dropout'] / grouped['Total']) * 100\n",
    "\n",
    "# Display the resulting DataFrame with the correct dropout rate\n",
    "print(grouped[['Dropout Rate (%)']])\n"
   ]
  },
  {
   "cell_type": "markdown",
   "id": "83bd075f",
   "metadata": {},
   "source": [
    "### Curricular units 1st sem Analysis"
   ]
  },
  {
   "cell_type": "markdown",
   "id": "e5094581",
   "metadata": {},
   "source": [
    "A potential student dropout could be inferred based on the above data.\n",
    "\n",
    "Enrollment vs. Approval Ratio: The ratio between the number of curricular units enrolled and the number of units approved can give insight into how successful a student was in the semester. A low ratio may indicate potential issues.\n",
    " \n",
    "\n",
    "Credited vs. Enrolled Ratio: The ratio of credited units to enrolled units can provide a direct indication of how many enrolled units resulted in credit for the student.\n",
    "\n",
    "Evaluation Dropouts: This is the difference between the units enrolled and the units evaluated. A higher value could indicate that the student didn't even appear for evaluations in several subjects, which might be a strong indicator of potential dropout behavior.\n",
    "\n",
    "\n"
   ]
  },
  {
   "cell_type": "code",
   "execution_count": null,
   "id": "08ca1081",
   "metadata": {},
   "outputs": [],
   "source": [
    "#Enrollment vs. Approval Ratio for 1st and 2nd semesters:\n",
    "df_school['Approval_Ratio_1st_Sem'] = df_school['CU1Approved'] / df_school['CU1Enrolled']\n",
    "df_school['Approval_Ratio_2nd_Sem'] = df_school['CU2Approved'] / df_school['CU2Enrolled']\n",
    "\n",
    "#Credited vs. Enrolled Ratio for 1st and 2nd semesters:\n",
    "df_school['Credited_Ratio_1st_Sem'] = df_school['CU1Credited'] / df_school['CU1Enrolled']\n",
    "# Repeat for the 2nd semester data when you have it.\n",
    "df_school['Credited_Ratio_1st_Sem'] = df_school['CU2Credited'] / df_school['CU2Enrolled']\n",
    "\n"
   ]
  },
  {
   "cell_type": "code",
   "execution_count": null,
   "id": "b2771b97",
   "metadata": {},
   "outputs": [],
   "source": [
    "#Evaluation Dropouts for 1st and 2nd semesters:\n",
    "df_school['Evaluation_Dropout_1st_Sem'] = df_school['CU1Enrolled'] - df_school['CU1Evaluations']"
   ]
  },
  {
   "cell_type": "code",
   "execution_count": null,
   "id": "ec9ffb04",
   "metadata": {},
   "outputs": [],
   "source": [
    "features_to_plot = ['Approval_Ratio_1st_Sem', 'Credited_Ratio_1st_Sem', 'Evaluation_Dropout_1st_Sem']\n",
    "\n",
    "for feature in features_to_plot:\n",
    "    plt.hist(df_school[feature], bins=30, alpha=0.7, label=feature)\n",
    "    plt.title(f'Histogram of {feature}')\n",
    "    plt.xlabel(feature)\n",
    "    plt.ylabel('Number of Students')\n",
    "    plt.legend()\n",
    "    plt.show()\n"
   ]
  },
  {
   "cell_type": "code",
   "execution_count": null,
   "id": "59786703",
   "metadata": {},
   "outputs": [],
   "source": [
    "for feature in features_to_plot:\n",
    "    plt.boxplot(df_school[feature].dropna())\n",
    "    plt.title(f'Box plot of {feature}')\n",
    "    plt.ylabel(feature)\n",
    "    plt.show()\n"
   ]
  },
  {
   "cell_type": "code",
   "execution_count": null,
   "id": "4ec7a013",
   "metadata": {},
   "outputs": [],
   "source": [
    "correlation_matrix = df_school[features_to_plot].corr()\n",
    "sns.heatmap(correlation_matrix, annot=True, cmap='coolwarm')\n",
    "plt.title('Correlation heatmap for engineered features')\n",
    "plt.show()\n"
   ]
  },
  {
   "cell_type": "markdown",
   "id": "3291309d",
   "metadata": {},
   "source": [
    "### Relationship between parent's qualification/occupation and student's likelihood of graduating or dropping out."
   ]
  },
  {
   "cell_type": "code",
   "execution_count": null,
   "id": "9b6d929e",
   "metadata": {},
   "outputs": [],
   "source": [
    "qualification_mapping = {\n",
    "    1: 'Secondary Education',\n",
    "    2: 'Higher Education - Undergraduate',\n",
    "    3: 'Higher Education - Undergraduate',\n",
    "    4: 'Higher Education - Graduate',\n",
    "    5: 'Higher Education - Graduate',\n",
    "    6: 'Higher Education - Undergraduate',\n",
    "    7: 'Primary Education',\n",
    "    8: 'Primary Education',\n",
    "    9: 'Primary Education',\n",
    "    10: 'Secondary Education',\n",
    "    11: 'Secondary Education',\n",
    "    12: 'Secondary Education',\n",
    "    13: 'Secondary Education',\n",
    "    14: 'Secondary Education',\n",
    "    15: 'Secondary Education',\n",
    "    16: 'Vocational/Technical',\n",
    "    17: 'Secondary Education',\n",
    "    18: 'Primary Education',\n",
    "    19: 'Secondary Education',\n",
    "    20: 'Primary Education',\n",
    "    21: 'Primary Education',\n",
    "    22: 'Secondary Education',\n",
    "    23: 'Secondary Education',\n",
    "    24: 'Unknown',\n",
    "    25: 'Primary Education',\n",
    "    26: 'Primary Education',\n",
    "    27: 'Primary Education',\n",
    "    28: 'Primary Education',\n",
    "    29: 'Vocational/Technical',\n",
    "    30: 'Higher Education - Undergraduate',\n",
    "    31: 'Higher Education - Undergraduate',\n",
    "    32: 'Higher Education - Undergraduate',\n",
    "    33: 'Higher Education - Graduate',\n",
    "    34: 'Higher Education - Graduate'\n",
    "}\n",
    "\n",
    "# Grouping the qualification categories\n",
    "grouped_qualifications = {\n",
    "    'Primary Education': 'Primary Education',\n",
    "    'Secondary Education': 'Secondary Education',\n",
    "    'Higher Education - Undergraduate': 'Higher Education',\n",
    "    'Higher Education - Graduate': 'Higher Education',\n",
    "    'Vocational/Technical': 'Vocational/Technical',\n",
    "    'Unknown': 'Unknown'\n",
    "}\n",
    "\n",
    "\n"
   ]
  },
  {
   "cell_type": "markdown",
   "id": "cfbdb865-67f8-47f9-b2c0-17884c4362d0",
   "metadata": {},
   "source": [
    "### DropOut Rate Based on Father's Qualification"
   ]
  },
  {
   "cell_type": "code",
   "execution_count": null,
   "id": "cc516074",
   "metadata": {},
   "outputs": [],
   "source": [
    "df_school[\"FatherQual\"] = df_school[\"FatherQual\"].map(qualification_mapping)\n",
    "df_school[\"FatherQual\"] = df_school[\"FatherQual\"].replace(grouped_qualifications)\n",
    "df_school[\"FatherQual\"].unique()\n",
    "dropout_counts = df_school[df_school['Target'] == 'Dropout'].groupby(\"FatherQual\")['Target'].count()\n",
    "total_counts = df_school.groupby(\"FatherQual\")['Target'].count()\n",
    "dropout_rates = (dropout_counts / total_counts) * 100"
   ]
  },
  {
   "cell_type": "code",
   "execution_count": null,
   "id": "59f690ae",
   "metadata": {},
   "outputs": [],
   "source": [
    "plt.figure(figsize=(12, 7))\n",
    "dropout_rates.sort_values().plot(kind='barh', color='skyblue')\n",
    "plt.xlabel('Dropout Rate (%)')\n",
    "plt.ylabel(\"Father's Qualification Group\")\n",
    "plt.title(\"Dropout Rate by Father's Qualification Group\")\n",
    "plt.grid(axis='x', linestyle='--')\n",
    "plt.tight_layout()\n",
    "plt.show()\n"
   ]
  },
  {
   "cell_type": "markdown",
   "id": "7ce10ed4-fd13-4f13-9437-755bb0952b6d",
   "metadata": {},
   "source": [
    "### Father's Qualification DropOut Based on gender"
   ]
  },
  {
   "cell_type": "code",
   "execution_count": null,
   "id": "2c96788e-25ef-4620-a246-734c354731c1",
   "metadata": {},
   "outputs": [],
   "source": [
    "dropout_counts_gender_father = df_school[df_school['Target'] == 'Dropout'].groupby([\"FatherQual\", \"Gender\"])['Target'].count()\n",
    "total_counts_gender_father = df_school.groupby([\"FatherQual\", \"Gender\"])['Target'].count()\n",
    "dropout_rates_gender_father = (dropout_counts_gender_father / total_counts_gender_father) * 100\n",
    "dropout_rates_gender_father = dropout_rates_gender_father.reset_index()\n",
    "dropout_rates_gender_father_pivot = dropout_rates_gender_father.pivot(index=\"FatherQual\", columns=\"Gender\", values=\"Target\")\n",
    "\n",
    "dropout_rates_gender_father_pivot.plot(kind='barh', color=['skyblue', 'salmon'], width=0.8, figsize=(12, 7))\n",
    "plt.xlabel('Dropout Rate (%)')\n",
    "plt.ylabel(\"Father's Qualification\")\n",
    "plt.title(\"Gender Breakdown of Dropout Rate by Father's Qualification\")\n",
    "plt.legend(title='Gender')\n",
    "plt.grid(axis='x', linestyle='--')\n",
    "plt.tight_layout()\n",
    "plt.show();\n"
   ]
  },
  {
   "cell_type": "markdown",
   "id": "fd645c67-de94-48ac-abf6-904d3d78d941",
   "metadata": {},
   "source": [
    "### DropOut Rate Based on Mother's Qualification"
   ]
  },
  {
   "cell_type": "code",
   "execution_count": null,
   "id": "6b2a59d9",
   "metadata": {},
   "outputs": [],
   "source": [
    "df_school[\"MotherQual_Cate\"] = df_school[\"MotherQual\"].map(qualification_mapping)\n",
    "df_school[\"MotherQual_Cate\"] = df_school[\"MotherQual_Cate\"].replace(grouped_qualifications)\n",
    "dropout_counts = df_school[df_school['Target'] == 'Dropout'].groupby(\"MotherQual_Cate\")['Target'].count()\n",
    "total_counts = df_school.groupby(\"MotherQual_Cate\")['Target'].count()\n",
    "\n",
    "dropout_rates = (dropout_counts / total_counts) * 100"
   ]
  },
  {
   "cell_type": "code",
   "execution_count": null,
   "id": "998b7d29",
   "metadata": {},
   "outputs": [],
   "source": [
    "plt.figure(figsize=(12, 7))\n",
    "dropout_rates.sort_values().plot(kind='barh', color='skyblue')\n",
    "plt.xlabel('Dropout Rate (%)')\n",
    "plt.ylabel(\"Mother's Qualification Category\")\n",
    "plt.title(\"Dropout Rate by Mother's Qualification Category\")\n",
    "plt.grid(axis='x', linestyle='--')\n",
    "plt.tight_layout()\n",
    "plt.show()\n"
   ]
  },
  {
   "cell_type": "markdown",
   "id": "39f8072c-4e01-4995-9d35-f32649cf0079",
   "metadata": {},
   "source": [
    "### Mother's Qualification DropOut Based on gender"
   ]
  },
  {
   "cell_type": "code",
   "execution_count": null,
   "id": "b16522f1-28af-4f65-961c-4d44eb135e3d",
   "metadata": {},
   "outputs": [],
   "source": [
    "df_school[\"MotherQual_Cate\"] = df_school[\"MotherQual\"].map(qualification_mapping)\n",
    "dropout_counts_gender = df_school[df_school['Target'] == 'Dropout'].groupby([\"MotherQual_Cate\", \"Gender\"])['Target'].count()\n",
    "total_counts_gender = df_school.groupby([\"MotherQual_Cate\", \"Gender\"])['Target'].count()\n",
    "dropout_rates_gender = (dropout_counts_gender / total_counts_gender) * 100\n",
    "dropout_rates_gender = dropout_rates_gender.reset_index()\n",
    "dropout_rates_gender_pivot = dropout_rates_gender.pivot(index=\"MotherQual_Cate\", columns=\"Gender\", values=\"Target\")\n",
    "dropout_rates_gender_pivot.plot(kind='barh', color=['skyblue', 'salmon'], figsize=(12, 7))\n",
    "plt.xlabel('Dropout Rate (%)')\n",
    "plt.ylabel(\"Mother's Qualification Category\")\n",
    "plt.title(\"Gender Breakdown of Dropout Rate by Mother's Qualification Category\")\n",
    "plt.legend(title='Gender')\n",
    "plt.grid(axis='x', linestyle='--')\n",
    "plt.tight_layout()\n",
    "plt.show();\n"
   ]
  },
  {
   "cell_type": "code",
   "execution_count": null,
   "id": "10170d49",
   "metadata": {},
   "outputs": [],
   "source": [
    "from scipy.stats import chi2_contingency\n",
    "\n",
    "# Overall graduation rate\n",
    "overall_grad_rate = (df_school['Target'] == 'Graduate').mean()\n",
    "\n",
    "# Calculate graduation rates for each of the \"Mother's Qualification Group\" categories\n",
    "mothers_qualification_grad_rate = df_school[df_school['Target'] == 'Graduate'].groupby(\"MotherQual_Cate\").size() / df_school.groupby(\"MotherQual_Cate\").size()\n",
    "mothers_qualification_grad_rate = mothers_qualification_grad_rate.reset_index().rename(columns={0: 'Graduation Rate'})\n",
    "\n",
    "# Similarly for fathers\n",
    "fathers_qualification_grad_rate = df_school[df_school['Target'] == 'Graduate'].groupby(\"FatherQual\").size() / df_school.groupby(\"FatherQual\").size()\n",
    "fathers_qualification_grad_rate = fathers_qualification_grad_rate.reset_index().rename(columns={0: 'Graduation Rate'})\n",
    "\n",
    "# Create contingency tables for Chi-squared test based on the new groupings\n",
    "contingency_mother = pd.crosstab(df_school[\"MotherQual_Cate\"], df_school['Target'])\n",
    "contingency_father = pd.crosstab(df_school[\"FatherQual\"], df_school['Target'])\n",
    "\n",
    "# Performing the Chi-squared test\n",
    "chi2_stat_mother, p_val_mother, _, _ = chi2_contingency(contingency_mother)\n",
    "chi2_stat_father, p_val_father, _, _ = chi2_contingency(contingency_father)\n",
    "\n",
    "# Visualization for mothers\n",
    "plt.figure(figsize=(14, 7))\n",
    "sns.barplot(data=mothers_qualification_grad_rate, x=\"MotherQual_Cate\", y='Graduation Rate')\n",
    "plt.axhline(overall_grad_rate, color='red', linestyle='--', label=f\"Overall Grad Rate: {overall_grad_rate:.2f}\")\n",
    "plt.title(\"Impact of Mother's Qualification on Student's Graduation Likelihood\")\n",
    "plt.legend()\n",
    "plt.xticks(rotation=45)\n",
    "plt.tight_layout()\n",
    "plt.show()\n",
    "\n",
    "# Visualization for fathers\n",
    "plt.figure(figsize=(14, 7))\n",
    "sns.barplot(data=fathers_qualification_grad_rate, x=\"FatherQual\", y='Graduation Rate')\n",
    "plt.axhline(overall_grad_rate, color='red', linestyle='--', label=f\"Overall Grad Rate: {overall_grad_rate:.2f}\")\n",
    "plt.title(\"Impact of Father's Qualification on Student's Graduation Likelihood\")\n",
    "plt.legend()\n",
    "plt.xticks(rotation=45)\n",
    "plt.tight_layout()\n",
    "plt.show()\n",
    "\n",
    "# Print the Chi-squared test results\n",
    "print(f\"Chi-squared Test Result for Mother's Qualification: Statistic = {chi2_stat_mother:.2f}, P-value = {p_val_mother:.4f}\")\n",
    "print(f\"Chi-squared Test Result for Father's Qualification: Statistic = {chi2_stat_father:.2f}, P-value = {p_val_father:.4f}\")\n"
   ]
  },
  {
   "cell_type": "markdown",
   "id": "4a38c293",
   "metadata": {},
   "source": [
    "There is a strong statistical association between the qualifications of parents and the outcome variable being studied.\n",
    "\n",
    "The Chi-squared statistic measures the degree of deviation from what would be expected if there were no relationship between parental qualifications and the outcome. The statistics (34.43 for mothers and 116.19 for fathers) are relatively high, indicating substantial deviations.\n",
    "\n",
    "The p-values (0.0002 for mothers and 0.0000 for fathers) are very low, which means there is very strong evidence that parental qualifications are significantly related to the outcome. These results strongly reject the null hypothesis that there is no association between parental qualifications and the outcome variable."
   ]
  },
  {
   "cell_type": "markdown",
   "id": "c43d91dc",
   "metadata": {},
   "source": [
    "### Courses with the highest dropout rates and those with predominant success."
   ]
  },
  {
   "cell_type": "code",
   "execution_count": null,
   "id": "9bd13f17",
   "metadata": {},
   "outputs": [],
   "source": [
    "# Mapping courses\n",
    "course_mapping = {\n",
    "    1: 'Biofuel Production Technologies',\n",
    "    2: 'Animation and Multimedia Design',\n",
    "    3: 'Social Service (evening attendance)',\n",
    "    4: 'Agronomy',\n",
    "    5: 'Communication Design',\n",
    "    6: 'Veterinary Nursing',\n",
    "    7: 'Informatics Engineering',\n",
    "    8: 'Equiniculture',\n",
    "    9: 'Management',\n",
    "    10: 'Social Service',\n",
    "    11: 'Tourism',\n",
    "    12: 'Nursing',\n",
    "    13: 'Oral Hygiene',\n",
    "    14: 'Advertising and Marketing Management',\n",
    "    15: 'Journalism and Communication',\n",
    "    16: 'Basic Education',\n",
    "    17: 'Management (evening attendance)'\n",
    "}\n",
    "\n",
    "df_school['Course Name'] = df_school['Course'].map(course_mapping)\n",
    "\n",
    "# Calculate dropout and success rates by course\n",
    "course_rates = df_school.groupby('Course Name').apply(lambda x: pd.Series({\n",
    "    'Dropout Rate': (x['Target'] == 'Dropout').mean(),\n",
    "    'Success Rate': (x['Target'] == 'Graduate').mean()\n",
    "})).reset_index()\n",
    "\n",
    "# Identify courses with the highest dropout rates\n",
    "highest_dropout_courses = course_rates.sort_values(by='Dropout Rate', ascending=False).head()\n",
    "\n",
    "# Identify courses with the highest success rates\n",
    "highest_success_courses = course_rates.sort_values(by='Success Rate', ascending=False).head()\n",
    "\n",
    "print(\"Courses with the highest dropout rates:\")\n",
    "print(highest_dropout_courses)\n",
    "\n",
    "print(\"\\nCourses with predominant success:\")\n",
    "print(highest_success_courses)\n"
   ]
  },
  {
   "cell_type": "code",
   "execution_count": null,
   "id": "53b4b4bd",
   "metadata": {},
   "outputs": [],
   "source": [
    "\n",
    "# Visualization for courses with the highest dropout rates\n",
    "plt.figure(figsize=(14, 7))\n",
    "sns.barplot(data=highest_dropout_courses, x='Course Name', y='Dropout Rate', palette=\"Reds_d\")\n",
    "plt.title(\"Courses with the Highest Dropout Rates\")\n",
    "plt.xticks(rotation=45)\n",
    "plt.ylabel('Dropout Rate (%)')\n",
    "plt.tight_layout()\n",
    "plt.show()\n",
    "\n",
    "# Visualization for courses with the highest success rates\n",
    "plt.figure(figsize=(14, 7))\n",
    "sns.barplot(data=highest_success_courses, x='Course Name', y='Success Rate', palette=\"Blues_d\")\n",
    "plt.title(\"Courses with Predominant Success\")\n",
    "plt.xticks(rotation=45)\n",
    "plt.ylabel('Success Rate (%)')\n",
    "plt.tight_layout()\n",
    "plt.show()\n"
   ]
  },
  {
   "cell_type": "markdown",
   "id": "5a8dcb43-8722-43f6-97fc-4ef1ce618a5f",
   "metadata": {},
   "source": [
    "\n",
    "### Courses with the highest dropout rates and those with predominant success and relationship with gender"
   ]
  },
  {
   "cell_type": "code",
   "execution_count": null,
   "id": "3bcab1e3-2585-4fd7-9b0e-3c1026952ce5",
   "metadata": {},
   "outputs": [],
   "source": [
    "import numpy as np\n",
    "gender_counts = df_school.groupby(['Course Name', 'Gender']).size().unstack().reset_index()\n",
    "gender_counts.fillna(0, inplace=True)  # Fill NaN values with 0\n",
    "plt.figure(figsize=(20, 7)) \n",
    "bar_width = 0.35  \n",
    "index = np.arange(len(gender_counts['Course Name']))\n",
    "bar1 = plt.bar(index, gender_counts['male'], bar_width, label='Male', color='b')\n",
    "bar2 = plt.bar(index + bar_width, gender_counts['female'], bar_width, label='Female', color='r')\n",
    "\n",
    "plt.xlabel('Course Name')\n",
    "plt.ylabel('Number of Students')\n",
    "plt.title('Number of Men and Women in Each Course')\n",
    "plt.xticks(index + bar_width / 2, gender_counts['Course Name'], rotation=60)  # Increase the rotation of x-axis labels\n",
    "plt.tight_layout()\n",
    "plt.legend(title='Gender')\n",
    "plt.show()\n",
    "\n"
   ]
  },
  {
   "cell_type": "markdown",
   "id": "53768377",
   "metadata": {},
   "source": [
    "### Impact of daytime/evening attendance on student performance."
   ]
  },
  {
   "cell_type": "code",
   "execution_count": null,
   "id": "0dfde426",
   "metadata": {},
   "outputs": [],
   "source": [
    "# Mapping 'Daytime/evening attendance' column\n",
    "df_school['DayEveningAtt'] = df_school['DayEveningAtt'].replace({1: 'daytime', 0: 'evening'})\n",
    "\n",
    "# Create a crosstab table of 'Daytime/evening attendance' vs 'Target'\n",
    "attendance_vs_performance = pd.crosstab(df_school['DayEveningAtt'], df_school['Target'])\n",
    "\n",
    "# Calculate rates\n",
    "attendance_vs_performance['Graduation Rate'] = attendance_vs_performance['Graduate'] / (attendance_vs_performance['Graduate'] + attendance_vs_performance['Dropout'])\n",
    "attendance_vs_performance['Dropout Rate'] = attendance_vs_performance['Dropout'] / (attendance_vs_performance['Graduate'] + attendance_vs_performance['Dropout'])\n",
    "\n",
    "# Melt dataframe for visualization\n",
    "melted_df = attendance_vs_performance[['Graduation Rate', 'Dropout Rate']].reset_index().melt(id_vars='DayEveningAtt', value_name='Rate', var_name='Performance')\n",
    "\n",
    "# Plot\n",
    "plt.figure(figsize=(12, 6))\n",
    "sns.barplot(data=melted_df, x='DayEveningAtt', y='Rate', hue='Performance')\n",
    "plt.title(\"Impact of Daytime/Evening Attendance on Student Performance\")\n",
    "plt.ylabel(\"Rate\")\n",
    "plt.xlabel(\"Attendance Mode\")\n",
    "plt.legend(title='Performance')\n",
    "plt.tight_layout()\n",
    "plt.show()\n"
   ]
  },
  {
   "cell_type": "markdown",
   "id": "46f3b49d",
   "metadata": {},
   "source": [
    "#### Comparing the distribution of grades between daytime and evening students"
   ]
  },
  {
   "cell_type": "code",
   "execution_count": null,
   "id": "7668230f",
   "metadata": {},
   "outputs": [],
   "source": [
    "\n",
    "# Grades distribution for 1st semester\n",
    "plt.figure(figsize=(10, 6))\n",
    "sns.boxplot(data=df_school, x='DayEveningAtt', y='CU1Grade', hue='Gender')\n",
    "plt.title(\"Distribution of 1st Semester Grades by Attendance Mode\")\n",
    "plt.ylabel(\"1st Semester Grade\")\n",
    "plt.xlabel(\"Attendance Mode\")\n",
    "plt.show()\n",
    "\n",
    "# Grades distribution for 2nd semester\n",
    "plt.figure(figsize=(10, 6))\n",
    "sns.boxplot(data=df_school, x='DayEveningAtt', y='CU2Grade', hue='Gender')\n",
    "plt.title(\"Distribution of 2nd Semester Grades by Attendance Mode\")\n",
    "plt.ylabel(\"2nd Semester Grade\")\n",
    "plt.xlabel(\"Attendance Mode\")\n",
    "plt.show()\n"
   ]
  },
  {
   "cell_type": "markdown",
   "id": "f1f3eaa0",
   "metadata": {},
   "source": [
    "####  Examining the distribution of other factors between daytime and evening students"
   ]
  },
  {
   "cell_type": "code",
   "execution_count": null,
   "id": "16564cb1",
   "metadata": {},
   "outputs": [],
   "source": [
    "# Age distribution\n",
    "plt.figure(figsize=(10, 6))\n",
    "sns.boxplot(data=df_school, x='DayEveningAtt', y='AgeEnroll')\n",
    "plt.title(\"Age Distribution by Attendance Mode\")\n",
    "plt.ylabel(\"Age at Enrollment\")\n",
    "plt.xlabel(\"Attendance Mode\")\n",
    "plt.show()\n",
    "\n",
    "# Scholarship status distribution\n",
    "plt.figure(figsize=(10, 6))\n",
    "sns.countplot(data=df_school, x='Scholarship', hue='DayEveningAtt')\n",
    "plt.title(\"Distribution of Scholarship Holders by Attendance Mode\")\n",
    "plt.xlabel(\"Scholarship Holder\")\n",
    "plt.ylabel(\"Count\")\n",
    "plt.legend(title=\"Attendance Mode\")\n",
    "plt.show()\n",
    "\n",
    "# Distribution of International Students\n",
    "plt.figure(figsize=(10, 6))\n",
    "sns.countplot(data=df_school, x='International', hue='DayEveningAtt')\n",
    "plt.title(\"Distribution of International Students by Attendance Mode\")\n",
    "plt.xlabel(\"International Student\")\n",
    "plt.ylabel(\"Count\")\n",
    "plt.legend(title=\"Attendance Mode\")\n",
    "plt.show()\n",
    "\n",
    "# Unemployment rate distribution\n",
    "plt.figure(figsize=(10, 6))\n",
    "sns.boxplot(data=df_school, x='DayEveningAtt', y='UnempRate')\n",
    "plt.title(\"Unemployment Rate Distribution by Attendance Mode\")\n",
    "plt.ylabel(\"Unemployment Rate\")\n",
    "plt.xlabel(\"Attendance Mode\")\n",
    "plt.show()\n"
   ]
  },
  {
   "cell_type": "markdown",
   "id": "920bdf81",
   "metadata": {},
   "source": [
    "#### Comparing dropout rates across different courses or other categorical variables between daytime and evening students"
   ]
  },
  {
   "cell_type": "code",
   "execution_count": null,
   "id": "e7dc8b8d",
   "metadata": {},
   "outputs": [],
   "source": [
    "# Dropout rates across different courses\n",
    "course_dropout_rates = pd.crosstab(df_school['Course Name'], [df_school['Target'], df_school['DayEveningAtt']], normalize='index')[\"Dropout\"]\n",
    "course_dropout_rates = course_dropout_rates.reset_index()\n",
    "course_dropout_rates.columns = ['Course Name', 'Daytime Dropout Rate', 'Evening Dropout Rate']\n",
    "\n",
    "plt.figure(figsize=(15, 7))\n",
    "course_dropout_rates.set_index('Course Name').plot(kind='bar', figsize=(15,7))\n",
    "plt.title(\"Dropout Rates Across Different Courses by Attendance Mode\")\n",
    "plt.ylabel(\"Dropout Rate\")\n",
    "plt.xlabel(\"Course\")\n",
    "plt.show()\n"
   ]
  },
  {
   "cell_type": "markdown",
   "id": "abb3bc7f",
   "metadata": {},
   "source": [
    "#### Relationship between scholarship holding status and dropout rate."
   ]
  },
  {
   "cell_type": "code",
   "execution_count": null,
   "id": "2daba723",
   "metadata": {},
   "outputs": [],
   "source": [
    "# Generate a contingency table\n",
    "scholarship_vs_target = pd.crosstab(df_school['Scholarship'], df_school['Target'])\n",
    "\n",
    "# Calculate dropout rates\n",
    "scholarship_vs_target['Dropout Rate'] = scholarship_vs_target['Dropout'] / (scholarship_vs_target['Dropout'] + scholarship_vs_target['Graduate'])\n",
    "# print(scholarship_vs_target)\n",
    "\n",
    "# Plot\n",
    "plt.figure(figsize=(10, 6))\n",
    "sns.barplot(x=scholarship_vs_target.index, y=scholarship_vs_target['Dropout Rate'])\n",
    "plt.title('Dropout Rate by Scholarship Holding Status')\n",
    "plt.xlabel('Scholarship Holder (1 = Yes, 0 = No)')\n",
    "plt.ylabel('Dropout Rate')\n",
    "plt.show()\n"
   ]
  },
  {
   "cell_type": "markdown",
   "id": "464edc4e-d486-4c76-bc52-686e3c7657f1",
   "metadata": {},
   "source": [
    "### Scholarship Holder Dropout Rates and Gender"
   ]
  },
  {
   "cell_type": "code",
   "execution_count": null,
   "id": "bea98301-1fa5-4d90-9118-55e96561950f",
   "metadata": {},
   "outputs": [],
   "source": [
    "scholarship_gender_vs_target = pd.crosstab(index=[df_school['Scholarship'], df_school['Gender']], columns=df_school['Target'])\n",
    "\n",
    "scholarship_gender_vs_target['Dropout Rate'] = scholarship_gender_vs_target['Dropout'] / (scholarship_gender_vs_target['Dropout'] + scholarship_gender_vs_target['Graduate'])\n",
    "\n",
    "scholarship_gender_vs_target_reset = scholarship_gender_vs_target.reset_index()\n",
    "\n",
    "plt.figure(figsize=(12, 7))\n",
    "\n",
    "sns.barplot(\n",
    "    x='Scholarship',\n",
    "    y='Dropout Rate',\n",
    "    hue='Gender',  \n",
    "    data=scholarship_gender_vs_target_reset\n",
    ")\n",
    "\n",
    "plt.title('Dropout Rate by Scholarship Holding Status and Gender')\n",
    "plt.xlabel('Scholarship Holder (1 = Yes, 0 = No)')\n",
    "plt.ylabel('Dropout Rate')\n",
    "plt.show()\n"
   ]
  },
  {
   "cell_type": "markdown",
   "id": "c341384b",
   "metadata": {},
   "source": [
    "#### Gender distribution among scholarship holders:"
   ]
  },
  {
   "cell_type": "code",
   "execution_count": null,
   "id": "99c13049",
   "metadata": {},
   "outputs": [],
   "source": [
    "# Generate a crosstab table\n",
    "gender_scholarship_ct = pd.crosstab(df_school['Gender'], df_school['Scholarship'])\n",
    "\n",
    "# Visualization\n",
    "plt.figure(figsize=(10, 6))\n",
    "sns.barplot(x=gender_scholarship_ct.index, y=gender_scholarship_ct[1])  # 1 denotes scholarship holders\n",
    "plt.title('Gender Distribution Among Scholarship Holders')\n",
    "plt.xlabel('Gender')\n",
    "plt.ylabel('Number of Scholarship Holders')\n",
    "plt.show()\n"
   ]
  },
  {
   "cell_type": "markdown",
   "id": "14c154e8",
   "metadata": {},
   "source": [
    "#### Distribution of international students with respect to scholarships:"
   ]
  },
  {
   "cell_type": "code",
   "execution_count": null,
   "id": "952be171",
   "metadata": {},
   "outputs": [],
   "source": [
    "# Crosstab table for international students and scholarship distribution\n",
    "international_scholarship_ct = pd.crosstab(df_school['International'], df_school['Scholarship'])\n",
    "\n",
    "# Visualization\n",
    "plt.figure(figsize=(10, 6))\n",
    "sns.barplot(x=international_scholarship_ct.index, y=international_scholarship_ct[1])  # 1 denotes scholarship holders\n",
    "plt.title('Scholarship Distribution Among International and Local Students')\n",
    "plt.xlabel('International (1 = Yes, 0 = No)')\n",
    "plt.ylabel('Number of Scholarship Holders')\n",
    "plt.show()\n"
   ]
  },
  {
   "cell_type": "markdown",
   "id": "16034ad0",
   "metadata": {},
   "source": [
    "#### Relationship of scholarships with dropout rate among different categories"
   ]
  },
  {
   "cell_type": "code",
   "execution_count": null,
   "id": "48133144-4465-482b-ab12-ebf8bc1deb64",
   "metadata": {},
   "outputs": [],
   "source": [
    "gender_scholarship_ct"
   ]
  },
  {
   "cell_type": "code",
   "execution_count": null,
   "id": "37b16bd1",
   "metadata": {},
   "outputs": [],
   "source": [
    "# Create a crosstab table for Gender, Scholarship and Target\n",
    "gender_scholarship_target = pd.crosstab([df_school['Gender'], df_school['Scholarship']], df_school['Target'])\n",
    "gender_scholarship_target['Dropout Rate'] = gender_scholarship_target['Dropout'] / (gender_scholarship_target['Dropout'] + gender_scholarship_target['Graduate'])"
   ]
  },
  {
   "cell_type": "markdown",
   "id": "063250e0",
   "metadata": {},
   "source": [
    "#### Visualization for Gender, Scholarship, and Dropout rate:"
   ]
  },
  {
   "cell_type": "code",
   "execution_count": null,
   "id": "def28c0d",
   "metadata": {},
   "outputs": [],
   "source": [
    "# Simplify index for visualization\n",
    "gender_scholarship_ct.reset_index(inplace=True)\n",
    "gender_scholarship_ct['Index'] = gender_scholarship_ct['Gender'] + \"_\" + gender_scholarship_ct['Scholarship'].astype(str)\n",
    "\n",
    "plt.figure(figsize=(12, 6))\n",
    "sns.barplot(x=gender_scholarship_ct['Index'], y=gender_scholarship_ct['Dropout Rate'])\n",
    "plt.title('Dropout Rate by Gender and Scholarship Status')\n",
    "plt.xlabel('Gender_Scholarship Status')\n",
    "plt.ylabel('Dropout Rate')\n",
    "plt.xticks(rotation=45)\n",
    "plt.tight_layout()\n",
    "plt.show()\n"
   ]
  },
  {
   "cell_type": "markdown",
   "id": "f8eaf399",
   "metadata": {},
   "source": [
    "### Visualization for International Status, Scholarship, and Dropout rate:"
   ]
  },
  {
   "cell_type": "code",
   "execution_count": null,
   "id": "cb962616",
   "metadata": {},
   "outputs": [],
   "source": [
    "# Create a crosstab table for International status, Scholarship and Target\n",
    "international_scholarship_target = pd.crosstab([df_school['International'], df_school['Scholarship']], df_school['Target'])\n",
    "international_scholarship_target['Dropout Rate'] = international_scholarship_target['Dropout'] / (international_scholarship_target['Dropout'] + international_scholarship_target['Graduate'])\n",
    "\n",
    "# Simplify index for visualization\n",
    "international_scholarship_target.reset_index(inplace=True)\n",
    "international_scholarship_target['Index'] = international_scholarship_target['International'].astype(str) + \"_\" + international_scholarship_target['Scholarship'].astype(str)\n",
    "\n",
    "plt.figure(figsize=(12, 6))\n",
    "sns.barplot(x=international_scholarship_target['Index'], y=international_scholarship_target['Dropout Rate'])\n",
    "plt.title('Dropout Rate by International Status and Scholarship Status')\n",
    "plt.xlabel('International Status_Scholarship Status')\n",
    "plt.ylabel('Dropout Rate')\n",
    "plt.xticks(rotation=45)\n",
    "plt.tight_layout()\n",
    "plt.show()\n"
   ]
  },
  {
   "cell_type": "markdown",
   "id": "c167159c",
   "metadata": {},
   "source": [
    "### Influence of being a debtor on dropout rate. Impact of keeping tuition fees up-to-date."
   ]
  },
  {
   "cell_type": "code",
   "execution_count": null,
   "id": "b403d291",
   "metadata": {},
   "outputs": [],
   "source": [
    "from scipy.stats import chi2_contingency\n",
    "\n",
    "# 1. Overall Dropout Rate\n",
    "overall_dropout_rate = (df_school['Target'] == 'Dropout').mean()\n",
    "\n",
    "# 2. Dropout Rate Among Debtors vs. Non-Debtors\n",
    "debtor_dropout = df_school[df_school['Debtor'] == 1]\n",
    "non_debtor_dropout = df_school[df_school['Debtor'] == 0]\n",
    "\n",
    "debtor_dropout_rate = (debtor_dropout['Target'] == 'Dropout').mean()\n",
    "non_debtor_dropout_rate = (non_debtor_dropout['Target'] == 'Dropout').mean()\n",
    "\n",
    "# 3. Dropout Rate Among Students with Up-to-Date Tuition Fees vs. Not\n",
    "fees_updated = df_school[df_school['FeesUpdated'] == 1]\n",
    "fees_not_updated = df_school[df_school['FeesUpdated'] == 0]\n",
    "\n",
    "fees_updated_dropout_rate = (fees_updated['Target'] == 'Dropout').mean()\n",
    "fees_not_updated_dropout_rate = (fees_not_updated['Target'] == 'Dropout').mean()\n",
    "\n",
    "# 4. Visualization\n",
    "# Using bar plots to visualize the dropout rates\n",
    "labels = ['Overall', 'Debtor', 'Non-Debtor', 'FeesUpdated', 'Fees Not Up-to-Date']\n",
    "values = [overall_dropout_rate, debtor_dropout_rate, non_debtor_dropout_rate, fees_updated_dropout_rate, fees_not_updated_dropout_rate]\n",
    "\n",
    "plt.figure(figsize=(12, 7))\n",
    "sns.barplot(x=labels, y=values)\n",
    "plt.ylabel('Dropout Rate')\n",
    "plt.title('Dropout Rate Analysis Based on Debt and Tuition Fee Status')\n",
    "plt.ylim(0, 1)\n",
    "plt.tight_layout()\n",
    "plt.show()\n",
    "\n",
    "# 5. Statistical Significance: Chi-squared tests\n",
    "contingency_debtor = pd.crosstab(df_school['Debtor'], df_school['Target'])\n",
    "chi2_stat_debtor, p_val_debtor, _, _ = chi2_contingency(contingency_debtor)\n",
    "\n",
    "contingency_fees = pd.crosstab(df_school['FeesUpdated'], df_school['Target'])\n",
    "chi2_stat_fees, p_val_fees, _, _ = chi2_contingency(contingency_fees)\n",
    "\n",
    "print(f\"Chi-squared Test Result for Debtor Status: Statistic = {chi2_stat_debtor:.2f}, P-value = {p_val_debtor:.4f}\")\n",
    "print(f\"Chi-squared Test Result for Tuition Fees Up-to-Date: Statistic = {chi2_stat_fees:.2f}, P-value = {p_val_fees:.4f}\")\n"
   ]
  },
  {
   "cell_type": "markdown",
   "id": "97f0d2c8",
   "metadata": {},
   "source": [
    "Debtor Status:\n",
    "\n",
    "Statistic = 259.33: This indicates that the observed counts of dropouts (and other outcomes) for debtor vs. non-debtor students differ significantly from what we'd expect if being a debtor had no influence on dropout rates.\n",
    "\n",
    "P-value = 0.0000: This p-value is less than typical significance levels (like 0.05), so we reject the null hypothesis. There is a statistically significant association between being a debtor and the dropout rate.\n",
    "\n",
    "Tuition Fees Up-to-Date:\n",
    "\n",
    "Statistic = 823.55: This indicates that the observed counts of dropouts for students with tuition fees up-to-date vs. not differ significantly from what we'd expect if tuition fee status had no influence on dropout rates.\n",
    "\n",
    "P-value = 0.0000: Again, this p-value is less than typical significance levels, leading us to reject the null hypothesis. There's a statistically significant association between having tuition fees up-to-date and the dropout rate.\n",
    "\n",
    "In Simple Terms:\n",
    "Being a debtor has a statistically significant impact on whether a student drops out, graduates, or maintains some other status. Given the high chi-squared value and a p-value of 0, we can be very confident in this result.\n",
    "\n",
    "Similarly, whether or not a student's tuition fees are up-to-date also has a significant impact on their status. Again, the high chi-squared value combined with a p-value of 0 gives us strong confidence in this finding."
   ]
  },
  {
   "cell_type": "markdown",
   "id": "f209e966",
   "metadata": {},
   "source": [
    "### Correlation between average grades of 1st and 2nd semester and dropout rate."
   ]
  },
  {
   "cell_type": "code",
   "execution_count": null,
   "id": "b03c9865-f5e4-4e4d-8d16-86499fde895c",
   "metadata": {},
   "outputs": [],
   "source": [
    "df_school.columns"
   ]
  },
  {
   "cell_type": "code",
   "execution_count": null,
   "id": "bb2ae923",
   "metadata": {},
   "outputs": [],
   "source": [
    "# Calculate the average grade for each student\n",
    "df_school['average_grade'] = (df_school['CU1Grade'] + df_school['CU2Grade']) / 2"
   ]
  },
  {
   "cell_type": "code",
   "execution_count": null,
   "id": "8f103d36",
   "metadata": {},
   "outputs": [],
   "source": [
    "plt.figure(figsize=(10, 6))\n",
    "sns.boxplot(x='Target', y='average_grade', data=df_school[df_school['Target'] != 'Enrolled'])\n",
    "plt.title('Distribution of Average Grades by Student Status')\n",
    "plt.ylabel('Average Grade')\n",
    "plt.xlabel('Student Status')\n",
    "plt.show()\n"
   ]
  },
  {
   "cell_type": "code",
   "execution_count": null,
   "id": "76042960",
   "metadata": {},
   "outputs": [],
   "source": [
    "plt.figure(figsize=(10, 6))\n",
    "sns.histplot(df_school, x='average_grade', hue='Target', element=\"step\", stat=\"density\", common_norm=False)\n",
    "plt.title(\"Distribution of Average Grades by Dropout Status\")\n",
    "plt.ylabel(\"Density\")\n",
    "plt.xlabel(\"Average Grade\")\n",
    "plt.show()\n"
   ]
  },
  {
   "cell_type": "code",
   "execution_count": null,
   "id": "c2acb9e9",
   "metadata": {},
   "outputs": [],
   "source": [
    "# Create a new column where Dropouts are represented by 1 and Graduates by 0\n",
    "df_school['is_dropout'] = df_school['Target'].apply(lambda x: 1 if x == 'Dropout' else 0 if x == 'Graduate' else None)\n",
    "\n",
    "# Compute the correlation\n",
    "correlation = df_school[['average_grade', 'is_dropout']].dropna().corr().iloc[0, 1]\n",
    "\n",
    "print(f\"Pearson's correlation coefficient between average grades and dropout status: {correlation:.3f}\")\n"
   ]
  },
  {
   "cell_type": "markdown",
   "id": "83d592e8",
   "metadata": {},
   "source": [
    "As the average grades of a student increase, the likelihood of them being a dropout decreases."
   ]
  },
  {
   "cell_type": "code",
   "execution_count": null,
   "id": "a78a3e98",
   "metadata": {},
   "outputs": [],
   "source": [
    "plt.figure(figsize=(10, 6))\n",
    "sns.boxplot(data=df_school, x='Gender', y='average_grade', hue='Target')\n",
    "plt.title(\"Average Grades by Gender and Dropout Status\")\n",
    "plt.ylabel(\"Average Grade\")\n",
    "plt.xlabel(\"Gender\")\n",
    "plt.show()\n"
   ]
  },
  {
   "cell_type": "code",
   "execution_count": null,
   "id": "506f9e7d",
   "metadata": {},
   "outputs": [],
   "source": [
    "from scipy.stats import ttest_ind\n",
    "\n",
    "dropouts = df_school[df_school['Target'] == 'Dropout']['average_grade']\n",
    "graduates = df_school[df_school['Target'] == 'Graduate']['average_grade']\n",
    "\n",
    "t_stat, p_value = ttest_ind(dropouts, graduates)\n",
    "\n",
    "print(f\"T-test results: Statistic = {t_stat:.3f}, P-value = {p_value:.4f}\")\n"
   ]
  },
  {
   "cell_type": "markdown",
   "id": "ad4f0129",
   "metadata": {},
   "source": [
    "Statistic (-43.719): This is the t-statistic value. A negative value indicates that the first group's mean (in this context, the average grade of students who drop out) is lower than the second group's mean (the average grade of students who graduate).\n",
    "\n",
    "P-value (0.0000): This represents the probability that the observed difference in means happened by random chance. A very small P-value, like 0.0000, suggests that the difference in means between the two groups is statistically significant.\n",
    "\n",
    "In short, students who drop out have a significantly lower average grade than those who graduate."
   ]
  },
  {
   "cell_type": "markdown",
   "id": "1a38c593",
   "metadata": {},
   "source": [
    "### Number of students with high unevaluated curricular units and its correlation with dropout rate."
   ]
  },
  {
   "cell_type": "code",
   "execution_count": null,
   "id": "9787cec3-91d0-4445-8d97-978c24cc2b4a",
   "metadata": {},
   "outputs": [],
   "source": []
  },
  {
   "cell_type": "code",
   "execution_count": null,
   "id": "f0c8ee6c",
   "metadata": {},
   "outputs": [],
   "source": [
    "import pandas as pd\n",
    "import numpy as np\n",
    "import matplotlib.pyplot as plt\n",
    "import seaborn as sns\n",
    "from scipy.stats import pointbiserialr\n",
    "\n",
    "# 1. Define students with high unevaluated curricular units\n",
    "# Calculate the total unevaluated curricular units for each student across both semesters\n",
    "df_school['Total Unevaluated Units'] = df_school['CU1NoEvals'] + df_school['CU2NoEvals']\n",
    "\n",
    "# Define a threshold for \"high unevaluated curricular units\" (let's use the 75th percentile as an example)\n",
    "threshold = df_school['Total Unevaluated Units'].quantile(0.75)\n",
    "high_unevaluated_students = df_school[df_school['Total Unevaluated Units'] > threshold]\n",
    "\n",
    "# 2. Calculate the dropout rate for students with high unevaluated curricular units\n",
    "dropout_rate_high_unevaluated = (high_unevaluated_students['Target'] == 'Dropout').mean()\n",
    "\n",
    "print(f\"Dropout rate for students with high unevaluated curricular units: {dropout_rate_high_unevaluated:.2f}\")\n",
    "\n",
    "# 3. Correlation between the number of unevaluated curricular units and dropout status\n",
    "# For this, we'll convert the 'Target' column to a binary form where 'Dropout' is 1 and other statuses are 0\n",
    "df_school['Is_Dropout'] = np.where(df_school['Target'] == 'Dropout', 1, 0)\n",
    "correlation, _ = pointbiserialr(df_school['Total Unevaluated Units'], df_school['Is_Dropout'])\n",
    "\n",
    "print(f\"Correlation between number of unevaluated curricular units and dropout status: {correlation:.3f}\")\n",
    "\n",
    "# Visualization\n",
    "plt.figure(figsize=(10, 5))\n",
    "sns.boxplot(x='Is_Dropout', y='Total Unevaluated Units', data=df_school)\n",
    "plt.title(\"Distribution of Unevaluated Curricular Units by Dropout Status\")\n",
    "plt.xlabel(\"Dropout Status (1 = Dropped Out)\")\n",
    "plt.ylabel(\"Total Unevaluated Units\")\n",
    "plt.show()\n"
   ]
  },
  {
   "cell_type": "code",
   "execution_count": null,
   "id": "29b36b1d",
   "metadata": {},
   "outputs": [],
   "source": [
    "plt.figure(figsize=(12, 6))\n",
    "sns.histplot(df_school, x='Total Unevaluated Units', hue='Is_Dropout', element=\"step\", stat=\"density\", common_norm=False)\n",
    "plt.title(\"Distribution of Unevaluated Curricular Units by Dropout Status\")\n",
    "plt.xlabel(\"Total Unevaluated Units\")\n",
    "plt.ylabel(\"Density\")\n",
    "plt.legend(title='Dropout Status', labels=['Not Dropped Out', 'Dropped Out'])\n",
    "plt.show()\n"
   ]
  },
  {
   "cell_type": "code",
   "execution_count": null,
   "id": "9cb5cd6b",
   "metadata": {},
   "outputs": [],
   "source": [
    "plt.figure(figsize=(8, 6))\n",
    "sns.barplot(x='Is_Dropout', y='Total Unevaluated Units', data=df_school)\n",
    "plt.title(\"Average Unevaluated Curricular Units by Dropout Status\")\n",
    "plt.xlabel(\"Dropout Status (1 = Dropped Out)\")\n",
    "plt.ylabel(\"Average Total Unevaluated Units\")\n",
    "plt.show()\n"
   ]
  },
  {
   "cell_type": "code",
   "execution_count": null,
   "id": "b97cafe9",
   "metadata": {},
   "outputs": [],
   "source": [
    "# Define the mapping\n",
    "app_mode_mapping = {\n",
    "    1: \"1st phase—general contingent\",\n",
    "    2: \"Ordinance No. 612/93\",\n",
    "    3: \"1st phase—special contingent (Azores Island)\",\n",
    "    4: \"Holders of other higher courses\",\n",
    "    5: \"Ordinance No. 854-B/99\",\n",
    "    6: \"International student (bachelor)\",\n",
    "    7: \"1st phase—special contingent (Madeira Island)\",\n",
    "    8: \"2nd phase—general contingent\",\n",
    "    9: \"3rd phase—general contingent\",\n",
    "    10: \"Ordinance No. 533-A/99, item b2) (Different Plan)\",\n",
    "    11: \"Ordinance No. 533-A/99, item b3 (Other Institution)\",\n",
    "    12: \"Over 23 years old\",\n",
    "    13: \"Transfer\",\n",
    "    14: \"Change in course\",\n",
    "    15: \"Technological specialization diploma holders\",\n",
    "    16: \"Change in institution/course\",\n",
    "    17: \"Short cycle diploma holders\",\n",
    "    18: \"Change in institution/course (International)\"\n",
    "}\n",
    "\n",
    "# Use the replace method on the 'Application mode' column\n",
    "df_school['AppMode'] = df_school['AppMode'].replace(app_mode_mapping)\n"
   ]
  },
  {
   "cell_type": "code",
   "execution_count": null,
   "id": "ea73ed88",
   "metadata": {},
   "outputs": [],
   "source": [
    "df_school['AppMode'].unique()"
   ]
  },
  {
   "cell_type": "code",
   "execution_count": null,
   "id": "a80db467",
   "metadata": {},
   "outputs": [],
   "source": [
    "print(df_school['AppMode'].value_counts())\n",
    "print(\"\\n\")\n",
    "print(df_school['AppOrder'].value_counts())\n"
   ]
  },
  {
   "cell_type": "code",
   "execution_count": null,
   "id": "60f997dc",
   "metadata": {},
   "outputs": [],
   "source": [
    "# Create a crosstab table of 'Application mode' vs 'Target'\n",
    "app_mode_vs_dropout = pd.crosstab(df_school['AppMode'], df_school['Target'], normalize='index')\n",
    "\n",
    "# Visualize the dropout rates for each application mode\n",
    "app_mode_vs_dropout['Dropout'].plot(kind='bar', figsize=(10, 6))\n",
    "plt.title(\"Dropout Rate by Application Mode\")\n",
    "plt.ylabel(\"Dropout Rate\")\n",
    "plt.xlabel(\"Application Mode\")\n",
    "plt.show()\n"
   ]
  },
  {
   "cell_type": "code",
   "execution_count": null,
   "id": "7edab56d",
   "metadata": {},
   "outputs": [],
   "source": [
    "# Create a crosstab table of 'Application order' vs 'Target'\n",
    "app_order_vs_dropout = pd.crosstab(df_school['AppOrder'], df_school['Target'], normalize='index')\n",
    "\n",
    "# Visualize the dropout rates for each application order\n",
    "app_order_vs_dropout['Dropout'].plot(kind='bar', figsize=(10, 6))\n",
    "plt.title(\"Dropout Rate by Application Order\")\n",
    "plt.ylabel(\"Dropout Rate\")\n",
    "plt.xlabel(\"Application Order\")\n",
    "plt.show()\n"
   ]
  },
  {
   "cell_type": "code",
   "execution_count": null,
   "id": "7fd78ad0",
   "metadata": {},
   "outputs": [],
   "source": [
    "from scipy.stats import chi2_contingency\n",
    "\n",
    "# Chi-squared test for Application Mode\n",
    "chi2_stat, p_val_mode, _, _ = chi2_contingency(pd.crosstab(df_school['AppMode'], df_school['Target']))\n",
    "print(f\"Chi-squared Test Result for Application Mode: Statistic = {chi2_stat:.2f}, P-value = {p_val_mode:.4f}\")\n",
    "\n",
    "# Chi-squared test for Application Order\n",
    "chi2_stat, p_val_order, _, _ = chi2_contingency(pd.crosstab(df_school['AppOrder'], df_school['Target']))\n",
    "print(f\"Chi-squared Test Result for Application Order: Statistic = {chi2_stat:.2f}, P-value = {p_val_order:.4f}\")\n"
   ]
  },
  {
   "cell_type": "markdown",
   "id": "38548c80",
   "metadata": {},
   "source": [
    "### Influence of age at enrollment on outcome"
   ]
  },
  {
   "cell_type": "code",
   "execution_count": null,
   "id": "ee31c66b",
   "metadata": {},
   "outputs": [],
   "source": [
    "print(df_school['AgeEnroll'].describe())\n"
   ]
  },
  {
   "cell_type": "code",
   "execution_count": null,
   "id": "5f377039",
   "metadata": {},
   "outputs": [],
   "source": [
    "#Histogram of Age Distribution\n",
    "\n",
    "plt.figure(figsize=(10, 5))\n",
    "sns.histplot(df_school['AgeEnroll'], kde=True, bins=30)\n",
    "plt.title('Distribution of Age at Enrollment')\n",
    "plt.xlabel('Age at Enrollment')\n",
    "plt.ylabel('Number of Students')\n",
    "plt.show()\n"
   ]
  },
  {
   "cell_type": "code",
   "execution_count": null,
   "id": "3e865395",
   "metadata": {},
   "outputs": [],
   "source": [
    "#Boxplot of Age Distribution by Outcome\n",
    "\n",
    "plt.figure(figsize=(10, 5))\n",
    "sns.boxplot(x='Target', y='AgeEnroll', data=df_school)\n",
    "plt.title('Distribution of Age at Enrollment by Outcome')\n",
    "plt.ylabel('Age at Enrollment')\n",
    "plt.xlabel('Outcome')\n",
    "plt.show()\n"
   ]
  },
  {
   "cell_type": "code",
   "execution_count": null,
   "id": "35020224",
   "metadata": {},
   "outputs": [],
   "source": [
    "#Statistical Testing\n",
    "\n",
    "import scipy.stats as stats\n",
    "\n",
    "# Performing an ANOVA test\n",
    "f_value, p_value = stats.f_oneway(\n",
    "    df_school[df_school['Target'] == 'Dropout']['AgeEnroll'],\n",
    "    df_school[df_school['Target'] == 'Graduate']['AgeEnroll']\n",
    "    # Add more groups if needed\n",
    ")\n",
    "\n",
    "print(f\"F-value: {f_value}\")\n",
    "print(f\"P-value: {p_value}\")\n"
   ]
  },
  {
   "cell_type": "code",
   "execution_count": null,
   "id": "569db68d",
   "metadata": {},
   "outputs": [],
   "source": [
    "dropout_data = df_school[df_school['Target'] == 'Dropout']\n",
    "\n",
    "print(\"Male Dropouts Age Distribution:\")\n",
    "print(dropout_data[dropout_data['Gender'] == 'male']['AgeEnroll'].describe())\n",
    "print(\"\\nFemale Dropouts Age Distribution:\")\n",
    "print(dropout_data[dropout_data['Gender'] == 'female']['AgeEnroll'].describe())\n"
   ]
  },
  {
   "cell_type": "code",
   "execution_count": null,
   "id": "615aebe5",
   "metadata": {},
   "outputs": [],
   "source": [
    "plt.figure(figsize=(12, 6))\n",
    "\n",
    "sns.histplot(data=dropout_data, x='AgeEnroll', hue='Gender', element=\"step\", stat=\"density\", common_norm=False)\n",
    "plt.title('Age Distribution of Dropouts by Gender')\n",
    "plt.xlabel('Age at Enrollment')\n",
    "plt.ylabel('Density')\n",
    "plt.show()\n"
   ]
  },
  {
   "cell_type": "code",
   "execution_count": null,
   "id": "9d07ef83",
   "metadata": {},
   "outputs": [],
   "source": [
    "plt.figure(figsize=(10, 5))\n",
    "sns.boxplot(x='Gender', y='AgeEnroll', data=dropout_data)\n",
    "plt.title('Age Distribution of Dropouts by Gender')\n",
    "plt.ylabel('Age at Enrollment')\n",
    "plt.xlabel('Gender')\n",
    "plt.show()\n"
   ]
  },
  {
   "cell_type": "code",
   "execution_count": null,
   "id": "7f40b18f",
   "metadata": {},
   "outputs": [],
   "source": [
    "international_dropouts = df_school[(df_school['Target'] == 'Dropout') & (df_school['International'] == 1)]\n",
    "\n",
    "print(\"International Dropouts with Scholarship Age Distribution:\")\n",
    "print(international_dropouts[international_dropouts['Scholarship'] == 1]['AgeEnroll'].describe())\n",
    "print(\"\\nInternational Dropouts without Scholarship Age Distribution:\")\n",
    "print(international_dropouts[international_dropouts['Scholarship'] == 0]['AgeEnroll'].describe())\n"
   ]
  },
  {
   "cell_type": "code",
   "execution_count": null,
   "id": "6f543015",
   "metadata": {},
   "outputs": [],
   "source": [
    "plt.figure(figsize=(12, 6))\n",
    "sns.histplot(data=international_dropouts, x='AgeEnroll', hue='Scholarship', element=\"step\", stat=\"density\", common_norm=False, palette=\"tab10\")\n",
    "plt.title('Age Distribution of International Dropouts by Scholarship Status')\n",
    "plt.xlabel('Age at Enrollment')\n",
    "plt.ylabel('Density')\n",
    "plt.legend(title='Scholarship Holder', labels=['No Scholarship', 'With Scholarship'])\n",
    "plt.show()\n"
   ]
  },
  {
   "cell_type": "code",
   "execution_count": null,
   "id": "69538311",
   "metadata": {},
   "outputs": [],
   "source": [
    "plt.figure(figsize=(10, 5))\n",
    "sns.boxplot(x='Scholarship', y='AgeEnroll', data=international_dropouts, palette=\"tab10\")\n",
    "plt.title('Age Distribution of International Dropouts by Scholarship Status')\n",
    "plt.ylabel('Age at Enrollment')\n",
    "plt.xlabel('Scholarship Holder')\n",
    "plt.xticks([0, 1], ['No Scholarship', 'With Scholarship'])\n",
    "plt.show()\n"
   ]
  },
  {
   "cell_type": "code",
   "execution_count": null,
   "id": "05b31016",
   "metadata": {},
   "outputs": [],
   "source": [
    "# Filter out data for international students\n",
    "international_students = df_school[df_school['International'] == 1]\n",
    "\n",
    "# Compute the number of dropouts for each age, broken down by scholarship status\n",
    "dropout_counts = international_students[international_students['Target'] == 'Dropout'].groupby(['AgeEnroll', 'Scholarship']).size().reset_index(name='Dropout Counts')\n",
    "\n",
    "# Compute the total number of students for each age, broken down by scholarship status\n",
    "total_counts = international_students.groupby(['AgeEnroll', 'Scholarship']).size().reset_index(name='Total Counts')\n",
    "\n",
    "# Merge the dropout counts and total counts dataframes on age and scholarship status\n",
    "merged_df = pd.merge(total_counts, dropout_counts, on=['AgeEnroll', 'Scholarship'], how='left').fillna(0)\n",
    "\n",
    "# Compute the dropout rate for each age and scholarship status\n",
    "merged_df['Dropout Rate (%)'] = (merged_df['Dropout Counts'] / merged_df['Total Counts']) * 100\n",
    "\n",
    "merged_df\n"
   ]
  },
  {
   "cell_type": "code",
   "execution_count": null,
   "id": "31f84e95",
   "metadata": {},
   "outputs": [],
   "source": [
    "# Filter out data for international students\n",
    "international_students = df_school[df_school['International'] == 1]\n",
    "\n",
    "# Compute the number of dropouts for each age, broken down by scholarship status and gender\n",
    "dropout_counts = international_students[international_students['Target'] == 'Dropout'].groupby(['AgeEnroll', 'Scholarship', 'Gender']).size().reset_index(name='Dropout Counts')\n",
    "\n",
    "# Compute the total number of students for each age, broken down by scholarship status and gender\n",
    "total_counts = international_students.groupby(['AgeEnroll', 'Scholarship', 'Gender']).size().reset_index(name='Total Counts')\n",
    "\n",
    "# Merge the dropout counts and total counts dataframes on age, scholarship status, and gender\n",
    "merged_df = pd.merge(total_counts, dropout_counts, on=['AgeEnroll', 'Scholarship', 'Gender'], how='left').fillna(0)\n",
    "\n",
    "# Compute the dropout rate for each age, scholarship status, and gender\n",
    "merged_df['Dropout Rate (%)'] = (merged_df['Dropout Counts'] / merged_df['Total Counts']) * 100\n",
    "\n",
    "merged_df\n"
   ]
  },
  {
   "cell_type": "code",
   "execution_count": null,
   "id": "688f01e9",
   "metadata": {},
   "outputs": [],
   "source": [
    "# Filter rows where the dropout rate is 100%\n",
    "high_dropout_df = merged_df[merged_df['Dropout Rate (%)'] == 100]\n",
    "\n",
    "high_dropout_df\n"
   ]
  },
  {
   "cell_type": "markdown",
   "id": "d746c0e1",
   "metadata": {},
   "source": [
    "## Basic Cohort Analysis 1"
   ]
  },
  {
   "cell_type": "code",
   "execution_count": null,
   "id": "ca27f847",
   "metadata": {},
   "outputs": [],
   "source": [
    "#Define Cohorts\n",
    "df_school['Age Cohort'] = pd.cut(df_school['AgeEnroll'], bins=[17, 20, 25, 30, 35, 40, 50], labels=['18-20', '21-25', '26-30', '31-35', '36-40', '41-50'])\n"
   ]
  },
  {
   "cell_type": "code",
   "execution_count": null,
   "id": "084b2a39",
   "metadata": {},
   "outputs": [],
   "source": [
    "# For the first semester\n",
    "dropout_counts_1st = df_school[(df_school['Target'] == 'Dropout') & (df_school['CU1Enrolled'] > 0)].groupby(['Age Cohort', 'Gender', 'International', 'DayEveningAtt']).size()\n",
    "total_counts_1st = df_school[df_school['CU1Enrolled'] > 0].groupby(['Age Cohort', 'Gender', 'International', 'DayEveningAtt']).size()\n",
    "dropout_rates_1st = (dropout_counts_1st / total_counts_1st) * 100\n",
    "\n",
    "# For the second semester\n",
    "dropout_counts_2nd = df_school[(df_school['Target'] == 'Dropout') & (df_school['CU2Enrolled'] > 0)].groupby(['Age Cohort', 'Gender', 'International', 'DayEveningAtt']).size()\n",
    "total_counts_2nd = df_school[df_school['CU2Enrolled'] > 0].groupby(['Age Cohort', 'Gender', 'International', 'DayEveningAtt']).size()\n",
    "dropout_rates_2nd = (dropout_counts_2nd / total_counts_2nd) * 100\n"
   ]
  },
  {
   "cell_type": "code",
   "execution_count": null,
   "id": "d73d405e",
   "metadata": {},
   "outputs": [],
   "source": [
    "dropout_rates = pd.concat([dropout_rates_1st.rename(\"1st Sem Dropout Rate\"), dropout_rates_2nd.rename(\"2nd Sem Dropout Rate\")], axis=1)\n"
   ]
  },
  {
   "cell_type": "code",
   "execution_count": null,
   "id": "3c44d533",
   "metadata": {},
   "outputs": [],
   "source": [
    "# For the 1st semester\n",
    "heatmap_data_1st = dropout_rates.reset_index()\n",
    "heatmap_data_1st = heatmap_data_1st.pivot_table(index=['Age Cohort', 'DayEveningAtt'], columns='Gender', values='1st Sem Dropout Rate')\n",
    "\n",
    "# For the 2nd semester\n",
    "heatmap_data_2nd = dropout_rates.reset_index()\n",
    "heatmap_data_2nd = heatmap_data_2nd.pivot_table(index=['Age Cohort', 'DayEveningAtt'], columns='Gender', values='2nd Sem Dropout Rate')\n",
    "\n",
    "# You can visualize each semester separately or use subplots to visualize them side by side\n",
    "plt.figure(figsize=(12, 6))\n",
    "plt.subplot(1, 2, 1)\n",
    "sns.heatmap(heatmap_data_1st, annot=True, cmap=\"YlGnBu\", fmt=\".1f\")\n",
    "plt.title('1st Semester Dropout Rates')\n",
    "\n",
    "plt.subplot(1, 2, 2)\n",
    "sns.heatmap(heatmap_data_2nd, annot=True, cmap=\"YlGnBu\", fmt=\".1f\")\n",
    "plt.title('2nd Semester Dropout Rates')\n",
    "\n",
    "plt.tight_layout()\n",
    "plt.show()\n"
   ]
  },
  {
   "cell_type": "markdown",
   "id": "29705d01",
   "metadata": {},
   "source": [
    "## Basic Cohort Analysis 2"
   ]
  },
  {
   "cell_type": "code",
   "execution_count": null,
   "id": "9a325dc5",
   "metadata": {},
   "outputs": [],
   "source": [
    "#Generate the Cohort Analysis Data:\n",
    "cohort_data = df_school.groupby(['Age Cohort', 'DayEveningAtt', 'Gender']).agg({\n",
    "    'Approval_Ratio_1st_Sem': 'mean',\n",
    "    'Approval_Ratio_2nd_Sem': 'mean'\n",
    "}).reset_index()\n",
    "\n",
    "#Pivot the Data for Heatmap Visualization:\n",
    "heatmap_data_approval_1st = cohort_data.pivot_table(index=['Age Cohort', 'DayEveningAtt'], columns='Gender', values='Approval_Ratio_1st_Sem')\n",
    "heatmap_data_approval_2nd = cohort_data.pivot_table(index=['Age Cohort', 'DayEveningAtt'], columns='Gender', values='Approval_Ratio_2nd_Sem')\n",
    "\n",
    "#Visualize:\n",
    "plt.figure(figsize=(12, 6))\n",
    "\n",
    "# 1st Semester Approval Ratios\n",
    "plt.subplot(1, 2, 1)\n",
    "sns.heatmap(heatmap_data_approval_1st, annot=True, cmap=\"YlGnBu\", fmt=\".2f\")\n",
    "plt.title('1st Semester Approval Ratios')\n",
    "\n",
    "# 2nd Semester Approval Ratios\n",
    "plt.subplot(1, 2, 2)\n",
    "sns.heatmap(heatmap_data_approval_2nd, annot=True, cmap=\"YlGnBu\", fmt=\".2f\")\n",
    "plt.title('2nd Semester Approval Ratios')\n",
    "\n",
    "plt.tight_layout()\n",
    "plt.show()\n"
   ]
  },
  {
   "cell_type": "markdown",
   "id": "382f5929",
   "metadata": {},
   "source": [
    "### Socio-Economic Descriptors "
   ]
  },
  {
   "cell_type": "code",
   "execution_count": null,
   "id": "95072b1d",
   "metadata": {},
   "outputs": [],
   "source": [
    "# Descriptive statistics\n",
    "economic_descriptives = df_school[['UnempRate', 'InflationRate', 'GDP']].describe()\n",
    "economic_descriptives"
   ]
  },
  {
   "cell_type": "code",
   "execution_count": null,
   "id": "8f949930",
   "metadata": {},
   "outputs": [],
   "source": [
    "# Grouped analysis\n",
    "grouped_descriptives = df_school.groupby('Target')[['UnempRate', 'InflationRate', 'GDP']].describe()\n",
    "\n",
    "grouped_descriptives"
   ]
  },
  {
   "cell_type": "code",
   "execution_count": null,
   "id": "5e6be6d2",
   "metadata": {},
   "outputs": [],
   "source": [
    "means = df_school['UnempRate'].groupby(df_school['Target']).mean()\n",
    "categories = means.index\n",
    "\n",
    "plt.figure(figsize=(10, 6))\n",
    "plt.bar(categories, means, color=['blue', 'orange', 'green'])\n",
    "plt.title('Mean Unemployment Rate by Target Category')\n",
    "plt.xlabel('Target Category')\n",
    "plt.ylabel('Mean Unemployment Rate')\n",
    "plt.show()\n"
   ]
  },
  {
   "cell_type": "code",
   "execution_count": null,
   "id": "ce5d36e2",
   "metadata": {},
   "outputs": [],
   "source": [
    "# Filter the DataFrame to include only the 'Dropout' category\n",
    "dropout_df = df_school[df_school['Target'] == 'Dropout']\n",
    "\n",
    "# Calculate the mean Unemployment Rate for 'Dropout' category by Gender\n",
    "dropout_means = dropout_df.groupby('Gender')['UnempRate'].mean()\n",
    "\n",
    "# Plotting the bars\n",
    "fig, ax = plt.subplots(figsize=(8, 6))\n",
    "\n",
    "# Create bars for each gender using the means calculated above\n",
    "bars = ax.bar(dropout_means.index, dropout_means.values, color=['blue', 'orange'])\n",
    "\n",
    "# Set the y axis label\n",
    "ax.set_ylabel('Mean Unemployment Rate')\n",
    "\n",
    "# Set the title of the chart\n",
    "ax.set_title('Mean Unemployment Rate for Dropouts by Gender')\n",
    "\n",
    "# Display the mean values on top of the bars\n",
    "for bar in bars:\n",
    "    yval = bar.get_height()\n",
    "    ax.text(bar.get_x() + bar.get_width()/2, yval + 0.005, round(yval, 2), ha='center', va='bottom')\n",
    "\n",
    "# Show the plot\n",
    "plt.show()\n"
   ]
  },
  {
   "cell_type": "code",
   "execution_count": null,
   "id": "9139563b",
   "metadata": {},
   "outputs": [],
   "source": [
    "#grouped_means\n",
    "\n",
    "dropout_means"
   ]
  },
  {
   "cell_type": "markdown",
   "id": "fbe200ea",
   "metadata": {},
   "source": [
    "this suggests is that, on average, males who have dropped out of the school have a slightly higher unemployment rate compared to females who have dropped out."
   ]
  },
  {
   "cell_type": "code",
   "execution_count": null,
   "id": "d31db2f6",
   "metadata": {},
   "outputs": [],
   "source": [
    "# Convert 'Target' into a binary variable where 1 is 'Dropout' and 0 is 'Graduate' or 'Enrolled'\n",
    "df_school['Target_Binary'] = df_school['Target'].apply(lambda x: 1 if x == 'Dropout' else 0)\n",
    "\n",
    "# Now compute the correlation matrix with the new binary 'Target_Binary' column\n",
    "correlation_matrix = df_school[['UnempRate', 'InflationRate', 'GDP', 'Target_Binary']].corr()\n",
    "\n",
    "# Display the correlation values for the 'Dropout' binary variable\n",
    "print(correlation_matrix[['Target_Binary']])\n"
   ]
  },
  {
   "cell_type": "code",
   "execution_count": null,
   "id": "ec3db176",
   "metadata": {},
   "outputs": [],
   "source": [
    "# Filter the dataframe for males and females and create a copy\n",
    "df_male = df_school[df_school['Gender'] == 'male'].copy()\n",
    "df_female = df_school[df_school['Gender'] == 'female'].copy()\n",
    "\n",
    "# Convert 'Target' into a binary variable for each dataframe\n",
    "df_male['Target_Binary'] = df_male['Target'].apply(lambda x: 1 if x == 'Dropout' else 0)\n",
    "df_female['Target_Binary'] = df_female['Target'].apply(lambda x: 1 if x == 'Dropout' else 0)\n",
    "\n",
    "# Compute the correlation matrix for males\n",
    "correlation_matrix_male = df_male[['UnempRate', 'InflationRate', 'GDP', 'Target_Binary']].corr()\n",
    "print(\"Male Correlation Matrix:\")\n",
    "print(correlation_matrix_male[['Target_Binary']])\n",
    "\n",
    "# Compute the correlation matrix for females\n",
    "correlation_matrix_female = df_female[['UnempRate', 'InflationRate', 'GDP', 'Target_Binary']].corr()\n",
    "print(\"\\nFemale Correlation Matrix:\")\n",
    "print(correlation_matrix_female[['Target_Binary']])\n"
   ]
  },
  {
   "cell_type": "code",
   "execution_count": null,
   "id": "11cbf5cb",
   "metadata": {},
   "outputs": [],
   "source": [
    "import seaborn as sns\n",
    "\n",
    "# Set the matplotlib figure\n",
    "fig, axes = plt.subplots(1, 2, figsize=(14, 5), sharey=True)\n",
    "fig.suptitle('Heatmaps of Economic Factors Correlation with Dropout Rate by Gender')\n",
    "\n",
    "# Create a heatmap for males\n",
    "sns.heatmap(\n",
    "    correlation_matrix_male[['UnempRate', 'InflationRate', 'GDP', 'Target_Binary']].drop('Target_Binary', axis=0),\n",
    "    ax=axes[0],\n",
    "    annot=True,\n",
    "    cmap='coolwarm',\n",
    "    cbar_kws={'label': 'Correlation Coefficient'}\n",
    ")\n",
    "axes[0].set_title('Male')\n",
    "\n",
    "# Create a heatmap for females\n",
    "sns.heatmap(\n",
    "    correlation_matrix_female[['UnempRate', 'InflationRate', 'GDP', 'Target_Binary']].drop('Target_Binary', axis=0),\n",
    "    ax=axes[1],\n",
    "    annot=True,\n",
    "    cmap='coolwarm',\n",
    "    cbar_kws={'label': 'Correlation Coefficient'}\n",
    ")\n",
    "axes[1].set_title('Female')\n",
    "\n",
    "# Set the y-axis label\n",
    "axes[0].set_ylabel('Economic Factors')\n",
    "\n",
    "# Set the y-axis tick labels to be the economic factors\n",
    "axes[0].set_yticklabels(['Unemployment Rate', 'Inflation Rate', 'GDP'])\n",
    "\n",
    "# Rotate the tick labels for x axis on both heatmaps\n",
    "for ax in axes:\n",
    "    plt.sca(ax)\n",
    "    plt.xticks(rotation=45, ha='right')\n",
    "\n",
    "# Tight layout to ensure there's no overlap\n",
    "plt.tight_layout()\n",
    "\n",
    "# Show the plot\n",
    "plt.show()\n"
   ]
  },
  {
   "cell_type": "code",
   "execution_count": null,
   "id": "91348c7a",
   "metadata": {},
   "outputs": [],
   "source": [
    "import matplotlib.pyplot as plt\n",
    "import seaborn as sns\n",
    "\n",
    "# Filter the dataset for the \"Dropout\" category\n",
    "df_dropout = df_school[df_school['Target'] == 'Dropout']\n",
    "\n",
    "# Define a function to add mean labels to the boxplot\n",
    "def add_mean_labels(ax, data, y_var):\n",
    "    means = data.groupby('Gender')[y_var].mean().reset_index()\n",
    "    for index, row in means.iterrows():\n",
    "        # Position the text label (index - 0.2 or index + 0.2) to avoid overlapping with the boxes\n",
    "        x_position = index - 0.2 if row['Gender'] == 'male' else index + 0.2\n",
    "        ax.text(x_position, row[y_var], f'{row[y_var]:.2f}',\n",
    "                color='black', ha=\"center\", va=\"bottom\")\n",
    "\n",
    "# Unemployment Rate for Dropout by Gender\n",
    "plt.figure(figsize=(10, 6))\n",
    "ax = sns.boxplot(x='Gender', y='UnempRate', data=df_dropout, showmeans=True,\n",
    "                 meanprops={\"marker\":\"o\", \"markerfacecolor\":\"red\", \"markeredgecolor\":\"red\"})\n",
    "add_mean_labels(ax, df_dropout, 'UnempRate')\n",
    "ax.set_title('Unemployment Rate for Dropout by Gender')\n",
    "plt.show()\n",
    "\n",
    "# Inflation Rate for Dropout by Gender\n",
    "plt.figure(figsize=(10, 6))\n",
    "ax = sns.boxplot(x='Gender', y='InflationRate', data=df_dropout, showmeans=True,\n",
    "                 meanprops={\"marker\":\"o\", \"markerfacecolor\":\"blue\", \"markeredgecolor\":\"blue\"})\n",
    "add_mean_labels(ax, df_dropout, 'InflationRate')\n",
    "ax.set_title('Inflation Rate for Dropout by Gender')\n",
    "plt.show()\n",
    "\n",
    "# GDP for Dropout by Gender\n",
    "plt.figure(figsize=(10, 6))\n",
    "ax = sns.boxplot(x='Gender', y='GDP', data=df_dropout, showmeans=True,\n",
    "                 meanprops={\"marker\":\"o\", \"markerfacecolor\":\"green\", \"markeredgecolor\":\"green\"})\n",
    "add_mean_labels(ax, df_dropout, 'GDP')\n",
    "ax.set_title('GDP for Dropout by Gender')\n",
    "plt.show()\n"
   ]
  },
  {
   "cell_type": "code",
   "execution_count": null,
   "id": "94ce9330",
   "metadata": {},
   "outputs": [],
   "source": [
    "df_school['Displaced'].info()"
   ]
  },
  {
   "cell_type": "code",
   "execution_count": null,
   "id": "af49e5c9",
   "metadata": {},
   "outputs": [],
   "source": [
    "# Convert 'Target' into a binary variable where 1 is 'Dropout' and 0 is 'Graduate' or 'Enrolled'\n",
    "df_school['Target_Binary'] = df_school['Target'].apply(lambda x: 1 if x == 'Dropout' else 0)\n",
    "\n",
    "# Correct usage of unique() method\n",
    "unique_values_displaced = df_school['Displaced'].unique()\n",
    "\n",
    "# Make sure unique_values_displaced contains only 1s and 0s\n",
    "assert set(unique_values_displaced).issubset({0, 1}), \"Displaced column should only contain 0 and 1\"\n",
    "\n",
    "# Calculate dropout rates by gender and displacement status\n",
    "dropout_rates = df_school.groupby(['Gender', 'Displaced'])['Target_Binary'].mean() * 100\n",
    "dropout_rates = dropout_rates.reset_index(name='Dropout Rate')\n",
    "\n",
    "# Now, you can visualize this data to better understand the impact of displacement on dropout rates.\n",
    "# Create a bar plot to compare dropout rates by gender and displacement status\n",
    "plt.figure(figsize=(10, 6))\n",
    "bar_plot = sns.barplot(x='Gender', y='Dropout Rate', hue='Displaced', data=dropout_rates)\n",
    "\n",
    "# Add data labels\n",
    "for p in bar_plot.patches:\n",
    "    bar_plot.annotate(format(p.get_height(), '.1f'), \n",
    "                      (p.get_x() + p.get_width() / 2., p.get_height()), \n",
    "                      ha = 'center', va = 'center', \n",
    "                      xytext = (0, 9), \n",
    "                      textcoords = 'offset points')\n",
    "\n",
    "plt.title('Impact of Displacement on Dropout Rates by Gender')\n",
    "plt.xlabel('Gender')\n",
    "plt.ylabel('Dropout Rate (%)')\n",
    "plt.legend(title='Displaced', loc='upper right')\n",
    "plt.tight_layout()\n",
    "plt.show()"
   ]
  },
  {
   "cell_type": "code",
   "execution_count": null,
   "id": "dd58e833",
   "metadata": {},
   "outputs": [],
   "source": []
  }
 ],
 "metadata": {
  "kernelspec": {
   "display_name": "Python 3 (ipykernel)",
   "language": "python",
   "name": "python3"
  },
  "language_info": {
   "codemirror_mode": {
    "name": "ipython",
    "version": 3
   },
   "file_extension": ".py",
   "mimetype": "text/x-python",
   "name": "python",
   "nbconvert_exporter": "python",
   "pygments_lexer": "ipython3",
   "version": "3.9.12"
  }
 },
 "nbformat": 4,
 "nbformat_minor": 5
}
